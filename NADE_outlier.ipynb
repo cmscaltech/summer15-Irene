{
 "metadata": {
  "name": "",
  "signature": "sha256:c59bee0bf49400617260e8d8f1c699f1bc960a2a3eff5b8ba8b4d9d623dc6910"
 },
 "nbformat": 3,
 "nbformat_minor": 0,
 "worksheets": [
  {
   "cells": [
    {
     "cell_type": "code",
     "collapsed": false,
     "input": [
      "import os\n",
      "import numpy as np\n",
      "import pickle\n",
      "import random as r\n",
      "from oNADE import nade\n",
      "import oNADE\n",
      "import NADE\n",
      "import Data,Data.utils\n",
      "import Instrumentation\n",
      "import Optimization\n",
      "import h5py\n",
      "from scipy.stats import chisquare\n",
      "import time\n",
      "from matplotlib.colors import LogNorm\n",
      "from sklearn import preprocessing"
     ],
     "language": "python",
     "metadata": {},
     "outputs": [
      {
       "output_type": "stream",
       "stream": "stdout",
       "text": [
        "Couldn't import dot_parser, loading of dot files will not be possible.\n"
       ]
      }
     ],
     "prompt_number": 1
    },
    {
     "cell_type": "code",
     "collapsed": false,
     "input": [
      "## Getting the data with zeros \n",
      "bkg_list= [\n",
      "'cat_v1_QCD_Pt-15to30_Tune4C_13TeV_pythia8_castor_PU20bx25_POSTLS170_V5.pkl',\n",
      "'cat_v1_WJetsToLNu_HT-400to600_Tune4C_13TeV-madgraph-tauola_PU20bx25_POSTLS170_V5.pkl',\n",
      "'cat_v1_ZJetsToNuNu_HT-200to400_Tune4C_13TeV-madgraph-tauola_PU20bx25_POSTLS170_V5.pkl',\n",
      "]\n",
      "\n",
      "signal_list=[\n",
      "'cat_v1_SMS-T1tttt_2J_mGl-1500_mLSP-100_Tune4C_13TeV-madgraph-tauola_PU20bx25_POSTLS170_V5.pkl'\n",
      "]\n",
      "\n",
      "data_list = signal_list + bkg_list \n",
      "\n",
      "feature_list = ['jets_pt:0','jets_pt:1','jets_pt:2',\n",
      "                'razor_MR','razor_R2',\n",
      "                    'electrons_Pt:0','electrons_Pt:1',\n",
      "                          'muons_Pt:0','muons_Pt:1',\n",
      "                          'jets_eta:0','jets_eta:1','jets_eta:2',\n",
      "                          'jets_mass:0','jets_mass:1','jets_mass:2',\n",
      "                          ]\n",
      "\n",
      "labels = map(lambda pkn: pkn.split('_')[2], data_list)\n",
      "print labels"
     ],
     "language": "python",
     "metadata": {},
     "outputs": [
      {
       "output_type": "stream",
       "stream": "stdout",
       "text": [
        "['SMS-T1tttt', 'QCD', 'WJetsToLNu', 'ZJetsToNuNu']\n"
       ]
      }
     ],
     "prompt_number": 2
    },
    {
     "cell_type": "code",
     "collapsed": false,
     "input": [
      "# Load the data into list of data and remove the evil muons\n",
      "nm_data = {}\n",
      "muons_index = [7, 8]\n",
      "feature_list = np.delete(feature_list, muons_index)\n",
      "n_features = len(feature_list)\n",
      "\n",
      "for (i, label) in enumerate(labels): \n",
      "    print data_list[i] \n",
      "    nm_data[label] = pickle.load(open('../Data/%s'%data_list[i]))\n",
      "    nm_data[label] = np.delete(nm_data[label], muons_index, 1) \n",
      "    \n",
      "print nm_data[labels[0]].shape"
     ],
     "language": "python",
     "metadata": {},
     "outputs": [
      {
       "output_type": "stream",
       "stream": "stdout",
       "text": [
        "cat_v1_SMS-T1tttt_2J_mGl-1500_mLSP-100_Tune4C_13TeV-madgraph-tauola_PU20bx25_POSTLS170_V5.pkl\n",
        "cat_v1_QCD_Pt-15to30_Tune4C_13TeV_pythia8_castor_PU20bx25_POSTLS170_V5.pkl"
       ]
      },
      {
       "output_type": "stream",
       "stream": "stdout",
       "text": [
        "\n",
        "cat_v1_WJetsToLNu_HT-400to600_Tune4C_13TeV-madgraph-tauola_PU20bx25_POSTLS170_V5.pkl\n",
        "cat_v1_ZJetsToNuNu_HT-200to400_Tune4C_13TeV-madgraph-tauola_PU20bx25_POSTLS170_V5.pkl"
       ]
      },
      {
       "output_type": "stream",
       "stream": "stdout",
       "text": [
        "\n",
        "(10000, 13)"
       ]
      },
      {
       "output_type": "stream",
       "stream": "stdout",
       "text": [
        "\n"
       ]
      }
     ],
     "prompt_number": 3
    },
    {
     "cell_type": "code",
     "collapsed": false,
     "input": [
      "# Split the data into training set and testing set according to ratio\n",
      "def split(dataset, ratio = 0.5): \n",
      "    dim = len(dataset)\n",
      "    trndata = dataset[0:ratio * dim, :] \n",
      "    tstdata = dataset[ratio * dim + 1: dim -1, :] \n",
      "    return trndata, tstdata\n",
      "\n",
      "# Replace all the zeros\n",
      "def replace_zeros(dataset, mus = None, sigmas = None): \n",
      "    samples = dataset.shape[0] \n",
      "    features = dataset.shape[1] \n",
      "    maxs = dataset.max(0)\n",
      "    mmax = maxs.max()\n",
      "    dataset[dataset == 0] = mmax\n",
      "    mins = dataset.min(0)\n",
      "    if mus!= None and sigmas!= None:\n",
      "        means = mus\n",
      "        stds = sigmas\n",
      "    else:\n",
      "        stds = (maxs - mins)/6\n",
      "        means = 2 * mins - maxs\n",
      "    for i in range(features): \n",
      "        for j in range(samples):\n",
      "            if dataset[j, i] == mmax:\n",
      "                dataset[j, i] = np.random.normal(means[i], stds[i])\n",
      "    return (mins, means, stds, dataset)\n",
      "\n",
      "# Create nade data from hdf5 files\n",
      "def create(src):\n",
      "    if not os.path.isfile(src):\n",
      "        print 'not a file'\n",
      "        return (None,0,0)\n",
      "    \n",
      "    f=h5py.File(src)\n",
      "    p5=f.get(\"final_model\").get(\"parameters\")\n",
      "    means=[]\n",
      "    rmss=[]\n",
      "    if f.get('normalisation/mean'):\n",
      "        means = f.get('normalisation/mean').value\n",
      "    if f.get('normalisation/std'):\n",
      "        rmss = f.get('normalisation/std').value\n",
      "    p={}\n",
      "    for k in p5.keys():\n",
      "        p[k] = p5.get(k).value\n",
      "\n",
      "    clsn = p.get(\"__class__\")\n",
      "    cls = getattr(NADE,clsn)\n",
      "    nade = cls.create_from_params( p )\n",
      "    return (nade,means,rmss)"
     ],
     "language": "python",
     "metadata": {},
     "outputs": [],
     "prompt_number": 4
    },
    {
     "cell_type": "code",
     "collapsed": false,
     "input": [
      "# Select a certain number of samples\n",
      "index = 2\n",
      "signal_ratio = 0.001\n",
      "training_ratio = 0.2\n",
      "\n",
      "# get the background part\n",
      "trndata, tstdata = split(nm_data[labels[index]], training_ratio)\n",
      "\n",
      "mins, mus, sigmas, trndata = replace_zeros(trndata)\n",
      "a, b, c, tstdata = replace_zeros(tstdata, mus, sigmas)\n",
      "\n",
      "# get the signal part\n",
      "signal, rest = split(nm_data[labels[0]], signal_ratio * 2)\n",
      "signal_tst, signal_cv = split(signal)\n",
      "\n",
      "a, b, c, signal_tst = replace_zeros(signal_tst, mus, sigmas)\n",
      "a, b, c, signal_cv = replace_zeros(signal_cv, mus, sigmas)\n",
      "print signal_tst[0]\n",
      "print signal_cv[0]"
     ],
     "language": "python",
     "metadata": {},
     "outputs": []
    },
    {
     "cell_type": "code",
     "collapsed": false,
     "input": [
      "io_trainingstats = '../Data/trndata.hdf5'\n",
      "f = h5py.File(io_trainingstats, 'w')\n",
      "f.create_dataset('trndata', data = trndata)\n",
      "f.create_dataset('mus', data = mus)\n",
      "f.create_dataset('sigmas', data = sigmas)\n",
      "f.create_dataset('mins', data = mins)\n",
      "f.close() \n",
      "\n",
      "io_trndata = '../Data/trndata.pkl'\n",
      "pickle.dump(trndata, open(io_trndata, 'w'))"
     ],
     "language": "python",
     "metadata": {},
     "outputs": [
      {
       "output_type": "stream",
       "stream": "stdout",
       "text": [
        "[  4.01798126e+02   3.31330933e+02   1.45086258e+02  -2.74113888e+05\n",
        "   1.69725249e-01   3.18353729e+01  -1.50231842e+02   5.38282096e-01\n",
        "   9.33282137e-01   9.58573163e-01   7.87444611e+01   6.07217407e+01\n",
        "   1.33632727e+01]\n",
        "[  1.77491409e+02   1.74063721e+02   1.57757889e+02   1.20182707e+03\n",
        "   3.04277170e-02   1.26723770e+02   3.68696594e+01  -4.59208906e-01\n",
        "   9.23044384e-01   3.76421362e-02   1.33575974e+01   3.01111526e+01\n",
        "   1.74775028e+01]\n"
       ]
      }
     ],
     "prompt_number": 15
    },
    {
     "cell_type": "code",
     "collapsed": false,
     "input": [
      "print tstdata.shape"
     ],
     "language": "python",
     "metadata": {},
     "outputs": [
      {
       "output_type": "stream",
       "stream": "stdout",
       "text": [
        "(7998, 13)\n"
       ]
      }
     ],
     "prompt_number": 44
    },
    {
     "cell_type": "code",
     "collapsed": false,
     "input": [
      "h5_trndata = '../Data/h5trndata.hdf5'\n",
      "f = h5py.File(h5_trndata, 'w')\n",
      "f.create_group('train').create_dataset('data', data = trndata)\n",
      "f.create_group('validation').create_dataset('data', data = tstdata)\n",
      "f.create_group('test').create_dataset('data', data = tstdata)\n",
      "f.close() "
     ],
     "language": "python",
     "metadata": {},
     "outputs": [],
     "prompt_number": 46
    },
    {
     "cell_type": "code",
     "collapsed": false,
     "input": [
      "# rm ../Data/trndata.hdf5"
     ],
     "language": "python",
     "metadata": {},
     "outputs": [],
     "prompt_number": 13
    },
    {
     "cell_type": "code",
     "collapsed": false,
     "input": [
      "hlayers = 2\n",
      "lr = 0.05\n",
      "epochs = 20 \n",
      "\n",
      "wjetsNade = nade(label = 'Wjetsh5', dataset = h5_trndata, hlayers = hlayers, lr = lr, epochs = epochs)\n",
      "wjetsNade.run()"
     ],
     "language": "python",
     "metadata": {},
     "outputs": [
      {
       "output_type": "stream",
       "stream": "stdout",
       "text": [
        "['pretraining_1', 1]\n",
        "\ttraining_loss : 20.6293612201\n",
        "\tconfiguration : {'learning_rate': array(0.05), 'updates_per_epoch': 100, 'momentum': array(0.0), 'minibatch_size': 100}\n",
        "\ttimestamp : [1438012371.104061, 6.409991979598999]\n",
        "['pretraining_1', 2]"
       ]
      },
      {
       "output_type": "stream",
       "stream": "stdout",
       "text": [
        "\n",
        "\ttraining_loss : 15.0703759812\n",
        "\tconfiguration : {'learning_rate': array(0.04166666666666667), 'updates_per_epoch': 100, 'momentum': array(0.9), 'minibatch_size': 100}\n",
        "\ttimestamp : [1438012371.923072, 0.8190112113952637]\n",
        "['pretraining_1', 3]"
       ]
      },
      {
       "output_type": "stream",
       "stream": "stdout",
       "text": [
        "\n",
        "\ttraining_loss : 11.5881599106\n",
        "\tconfiguration : {'learning_rate': array(0.03333333333333334), 'updates_per_epoch': 100, 'momentum': array(0.9), 'minibatch_size': 100}\n",
        "\ttimestamp : [1438012372.797064, 0.8739919662475586]\n",
        "['pretraining_1', 4]"
       ]
      },
      {
       "output_type": "stream",
       "stream": "stdout",
       "text": [
        "\n",
        "\ttraining_loss : 10.3814433471\n",
        "\tconfiguration : {'learning_rate': array(0.02500000000000001), 'updates_per_epoch': 100, 'momentum': array(0.9), 'minibatch_size': 100}\n",
        "\ttimestamp : [1438012373.708065, 0.9110009670257568]\n",
        "['pretraining_1', 5]"
       ]
      },
      {
       "output_type": "stream",
       "stream": "stdout",
       "text": [
        "\n",
        "\ttraining_loss : 9.86147672258\n",
        "\tconfiguration : {'learning_rate': array(0.016666666666666677), 'updates_per_epoch': 100, 'momentum': array(0.9), 'minibatch_size': 100}\n",
        "\ttimestamp : [1438012374.631061, 0.9229960441589355]\n",
        "['pretraining_2', 1]"
       ]
      },
      {
       "output_type": "stream",
       "stream": "stdout",
       "text": [
        "\n",
        "\ttraining_loss : 10.7079489332\n",
        "\tconfiguration : {'learning_rate': array(0.05), 'updates_per_epoch': 100, 'momentum': array(0.0), 'minibatch_size': 100}\n",
        "\ttimestamp : [1438012382.48206, 6.847998857498169]\n",
        "['pretraining_2', 2]"
       ]
      },
      {
       "output_type": "stream",
       "stream": "stdout",
       "text": [
        "\n",
        "\ttraining_loss : 10.5611546299\n",
        "\tconfiguration : {'learning_rate': array(0.04166666666666667), 'updates_per_epoch': 100, 'momentum': array(0.9), 'minibatch_size': 100}\n",
        "\ttimestamp : [1438012383.48606, 1.003999948501587]\n",
        "['pretraining_2', 3]"
       ]
      },
      {
       "output_type": "stream",
       "stream": "stdout",
       "text": [
        "\n",
        "\ttraining_loss : 9.97652294516\n",
        "\tconfiguration : {'learning_rate': array(0.03333333333333334), 'updates_per_epoch': 100, 'momentum': array(0.9), 'minibatch_size': 100}\n",
        "\ttimestamp : [1438012384.514069, 1.0280091762542725]\n",
        "['pretraining_2', 4]"
       ]
      },
      {
       "output_type": "stream",
       "stream": "stdout",
       "text": [
        "\n",
        "\ttraining_loss : 10.2506359012\n",
        "\tconfiguration : {'learning_rate': array(0.02500000000000001), 'updates_per_epoch': 100, 'momentum': array(0.9), 'minibatch_size': 100}\n",
        "\ttimestamp : [1438012385.60906, 1.0949909687042236]\n",
        "['pretraining_2', 5]"
       ]
      },
      {
       "output_type": "stream",
       "stream": "stdout",
       "text": [
        "\n",
        "\ttraining_loss : 9.72632651821\n",
        "\tconfiguration : {'learning_rate': array(0.016666666666666677), 'updates_per_epoch': 100, 'momentum': array(0.9), 'minibatch_size': 100}\n",
        "\ttimestamp : [1438012386.646062, 1.0370018482208252]\n",
        "['training', 1]"
       ]
      },
      {
       "output_type": "stream",
       "stream": "stdout",
       "text": [
        "\n",
        "\ttraining_loss : 9.49969436394\n",
        "\tvalidation_loss : {'estimation': 9.4865381808820928, 'se': 0.019190426783898807}"
       ]
      },
      {
       "output_type": "stream",
       "stream": "stdout",
       "text": [
        "\n",
        "\tconfiguration : {'learning_rate': array(0.05), 'updates_per_epoch': 100, 'momentum': array(0.0), 'minibatch_size': 100}\n",
        "\ttimestamp : [1438012420.026061, 33.37899613380432]\n",
        "['training', 2]"
       ]
      },
      {
       "output_type": "stream",
       "stream": "stdout",
       "text": [
        "\n",
        "\ttraining_loss : 9.84197361886\n",
        "\tvalidation_loss : {'estimation': 10.056472849309323, 'se': 0.018956735307025262}"
       ]
      },
      {
       "output_type": "stream",
       "stream": "stdout",
       "text": [
        "\n",
        "\tconfiguration : {'learning_rate': array(0.04761904761904762), 'updates_per_epoch': 100, 'momentum': array(0.9), 'minibatch_size': 100}\n",
        "\ttimestamp : [1438012447.280061, 27.253999948501587]\n",
        "['training', 3]"
       ]
      },
      {
       "output_type": "stream",
       "stream": "stdout",
       "text": [
        "\n",
        "\ttraining_loss : 9.77456881013\n",
        "\tvalidation_loss : {'estimation': 9.9135830664192852, 'se': 0.020235641489458528}"
       ]
      },
      {
       "output_type": "stream",
       "stream": "stdout",
       "text": [
        "\n",
        "\tconfiguration : {'learning_rate': array(0.045238095238095244), 'updates_per_epoch': 100, 'momentum': array(0.9), 'minibatch_size': 100}\n",
        "\ttimestamp : [1438012474.622061, 27.342000007629395]\n",
        "['training', 4]"
       ]
      },
      {
       "output_type": "stream",
       "stream": "stdout",
       "text": [
        "\n",
        "\ttraining_loss : 9.639588809\n",
        "\tvalidation_loss : {'estimation': 9.8027190945425797, 'se': 0.018549619020661982}"
       ]
      },
      {
       "output_type": "stream",
       "stream": "stdout",
       "text": [
        "\n",
        "\tconfiguration : {'learning_rate': array(0.042857142857142864), 'updates_per_epoch': 100, 'momentum': array(0.9), 'minibatch_size': 100}\n",
        "\ttimestamp : [1438012503.17206, 28.549998998641968]\n",
        "['training', 5]"
       ]
      },
      {
       "output_type": "stream",
       "stream": "stdout",
       "text": [
        "\n",
        "\ttraining_loss : 9.78983732594\n",
        "\tvalidation_loss : {'estimation': 10.063447925102331, 'se': 0.018050897401619366}"
       ]
      },
      {
       "output_type": "stream",
       "stream": "stdout",
       "text": [
        "\n",
        "\tconfiguration : {'learning_rate': array(0.040476190476190485), 'updates_per_epoch': 100, 'momentum': array(0.9), 'minibatch_size': 100}\n",
        "\ttimestamp : [1438012531.696065, 28.52400493621826]\n",
        "['training', 6]"
       ]
      },
      {
       "output_type": "stream",
       "stream": "stdout",
       "text": [
        "\n",
        "\ttraining_loss : 9.76136271229\n",
        "\tvalidation_loss : {'estimation': 9.5395865339491319, 'se': 0.018741845707218749}"
       ]
      },
      {
       "output_type": "stream",
       "stream": "stdout",
       "text": [
        "\n",
        "\tconfiguration : {'learning_rate': array(0.038095238095238106), 'updates_per_epoch': 100, 'momentum': array(0.9), 'minibatch_size': 100}\n",
        "\ttimestamp : [1438012558.883065, 27.187000036239624]\n",
        "['training', 7]"
       ]
      },
      {
       "output_type": "stream",
       "stream": "stdout",
       "text": [
        "\n",
        "\ttraining_loss : 9.70693858957\n",
        "\tvalidation_loss : {'estimation': 10.083564253992288, 'se': 0.017292978623413294}"
       ]
      },
      {
       "output_type": "stream",
       "stream": "stdout",
       "text": [
        "\n",
        "\tconfiguration : {'learning_rate': array(0.035714285714285726), 'updates_per_epoch': 100, 'momentum': array(0.9), 'minibatch_size': 100}\n",
        "\ttimestamp : [1438012585.985065, 27.10199999809265]\n",
        "['training', 8]"
       ]
      },
      {
       "output_type": "stream",
       "stream": "stdout",
       "text": [
        "\n",
        "\ttraining_loss : 9.6318124473\n",
        "\tvalidation_loss : {'estimation': 9.8008806882086787, 'se': 0.018510049485261505}"
       ]
      },
      {
       "output_type": "stream",
       "stream": "stdout",
       "text": [
        "\n",
        "\tconfiguration : {'learning_rate': array(0.03333333333333335), 'updates_per_epoch': 100, 'momentum': array(0.9), 'minibatch_size': 100}\n",
        "\ttimestamp : [1438012614.393063, 28.407998085021973]\n",
        "['training', 9]"
       ]
      },
      {
       "output_type": "stream",
       "stream": "stdout",
       "text": [
        "\n",
        "\ttraining_loss : 9.39219509673\n",
        "\tvalidation_loss : {'estimation': 9.5664471404963827, 'se': 0.019791352798886653}"
       ]
      },
      {
       "output_type": "stream",
       "stream": "stdout",
       "text": [
        "\n",
        "\tconfiguration : {'learning_rate': array(0.030952380952380967), 'updates_per_epoch': 100, 'momentum': array(0.9), 'minibatch_size': 100}\n",
        "\ttimestamp : [1438012644.511064, 30.118000984191895]\n",
        "['training', 10]"
       ]
      },
      {
       "output_type": "stream",
       "stream": "stdout",
       "text": [
        "\n",
        "\ttraining_loss : 9.36253769472\n",
        "\tvalidation_loss : {'estimation': 9.3503313685687459, 'se': 0.019331923572454578}"
       ]
      },
      {
       "output_type": "stream",
       "stream": "stdout",
       "text": [
        "\n",
        "\tconfiguration : {'learning_rate': array(0.028571428571428588), 'updates_per_epoch': 100, 'momentum': array(0.9), 'minibatch_size': 100}\n",
        "\ttimestamp : [1438012671.768063, 27.256999015808105]\n",
        "['training', 11]"
       ]
      },
      {
       "output_type": "stream",
       "stream": "stdout",
       "text": [
        "\n",
        "\ttraining_loss : 9.24631538278\n",
        "\tvalidation_loss : {'estimation': 9.5340047646846529, 'se': 0.01930233256784868}"
       ]
      },
      {
       "output_type": "stream",
       "stream": "stdout",
       "text": [
        "\n",
        "\tconfiguration : {'learning_rate': array(0.02619047619047621), 'updates_per_epoch': 100, 'momentum': array(0.9), 'minibatch_size': 100}\n",
        "\ttimestamp : [1438012699.912066, 28.14400291442871]\n",
        "['training', 12]"
       ]
      },
      {
       "output_type": "stream",
       "stream": "stdout",
       "text": [
        "\n",
        "\ttraining_loss : 9.17677664066\n",
        "\tvalidation_loss : {'estimation': 9.3110754082192635, 'se': 0.019033291434006873}"
       ]
      },
      {
       "output_type": "stream",
       "stream": "stdout",
       "text": [
        "\n",
        "\tconfiguration : {'learning_rate': array(0.02380952380952383), 'updates_per_epoch': 100, 'momentum': array(0.9), 'minibatch_size': 100}\n",
        "\ttimestamp : [1438012727.282063, 27.369997024536133]\n",
        "['training', 13]"
       ]
      },
      {
       "output_type": "stream",
       "stream": "stdout",
       "text": [
        "\n",
        "\ttraining_loss : 9.24678366766\n",
        "\tvalidation_loss : {'estimation': 9.3616915848539879, 'se': 0.018789455287421791}"
       ]
      },
      {
       "output_type": "stream",
       "stream": "stdout",
       "text": [
        "\n",
        "\tconfiguration : {'learning_rate': array(0.02142857142857145), 'updates_per_epoch': 100, 'momentum': array(0.9), 'minibatch_size': 100}\n",
        "\ttimestamp : [1438012756.054218, 28.772155046463013]\n",
        "['training', 14]"
       ]
      },
      {
       "output_type": "stream",
       "stream": "stdout",
       "text": [
        "\n",
        "\ttraining_loss : 8.95969894126\n",
        "\tvalidation_loss : {'estimation': 9.2337434410768395, 'se': 0.018587083248831879}"
       ]
      },
      {
       "output_type": "stream",
       "stream": "stdout",
       "text": [
        "\n",
        "\tconfiguration : {'learning_rate': array(0.01904761904761907), 'updates_per_epoch': 100, 'momentum': array(0.9), 'minibatch_size': 100}\n",
        "\ttimestamp : [1438012783.839191, 27.78497290611267]\n",
        "['training', 15]"
       ]
      },
      {
       "output_type": "stream",
       "stream": "stdout",
       "text": [
        "\n",
        "\ttraining_loss : 9.0259385036\n",
        "\tvalidation_loss : {'estimation': 9.4596160561349709, 'se': 0.018264493346154192}"
       ]
      },
      {
       "output_type": "stream",
       "stream": "stdout",
       "text": [
        "\n",
        "\tconfiguration : {'learning_rate': array(0.01666666666666669), 'updates_per_epoch': 100, 'momentum': array(0.9), 'minibatch_size': 100}\n",
        "\ttimestamp : [1438012810.233065, 26.393873929977417]\n",
        "['training', 16]"
       ]
      },
      {
       "output_type": "stream",
       "stream": "stdout",
       "text": [
        "\n",
        "\ttraining_loss : 9.0033971316\n",
        "\tvalidation_loss : {'estimation': 9.2090536727381025, 'se': 0.019683647693365287}"
       ]
      },
      {
       "output_type": "stream",
       "stream": "stdout",
       "text": [
        "\n",
        "\tconfiguration : {'learning_rate': array(0.01428571428571431), 'updates_per_epoch': 100, 'momentum': array(0.9), 'minibatch_size': 100}\n",
        "\ttimestamp : [1438012838.152066, 27.91900110244751]\n",
        "['training', 17]"
       ]
      },
      {
       "output_type": "stream",
       "stream": "stdout",
       "text": [
        "\n",
        "\ttraining_loss : 8.93181107682\n",
        "\tvalidation_loss : {'estimation': 9.0524183127361102, 'se': 0.019668082277339086}"
       ]
      },
      {
       "output_type": "stream",
       "stream": "stdout",
       "text": [
        "\n",
        "\tconfiguration : {'learning_rate': array(0.011904761904761928), 'updates_per_epoch': 100, 'momentum': array(0.9), 'minibatch_size': 100}\n",
        "\ttimestamp : [1438012867.326714, 29.17464804649353]\n",
        "['training', 18]"
       ]
      },
      {
       "output_type": "stream",
       "stream": "stdout",
       "text": [
        "\n",
        "\ttraining_loss : 8.83395791684\n",
        "\tvalidation_loss : {'estimation': 8.935129151509301, 'se': 0.019003720607669278}"
       ]
      },
      {
       "output_type": "stream",
       "stream": "stdout",
       "text": [
        "\n",
        "\tconfiguration : {'learning_rate': array(0.009523809523809547), 'updates_per_epoch': 100, 'momentum': array(0.9), 'minibatch_size': 100}\n",
        "\ttimestamp : [1438012894.205068, 26.8783540725708]\n",
        "['training', 19]"
       ]
      },
      {
       "output_type": "stream",
       "stream": "stdout",
       "text": [
        "\n",
        "\ttraining_loss : 8.65542650711\n",
        "\tvalidation_loss : {'estimation': 8.8646707197188785, 'se': 0.019393162975896439}"
       ]
      },
      {
       "output_type": "stream",
       "stream": "stdout",
       "text": [
        "\n",
        "\tconfiguration : {'learning_rate': array(0.007142857142857166), 'updates_per_epoch': 100, 'momentum': array(0.9), 'minibatch_size': 100}\n",
        "\ttimestamp : [1438012928.766063, 34.56099486351013]\n",
        "['training', 20]"
       ]
      },
      {
       "output_type": "stream",
       "stream": "stdout",
       "text": [
        "\n",
        "\ttraining_loss : 8.52861245376\n",
        "\tvalidation_loss : {'estimation': 8.8315865175349408, 'se': 0.019325523898839164}"
       ]
      },
      {
       "output_type": "stream",
       "stream": "stdout",
       "text": [
        "\n",
        "\tconfiguration : {'learning_rate': array(0.004761904761904785), 'updates_per_epoch': 100, 'momentum': array(0.9), 'minibatch_size': 100}\n",
        "\ttimestamp : [1438012985.334063, 56.568000078201294]\n",
        "[]"
       ]
      },
      {
       "output_type": "stream",
       "stream": "stdout",
       "text": [
        "\n",
        "\t : Config {'q': 20, 'h': 100, 'wd': 0.02, 'lr': 0.05}\n",
        "\t : Training average loss\t-8.449413"
       ]
      },
      {
       "output_type": "stream",
       "stream": "stdout",
       "text": [
        "\n",
        "\t : *Validation mean\t-8.772863 \t(se: 0.022011)"
       ]
      },
      {
       "output_type": "stream",
       "stream": "stdout",
       "text": [
        "\n",
        "\t : Validation detail #1 mean\t-8.760826 \t(se: 0.042337)\n",
        "\t : Validation detail #2 mean\t-8.657294 \t(se: 0.040753)\n",
        "\t : Validation detail #3 mean\t-8.851436 \t(se: 0.041465)\n",
        "\t : Validation detail #4 mean\t-8.864830 \t(se: 0.042184)\n",
        "\t : Validation detail #5 mean\t-8.801036 \t(se: 0.041616)\n",
        "\t : Validation detail #6 mean\t-8.742886 \t(se: 0.041418)\n",
        "\t : Validation detail #7 mean\t-8.701350 \t(se: 0.041486)\n",
        "\t : Validation detail #8 mean\t-8.803717 \t(se: 0.041186)\n",
        "\t : Validation detail #9 mean\t-8.834724 \t(se: 0.042226)\n",
        "\t : Validation detail #10 mean\t-8.710532 \t(se: 0.040973)\n",
        "\t : *Test mean\t-8.772863 \t(se: 0.022011)\n",
        "\t : Test detail #1 mean\t-8.760826 \t(se: 0.042337)\n",
        "\t : Test detail #2 mean\t-8.657294 \t(se: 0.040753)\n",
        "\t : Test detail #3 mean\t-8.851436 \t(se: 0.041465)\n",
        "\t : Test detail #4 mean\t-8.864830 \t(se: 0.042184)\n",
        "\t : Test detail #5 mean\t-8.801036 \t(se: 0.041616)\n",
        "\t : Test detail #6 mean\t-8.742886 \t(se: 0.041418)\n",
        "\t : Test detail #7 mean\t-8.701350 \t(se: 0.041486)\n",
        "\t : Test detail #8 mean\t-8.803717 \t(se: 0.041186)\n",
        "\t : Test detail #9 mean\t-8.834724 \t(se: 0.042226)\n",
        "\t : Test detail #10 mean\t-8.710532 \t(se: 0.040973)\n"
       ]
      },
      {
       "output_type": "stream",
       "stream": "stderr",
       "text": [
        "Exception AttributeError: \"'BigDataset' object has no attribute 'f'\" in <bound method BigDataset.__del__ of <Data.BigDataset.BigDataset object at 0x7f470be04b50>> ignored\n"
       ]
      }
     ],
     "prompt_number": 47
    },
    {
     "cell_type": "code",
     "collapsed": false,
     "input": [
      "hlayers = 2\n",
      "lr = 0.05\n",
      "epochs = 20 \n",
      "\n",
      "wjetsNade = nade(label = 'WjetswithSignal', dataset = io_trndata, hlayers = hlayers, lr = lr, epochs = epochs)\n",
      "wjetsNade.run()"
     ],
     "language": "python",
     "metadata": {},
     "outputs": [
      {
       "output_type": "stream",
       "stream": "stdout",
       "text": [
        "['pretraining_1', 1]\n",
        "\ttraining_loss : 20.3263405238\n",
        "\tconfiguration : {'learning_rate': array(0.05), 'updates_per_epoch': 100, 'momentum': array(0.0), 'minibatch_size': 100}\n",
        "\ttimestamp : [1437846121.692086, 15.585000991821289]\n",
        "['pretraining_1', 2]"
       ]
      },
      {
       "output_type": "stream",
       "stream": "stdout",
       "text": [
        "\n",
        "\ttraining_loss : 13.6183156214\n",
        "\tconfiguration : {'learning_rate': array(0.04166666666666667), 'updates_per_epoch': 100, 'momentum': array(0.9), 'minibatch_size': 100}\n",
        "\ttimestamp : [1437846123.682085, 1.9899990558624268]\n",
        "['pretraining_1', 3]"
       ]
      },
      {
       "output_type": "stream",
       "stream": "stdout",
       "text": [
        "\n",
        "\ttraining_loss : 11.6787558875\n",
        "\tconfiguration : {'learning_rate': array(0.03333333333333334), 'updates_per_epoch': 100, 'momentum': array(0.9), 'minibatch_size': 100}\n",
        "\ttimestamp : [1437846125.742168, 2.0600829124450684]\n",
        "['pretraining_1', 4]"
       ]
      },
      {
       "output_type": "stream",
       "stream": "stdout",
       "text": [
        "\n",
        "\ttraining_loss : 10.3198864333\n",
        "\tconfiguration : {'learning_rate': array(0.02500000000000001), 'updates_per_epoch': 100, 'momentum': array(0.9), 'minibatch_size': 100}\n",
        "\ttimestamp : [1437846127.7473, 2.005131959915161]\n",
        "['pretraining_1', 5]"
       ]
      },
      {
       "output_type": "stream",
       "stream": "stdout",
       "text": [
        "\n",
        "\ttraining_loss : 9.49630381017\n",
        "\tconfiguration : {'learning_rate': array(0.016666666666666677), 'updates_per_epoch': 100, 'momentum': array(0.9), 'minibatch_size': 100}\n",
        "\ttimestamp : [1437846129.837085, 2.089785099029541]\n",
        "['pretraining_2', 1]"
       ]
      },
      {
       "output_type": "stream",
       "stream": "stdout",
       "text": [
        "\n",
        "\ttraining_loss : 11.0308213076\n",
        "\tconfiguration : {'learning_rate': array(0.05), 'updates_per_epoch': 100, 'momentum': array(0.0), 'minibatch_size': 100}\n",
        "\ttimestamp : [1437846142.79954, 11.31445598602295]\n",
        "['pretraining_2', 2]"
       ]
      },
      {
       "output_type": "stream",
       "stream": "stdout",
       "text": [
        "\n",
        "\ttraining_loss : 10.5051207797\n",
        "\tconfiguration : {'learning_rate': array(0.04166666666666667), 'updates_per_epoch': 100, 'momentum': array(0.9), 'minibatch_size': 100}\n",
        "\ttimestamp : [1437846143.831661, 1.032120943069458]\n",
        "['pretraining_2', 3]"
       ]
      },
      {
       "output_type": "stream",
       "stream": "stdout",
       "text": [
        "\n",
        "\ttraining_loss : 9.72336637874\n",
        "\tconfiguration : {'learning_rate': array(0.03333333333333334), 'updates_per_epoch': 100, 'momentum': array(0.9), 'minibatch_size': 100}\n",
        "\ttimestamp : [1437846144.893329, 1.0616679191589355]\n",
        "['pretraining_2', 4]"
       ]
      },
      {
       "output_type": "stream",
       "stream": "stdout",
       "text": [
        "\n",
        "\ttraining_loss : 9.32163537818\n",
        "\tconfiguration : {'learning_rate': array(0.02500000000000001), 'updates_per_epoch': 100, 'momentum': array(0.9), 'minibatch_size': 100}\n",
        "\ttimestamp : [1437846145.975878, 1.0825490951538086]\n",
        "['pretraining_2', 5]"
       ]
      },
      {
       "output_type": "stream",
       "stream": "stdout",
       "text": [
        "\n",
        "\ttraining_loss : 8.97684212777\n",
        "\tconfiguration : {'learning_rate': array(0.016666666666666677), 'updates_per_epoch': 100, 'momentum': array(0.9), 'minibatch_size': 100}\n",
        "\ttimestamp : [1437846147.059466, 1.083587884902954]\n",
        "['training', 1]"
       ]
      },
      {
       "output_type": "stream",
       "stream": "stdout",
       "text": [
        "\n",
        "\ttraining_loss : 9.13597253943\n",
        "\tvalidation_loss : {'estimation': 9.3049588764661664, 'se': 0.08094285954119633}"
       ]
      },
      {
       "output_type": "stream",
       "stream": "stdout",
       "text": [
        "\n",
        "\tconfiguration : {'learning_rate': array(0.05), 'updates_per_epoch': 100, 'momentum': array(0.0), 'minibatch_size': 100}\n",
        "\ttimestamp : [1437846180.393085, 33.33168005943298]\n",
        "['training', 2]"
       ]
      },
      {
       "output_type": "stream",
       "stream": "stdout",
       "text": [
        "\n",
        "\ttraining_loss : 9.68784885724\n",
        "\tvalidation_loss : {'estimation': 9.7748643879209549, 'se': 0.085343001588561188}"
       ]
      },
      {
       "output_type": "stream",
       "stream": "stdout",
       "text": [
        "\n",
        "\tconfiguration : {'learning_rate': array(0.04761904761904762), 'updates_per_epoch': 100, 'momentum': array(0.9), 'minibatch_size': 100}\n",
        "\ttimestamp : [1437846198.101206, 17.708121061325073]\n",
        "['training', 3]"
       ]
      },
      {
       "output_type": "stream",
       "stream": "stdout",
       "text": [
        "\n",
        "\ttraining_loss : 9.55188850771\n",
        "\tvalidation_loss : {'estimation': 9.7193702552762957, 'se': 0.081856285314733754}"
       ]
      },
      {
       "output_type": "stream",
       "stream": "stdout",
       "text": [
        "\n",
        "\tconfiguration : {'learning_rate': array(0.045238095238095244), 'updates_per_epoch': 100, 'momentum': array(0.9), 'minibatch_size': 100}\n",
        "\ttimestamp : [1437846217.964824, 19.86361789703369]\n",
        "['training', 4]"
       ]
      },
      {
       "output_type": "stream",
       "stream": "stdout",
       "text": [
        "\n",
        "\ttraining_loss : 9.331402489\n",
        "\tvalidation_loss : {'estimation': 9.2399713975836466, 'se': 0.090015906774100068}"
       ]
      },
      {
       "output_type": "stream",
       "stream": "stdout",
       "text": [
        "\n",
        "\tconfiguration : {'learning_rate': array(0.042857142857142864), 'updates_per_epoch': 100, 'momentum': array(0.9), 'minibatch_size': 100}\n",
        "\ttimestamp : [1437846243.124081, 25.15925693511963]\n",
        "['training', 5]"
       ]
      },
      {
       "output_type": "stream",
       "stream": "stdout",
       "text": [
        "\n",
        "\ttraining_loss : 9.24787216275\n",
        "\tvalidation_loss : {'estimation': 9.0655630272973333, 'se': 0.091598003003858439}"
       ]
      },
      {
       "output_type": "stream",
       "stream": "stdout",
       "text": [
        "\n",
        "\tconfiguration : {'learning_rate': array(0.040476190476190485), 'updates_per_epoch': 100, 'momentum': array(0.9), 'minibatch_size': 100}\n",
        "\ttimestamp : [1437846273.873087, 30.749006032943726]\n",
        "['training', 6]"
       ]
      },
      {
       "output_type": "stream",
       "stream": "stdout",
       "text": [
        "\n",
        "\ttraining_loss : 9.19319400778\n",
        "\tvalidation_loss : {'estimation': 9.0799271192372224, 'se': 0.090136963814933801}"
       ]
      },
      {
       "output_type": "stream",
       "stream": "stdout",
       "text": [
        "\n",
        "\tconfiguration : {'learning_rate': array(0.038095238095238106), 'updates_per_epoch': 100, 'momentum': array(0.9), 'minibatch_size': 100}\n",
        "\ttimestamp : [1437846305.705081, 31.83199405670166]\n",
        "['training', 7]"
       ]
      },
      {
       "output_type": "stream",
       "stream": "stdout",
       "text": [
        "\n",
        "\ttraining_loss : 9.07010258637\n",
        "\tvalidation_loss : {'estimation': 8.8687222127417442, 'se': 0.094098904551531304}"
       ]
      },
      {
       "output_type": "stream",
       "stream": "stdout",
       "text": [
        "\n",
        "\tconfiguration : {'learning_rate': array(0.035714285714285726), 'updates_per_epoch': 100, 'momentum': array(0.9), 'minibatch_size': 100}\n",
        "\ttimestamp : [1437846325.115082, 19.410001039505005]\n",
        "['training', 8]"
       ]
      },
      {
       "output_type": "stream",
       "stream": "stdout",
       "text": [
        "\n",
        "\ttraining_loss : 9.24100454261\n",
        "\tvalidation_loss : {'estimation': 8.8434771918029025, 'se': 0.095428900126591901}"
       ]
      },
      {
       "output_type": "stream",
       "stream": "stdout",
       "text": [
        "\n",
        "\tconfiguration : {'learning_rate': array(0.03333333333333335), 'updates_per_epoch': 100, 'momentum': array(0.9), 'minibatch_size': 100}\n",
        "\ttimestamp : [1437846344.467083, 19.352000951766968]\n",
        "['training', 9]"
       ]
      },
      {
       "output_type": "stream",
       "stream": "stdout",
       "text": [
        "\n",
        "\ttraining_loss : 9.12328964828\n",
        "\tvalidation_loss : {'estimation': 8.8917170937710157, 'se': 0.093243115710165886}"
       ]
      },
      {
       "output_type": "stream",
       "stream": "stdout",
       "text": [
        "\n",
        "\tconfiguration : {'learning_rate': array(0.030952380952380967), 'updates_per_epoch': 100, 'momentum': array(0.9), 'minibatch_size': 100}\n",
        "\ttimestamp : [1437846381.059158, 36.59207510948181]\n",
        "['training', 10]"
       ]
      },
      {
       "output_type": "stream",
       "stream": "stdout",
       "text": [
        "\n",
        "\ttraining_loss : 9.03413434121\n",
        "\tvalidation_loss : {'estimation': 8.7418633916072235, 'se': 0.093520878111369082}"
       ]
      },
      {
       "output_type": "stream",
       "stream": "stdout",
       "text": [
        "\n",
        "\tconfiguration : {'learning_rate': array(0.028571428571428588), 'updates_per_epoch': 100, 'momentum': array(0.9), 'minibatch_size': 100}\n",
        "\ttimestamp : [1437846415.844084, 34.78492593765259]\n",
        "['training', 11]"
       ]
      },
      {
       "output_type": "stream",
       "stream": "stdout",
       "text": [
        "\n",
        "\ttraining_loss : 8.83391478854\n",
        "\tvalidation_loss : {'estimation': 8.6834847553962025, 'se': 0.091490305175092115}"
       ]
      },
      {
       "output_type": "stream",
       "stream": "stdout",
       "text": [
        "\n",
        "\tconfiguration : {'learning_rate': array(0.02619047619047621), 'updates_per_epoch': 100, 'momentum': array(0.9), 'minibatch_size': 100}\n",
        "\ttimestamp : [1437846449.743082, 33.89899802207947]\n",
        "['training', 12]"
       ]
      },
      {
       "output_type": "stream",
       "stream": "stdout",
       "text": [
        "\n",
        "\ttraining_loss : 8.87726370888\n",
        "\tvalidation_loss : {'estimation': 8.7038041284632186, 'se': 0.088606748517956163}"
       ]
      },
      {
       "output_type": "stream",
       "stream": "stdout",
       "text": [
        "\n",
        "\tconfiguration : {'learning_rate': array(0.02380952380952383), 'updates_per_epoch': 100, 'momentum': array(0.9), 'minibatch_size': 100}\n",
        "\ttimestamp : [1437846482.813081, 33.06999897956848]\n",
        "['training', 13]"
       ]
      },
      {
       "output_type": "stream",
       "stream": "stdout",
       "text": [
        "\n",
        "\ttraining_loss : 8.72425416606\n",
        "\tvalidation_loss : {'estimation': 8.5926990396098315, 'se': 0.094688807814780687}"
       ]
      },
      {
       "output_type": "stream",
       "stream": "stdout",
       "text": [
        "\n",
        "\tconfiguration : {'learning_rate': array(0.02142857142857145), 'updates_per_epoch': 100, 'momentum': array(0.9), 'minibatch_size': 100}\n",
        "\ttimestamp : [1437846510.435459, 27.62237787246704]\n",
        "['training', 14]"
       ]
      },
      {
       "output_type": "stream",
       "stream": "stdout",
       "text": [
        "\n",
        "\ttraining_loss : 8.48995174956\n",
        "\tvalidation_loss : {'estimation': 8.4305793239919495, 'se': 0.096064594581371607}"
       ]
      },
      {
       "output_type": "stream",
       "stream": "stdout",
       "text": [
        "\n",
        "\tconfiguration : {'learning_rate': array(0.01904761904761907), 'updates_per_epoch': 100, 'momentum': array(0.9), 'minibatch_size': 100}\n",
        "\ttimestamp : [1437846541.413346, 30.97788715362549]\n",
        "['training', 15]"
       ]
      },
      {
       "output_type": "stream",
       "stream": "stdout",
       "text": [
        "\n",
        "\ttraining_loss : 8.68949003367\n",
        "\tvalidation_loss : {'estimation': 8.4020475525148335, 'se': 0.090425351543999083}"
       ]
      },
      {
       "output_type": "stream",
       "stream": "stdout",
       "text": [
        "\n",
        "\tconfiguration : {'learning_rate': array(0.01666666666666669), 'updates_per_epoch': 100, 'momentum': array(0.9), 'minibatch_size': 100}\n",
        "\ttimestamp : [1437846557.717111, 16.303765058517456]\n",
        "['training', 16]"
       ]
      },
      {
       "output_type": "stream",
       "stream": "stdout",
       "text": [
        "\n",
        "\ttraining_loss : 8.30291553185\n",
        "\tvalidation_loss : {'estimation': 8.2723268583671388, 'se': 0.094749683645045921}"
       ]
      },
      {
       "output_type": "stream",
       "stream": "stdout",
       "text": [
        "\n",
        "\tconfiguration : {'learning_rate': array(0.01428571428571431), 'updates_per_epoch': 100, 'momentum': array(0.9), 'minibatch_size': 100}\n",
        "\ttimestamp : [1437846574.80872, 17.091609001159668]\n",
        "['training', 17]"
       ]
      },
      {
       "output_type": "stream",
       "stream": "stdout",
       "text": [
        "\n",
        "\ttraining_loss : 8.39093334346\n",
        "\tvalidation_loss : {'estimation': 8.203516086693071, 'se': 0.096062170456892179}"
       ]
      },
      {
       "output_type": "stream",
       "stream": "stdout",
       "text": [
        "\n",
        "\tconfiguration : {'learning_rate': array(0.011904761904761928), 'updates_per_epoch': 100, 'momentum': array(0.9), 'minibatch_size': 100}\n",
        "\ttimestamp : [1437846611.798084, 36.9893639087677]\n",
        "['training', 18]"
       ]
      },
      {
       "output_type": "stream",
       "stream": "stdout",
       "text": [
        "\n",
        "\ttraining_loss : 8.23602361291\n",
        "\tvalidation_loss : {'estimation': 8.20215758286529, 'se': 0.095531216821487061}"
       ]
      },
      {
       "output_type": "stream",
       "stream": "stdout",
       "text": [
        "\n",
        "\tconfiguration : {'learning_rate': array(0.009523809523809547), 'updates_per_epoch': 100, 'momentum': array(0.9), 'minibatch_size': 100}\n",
        "\ttimestamp : [1437846646.682081, 34.88399696350098]\n",
        "['training', 19]"
       ]
      },
      {
       "output_type": "stream",
       "stream": "stdout",
       "text": [
        "\n",
        "\ttraining_loss : 8.09031277726\n",
        "\tvalidation_loss : {'estimation': 8.1100477457287514, 'se': 0.09812119199493459}"
       ]
      },
      {
       "output_type": "stream",
       "stream": "stdout",
       "text": [
        "\n",
        "\tconfiguration : {'learning_rate': array(0.007142857142857166), 'updates_per_epoch': 100, 'momentum': array(0.9), 'minibatch_size': 100}\n",
        "\ttimestamp : [1437846680.879079, 34.19699811935425]\n",
        "['training', 20]"
       ]
      },
      {
       "output_type": "stream",
       "stream": "stdout",
       "text": [
        "\n",
        "\ttraining_loss : 8.03774020738\n",
        "\tvalidation_loss : {'estimation': 8.0408645290726604, 'se': 0.09914796941022537}"
       ]
      },
      {
       "output_type": "stream",
       "stream": "stdout",
       "text": [
        "\n",
        "\tconfiguration : {'learning_rate': array(0.004761904761904785), 'updates_per_epoch': 100, 'momentum': array(0.9), 'minibatch_size': 100}\n",
        "\ttimestamp : [1437846715.042192, 34.16311287879944]\n",
        "[]"
       ]
      },
      {
       "output_type": "stream",
       "stream": "stdout",
       "text": [
        "\n",
        "\t : Config {'q': 20, 'h': 100, 'wd': 0.02, 'lr': 0.05}\n",
        "\t : Training average loss\t-8.210458"
       ]
      },
      {
       "output_type": "stream",
       "stream": "stdout",
       "text": [
        "\n",
        "\t : *Validation mean\t-8.274027 \t(se: 0.067701)"
       ]
      },
      {
       "output_type": "stream",
       "stream": "stdout",
       "text": [
        "\n",
        "\t : Validation detail #1 mean\t-8.396819 \t(se: 0.205178)\n",
        "\t : Validation detail #2 mean\t-8.000359 \t(se: 0.195449)\n",
        "\t : Validation detail #3 mean\t-8.486802 \t(se: 0.200056)\n",
        "\t : Validation detail #4 mean\t-8.645841 \t(se: 0.215236)\n",
        "\t : Validation detail #5 mean\t-8.178665 \t(se: 0.194254)\n",
        "\t : Validation detail #6 mean\t-8.007201 \t(se: 0.197587)\n",
        "\t : Validation detail #7 mean\t-8.061058 \t(se: 0.194132)\n",
        "\t : Validation detail #8 mean\t-8.283492 \t(se: 0.205815)\n",
        "\t : Validation detail #9 mean\t-8.387825 \t(se: 0.193279)\n",
        "\t : Validation detail #10 mean\t-8.292203 \t(se: 0.203500)\n",
        "\t : *Test mean\t-7.923223 \t(se: 0.079978)\n",
        "\t : Test detail #1 mean\t-8.131299 \t(se: 0.271065)\n",
        "\t : Test detail #2 mean\t-7.665101 \t(se: 0.227389)\n",
        "\t : Test detail #3 mean\t-8.235163 \t(se: 0.270645)\n",
        "\t : Test detail #4 mean\t-8.306136 \t(se: 0.277719)\n",
        "\t : Test detail #5 mean\t-7.695515 \t(se: 0.235826)\n",
        "\t : Test detail #6 mean\t-7.699755 \t(se: 0.233976)\n",
        "\t : Test detail #7 mean\t-7.649690 \t(se: 0.225608)\n",
        "\t : Test detail #8 mean\t-7.799451 \t(se: 0.258351)\n",
        "\t : Test detail #9 mean\t-8.092715 \t(se: 0.250276)\n",
        "\t : Test detail #10 mean\t-7.957404 \t(se: 0.253297)\n"
       ]
      }
     ],
     "prompt_number": 16
    },
    {
     "cell_type": "code",
     "collapsed": false,
     "input": [
      "ls ../Data/NADE/Wjetsh5/"
     ],
     "language": "python",
     "metadata": {},
     "outputs": [
      {
       "output_type": "stream",
       "stream": "stdout",
       "text": [
        "NADE.hdf5  NADE_training.log\r\n"
       ]
      }
     ],
     "prompt_number": 48
    },
    {
     "cell_type": "code",
     "collapsed": false,
     "input": [
      "dout = '../Data/NADE/WjetswithSignal/NADE_8.hdf5'\n",
      "model, means, rmss = create(dout)\n",
      "means = means.reshape(len(means), 1)\n",
      "rmss = rmss.reshape(len(rmss), 1)\n",
      "\n",
      "def rescale(dataset):\n",
      "    return (dataset.T - means)/rmss"
     ],
     "language": "python",
     "metadata": {},
     "outputs": [],
     "prompt_number": 25
    },
    {
     "cell_type": "code",
     "collapsed": false,
     "input": [
      "test_bkg = rescale(tstdata)\n",
      "test_sig = rescale(signal_tst)\n",
      "train = rescale(trndata)\n",
      "\n",
      "print tstdata.shape\n",
      "print test_bkg.shape\n",
      "print test_sig.shape\n",
      "print train.shape"
     ],
     "language": "python",
     "metadata": {},
     "outputs": [
      {
       "output_type": "stream",
       "stream": "stdout",
       "text": [
        "(7998, 13)\n",
        "(13, 7998)\n",
        "(13, 10)\n",
        "(13, 2000)\n"
       ]
      }
     ],
     "prompt_number": 26
    },
    {
     "cell_type": "code",
     "collapsed": false,
     "input": [
      "pseudo = model.sample(test_bkg.shape[1]) "
     ],
     "language": "python",
     "metadata": {},
     "outputs": [],
     "prompt_number": 27
    },
    {
     "cell_type": "code",
     "collapsed": false,
     "input": [
      "print pseudo.shape\n",
      "print test_bkg.shape\n",
      "print test_sig.shape"
     ],
     "language": "python",
     "metadata": {},
     "outputs": [
      {
       "output_type": "stream",
       "stream": "stdout",
       "text": [
        "(13, 7998)\n",
        "(13, 7998)\n",
        "(13, 10)\n"
       ]
      }
     ],
     "prompt_number": 48
    },
    {
     "cell_type": "code",
     "collapsed": false,
     "input": [
      "plt.hist(model.logdensity(train), label = 'train', bins = 100, alpha = 0.3, normed = True, color = 'blue', histtype = 'stepfilled')\n",
      "plt.hist(model.logdensity(pseudo), label = 'pseudo', bins = 100, alpha = 0.3, normed = True, color = 'red', histtype = 'stepfilled')\n",
      "plt.yscale('log')\n",
      "#plt.legend()\n",
      "plt.show()"
     ],
     "language": "python",
     "metadata": {},
     "outputs": [
      {
       "metadata": {},
       "output_type": "display_data",
       "png": "[encoded data removed]",
       "text": [
        "<matplotlib.figure.Figure at 0x7f438d9b6ad0>"
       ]
      }
     ],
     "prompt_number": 159
    },
    {
     "cell_type": "code",
     "collapsed": false,
     "input": [
      "bins, edges, patches = plt.hist(model.logdensity(test_bkg), label = 'background', bins = 100, alpha = 0.5, color = 'orange', histtype = 'stepfilled')\n",
      "plt.hist(model.logdensity(test_sig), label = 'signal', bins = 100, alpha = 0.8, color = 'red', histtype = 'stepfilled')\n",
      "plt.hist(model.logdensity(pseudo), label = 'pseudo', bins = edges, alpha = 0.5, color = 'blue', histtype = 'stepfilled')\n",
      "plt.yscale('log')\n",
      "plt.xlabel('log density')\n",
      "plt.ylabel('Number of data points')\n",
      "plt.ylim([0.5, 1000])\n",
      "plt.legend(bbox_to_anchor=(0.4, 0.99))\n",
      "plt.show()"
     ],
     "language": "python",
     "metadata": {},
     "outputs": [
      {
       "metadata": {},
       "output_type": "display_data",
       "png": "[encoded data removed]",
       "text": [
        "<matplotlib.figure.Figure at 0x7f470360cd50>"
       ]
      }
     ],
     "prompt_number": 43
    },
    {
     "cell_type": "code",
     "collapsed": false,
     "input": [
      "# Make a mixture of background\n",
      "samples = [0, 2200, 10000, 10000]\n",
      "data = np.zeros((np.sum(samples), n_features)) \n",
      "\n",
      "first = 0\n",
      "for (i, label) in enumerate(labels):\n",
      "    high = nm_data[label].shape[0]\n",
      "    ordering = np.random.randint(0, high = high, size = samples[i]) \n",
      "    for (k, j) in enumerate(ordering):\n",
      "        data[first + k , 0:n_features] = nm_data[label][j] \n",
      "    first += samples[i]\n",
      "    print first"
     ],
     "language": "python",
     "metadata": {},
     "outputs": [
      {
       "output_type": "stream",
       "stream": "stdout",
       "text": [
        "0\n",
        "2200\n",
        "12200\n",
        "22200"
       ]
      },
      {
       "output_type": "stream",
       "stream": "stdout",
       "text": [
        "\n"
       ]
      }
     ],
     "prompt_number": 8
    },
    {
     "cell_type": "code",
     "collapsed": false,
     "input": [
      "np.random.shuffle(data)\n",
      "np.random.shuffle(nm_data[labels[0]])"
     ],
     "language": "python",
     "metadata": {},
     "outputs": [],
     "prompt_number": 21
    },
    {
     "cell_type": "code",
     "collapsed": false,
     "input": [
      "# Split data into training and testing \n",
      "training_ratio = 0.5\n",
      "signal_ratio = 0.002\n",
      "\n",
      "bkg_trn, bkg_tst = split(data, training_ratio)\n",
      "\n",
      "# get the signal part\n",
      "signal, rest = split(nm_data[labels[0]], signal_ratio)\n",
      "signal_trn, signal_tst = split(signal, training_ratio)\n",
      "\n",
      "trndata = np.concatenate((bkg_trn, signal_trn))\n",
      "mins, mus, sigmas, trndata = replace_zeros(trndata)\n",
      "np.random.shuffle(trndata)\n",
      "\n",
      "a, b, c, bkg_tst = replace_zeros(bkg_tst, mus, sigmas)\n",
      "a, b, c, signal_tst = replace_zeros(signal_tst, mus, sigmas)\n",
      "\n",
      "io_trndata = '../Data/trndata_mixed.pkl'\n",
      "pickle.dump(trndata, open(io_trndata, 'w'))\n",
      "\n",
      "print signal_tst.shape\n",
      "print trndata.shape\n",
      "print bkg_tst.shape"
     ],
     "language": "python",
     "metadata": {},
     "outputs": [
      {
       "output_type": "stream",
       "stream": "stdout",
       "text": [
        "(8, 13)\n",
        "(11110, 13)\n",
        "(11098, 13)\n"
       ]
      }
     ],
     "prompt_number": 32
    },
    {
     "cell_type": "code",
     "collapsed": false,
     "input": [
      "plt.hist(trndata[:, 0], bins = 30, alpha = 0.3)\n",
      "plt.hist(bkg_tst[:, 0], bins = 30, alpha = 0.3)\n",
      "plt.hist(signal_tst[:, 0], bins = 30)\n",
      "plt.show()"
     ],
     "language": "python",
     "metadata": {},
     "outputs": [
      {
       "metadata": {},
       "output_type": "display_data",
       "png": "[encoded data removed]",
       "text": [
        "<matplotlib.figure.Figure at 0x7f31361876d0>"
       ]
      }
     ],
     "prompt_number": 9
    },
    {
     "cell_type": "code",
     "collapsed": false,
     "input": [
      "hlayers = 2\n",
      "lr = 0.1\n",
      "epochs = 20\n",
      "\n",
      "mixedNade = nade(label = 'MixedTrnData', dataset = io_trndata, hlayers = hlayers, lr = lr, epochs = epochs)\n",
      "mixedNade.run()"
     ],
     "language": "python",
     "metadata": {},
     "outputs": [
      {
       "output_type": "stream",
       "stream": "stdout",
       "text": [
        "['pretraining_1', 1]\n",
        "\ttraining_loss : 16.9793535179\n",
        "\tconfiguration : {'learning_rate': array(0.1), 'updates_per_epoch': 100, 'momentum': array(0.0), 'minibatch_size': 100}\n",
        "\ttimestamp : [1436806054.988918, 10.886559963226318]\n",
        "['pretraining_1', 2]"
       ]
      },
      {
       "output_type": "stream",
       "stream": "stdout",
       "text": [
        "\n",
        "\ttraining_loss : 14.429150227\n",
        "\tconfiguration : {'learning_rate': array(0.08333333333333334), 'updates_per_epoch': 100, 'momentum': array(0.9), 'minibatch_size': 100}\n",
        "\ttimestamp : [1436806056.751918, 1.7630000114440918]\n",
        "['pretraining_1', 3]"
       ]
      },
      {
       "output_type": "stream",
       "stream": "stdout",
       "text": [
        "\n",
        "\ttraining_loss : 11.6937147992\n",
        "\tconfiguration : {'learning_rate': array(0.06666666666666668), 'updates_per_epoch': 100, 'momentum': array(0.9), 'minibatch_size': 100}\n",
        "\ttimestamp : [1436806058.50399, 1.7520718574523926]\n",
        "['pretraining_1', 4]"
       ]
      },
      {
       "output_type": "stream",
       "stream": "stdout",
       "text": [
        "\n",
        "\ttraining_loss : 11.2521904903\n",
        "\tconfiguration : {'learning_rate': array(0.05000000000000002), 'updates_per_epoch': 100, 'momentum': array(0.9), 'minibatch_size': 100}\n",
        "\ttimestamp : [1436806059.393918, 0.8899281024932861]\n",
        "['pretraining_1', 5]"
       ]
      },
      {
       "output_type": "stream",
       "stream": "stdout",
       "text": [
        "\n",
        "\ttraining_loss : 10.5044630186\n",
        "\tconfiguration : {'learning_rate': array(0.033333333333333354), 'updates_per_epoch': 100, 'momentum': array(0.9), 'minibatch_size': 100}\n",
        "\ttimestamp : [1436806060.266923, 0.8730049133300781]\n",
        "['pretraining_2', 1]"
       ]
      },
      {
       "output_type": "stream",
       "stream": "stdout",
       "text": [
        "\n",
        "\ttraining_loss : 10.9595795942\n",
        "\tconfiguration : {'learning_rate': array(0.1), 'updates_per_epoch': 100, 'momentum': array(0.0), 'minibatch_size': 100}\n",
        "\ttimestamp : [1436806067.066038, 5.878118991851807]\n",
        "['pretraining_2', 2]"
       ]
      },
      {
       "output_type": "stream",
       "stream": "stdout",
       "text": [
        "\n",
        "\ttraining_loss : 10.6691991514\n",
        "\tconfiguration : {'learning_rate': array(0.08333333333333334), 'updates_per_epoch': 100, 'momentum': array(0.9), 'minibatch_size': 100}\n",
        "\ttimestamp : [1436806068.039068, 0.9730300903320312]\n",
        "['pretraining_2', 3]"
       ]
      },
      {
       "output_type": "stream",
       "stream": "stdout",
       "text": [
        "\n",
        "\ttraining_loss : 10.7054657157\n",
        "\tconfiguration : {'learning_rate': array(0.06666666666666668), 'updates_per_epoch': 100, 'momentum': array(0.9), 'minibatch_size': 100}\n",
        "\ttimestamp : [1436806069.010917, 0.9718489646911621]\n",
        "['pretraining_2', 4]"
       ]
      },
      {
       "output_type": "stream",
       "stream": "stdout",
       "text": [
        "\n",
        "\ttraining_loss : 10.2370340316\n",
        "\tconfiguration : {'learning_rate': array(0.05000000000000002), 'updates_per_epoch': 100, 'momentum': array(0.9), 'minibatch_size': 100}\n",
        "\ttimestamp : [1436806070.001917, 0.9909999370574951]\n",
        "['pretraining_2', 5]"
       ]
      },
      {
       "output_type": "stream",
       "stream": "stdout",
       "text": [
        "\n",
        "\ttraining_loss : 9.93356113784\n",
        "\tconfiguration : {'learning_rate': array(0.033333333333333354), 'updates_per_epoch': 100, 'momentum': array(0.9), 'minibatch_size': 100}\n",
        "\ttimestamp : [1436806070.962917, 0.9610002040863037]\n",
        "['training', 1]"
       ]
      },
      {
       "output_type": "stream",
       "stream": "stdout",
       "text": [
        "\n",
        "\ttraining_loss : 9.26628433163\n",
        "\tvalidation_loss : {'estimation': 8.9082326626071868, 'se': 0.035987823587786238}"
       ]
      },
      {
       "output_type": "stream",
       "stream": "stdout",
       "text": [
        "\n",
        "\tconfiguration : {'learning_rate': array(0.1), 'updates_per_epoch': 100, 'momentum': array(0.0), 'minibatch_size': 100}\n",
        "\ttimestamp : [1436806106.552954, 35.588119983673096]\n",
        "['training', 2]"
       ]
      },
      {
       "output_type": "stream",
       "stream": "stdout",
       "text": [
        "\n",
        "\ttraining_loss : 10.8386400296\n",
        "\tvalidation_loss : {'estimation': 10.763849526580573, 'se': 0.034002336562307368}"
       ]
      },
      {
       "output_type": "stream",
       "stream": "stdout",
       "text": [
        "\n",
        "\tconfiguration : {'learning_rate': array(0.09523809523809525), 'updates_per_epoch': 100, 'momentum': array(0.9), 'minibatch_size': 100}\n",
        "\ttimestamp : [1436806145.105924, 38.55296993255615]\n",
        "['training', 3]"
       ]
      },
      {
       "output_type": "stream",
       "stream": "stdout",
       "text": [
        "\n",
        "\ttraining_loss : 11.5456435258\n",
        "\tvalidation_loss : {'estimation': 10.946886260098404, 'se': 0.033264699628048726}"
       ]
      },
      {
       "output_type": "stream",
       "stream": "stdout",
       "text": [
        "\n",
        "\tconfiguration : {'learning_rate': array(0.09047619047619049), 'updates_per_epoch': 100, 'momentum': array(0.9), 'minibatch_size': 100}\n",
        "\ttimestamp : [1436806186.205914, 41.099990129470825]\n",
        "['training', 4]"
       ]
      },
      {
       "output_type": "stream",
       "stream": "stdout",
       "text": [
        "\n",
        "\ttraining_loss : 11.0789377356\n",
        "\tvalidation_loss : {'estimation': 10.813142729431492, 'se': 0.037110050334753474}"
       ]
      },
      {
       "output_type": "stream",
       "stream": "stdout",
       "text": [
        "\n",
        "\tconfiguration : {'learning_rate': array(0.08571428571428573), 'updates_per_epoch': 100, 'momentum': array(0.9), 'minibatch_size': 100}\n",
        "\ttimestamp : [1436806222.815916, 36.61000204086304]\n",
        "['training', 5]"
       ]
      },
      {
       "output_type": "stream",
       "stream": "stdout",
       "text": [
        "\n",
        "\ttraining_loss : 10.9498142795\n",
        "\tvalidation_loss : {'estimation': 10.87395955417333, 'se': 0.035562733693275152}"
       ]
      },
      {
       "output_type": "stream",
       "stream": "stdout",
       "text": [
        "\n",
        "\tconfiguration : {'learning_rate': array(0.08095238095238097), 'updates_per_epoch': 100, 'momentum': array(0.9), 'minibatch_size': 100}\n",
        "\ttimestamp : [1436806261.063106, 38.24718999862671]\n",
        "['training', 6]"
       ]
      },
      {
       "output_type": "stream",
       "stream": "stdout",
       "text": [
        "\n",
        "\ttraining_loss : 10.8068406313\n",
        "\tvalidation_loss : {'estimation': 10.784365228184365, 'se': 0.035255513673817789}"
       ]
      },
      {
       "output_type": "stream",
       "stream": "stdout",
       "text": [
        "\n",
        "\tconfiguration : {'learning_rate': array(0.07619047619047621), 'updates_per_epoch': 100, 'momentum': array(0.9), 'minibatch_size': 100}\n",
        "\ttimestamp : [1436806298.535916, 37.47281002998352]\n",
        "['training', 7]"
       ]
      },
      {
       "output_type": "stream",
       "stream": "stdout",
       "text": [
        "\n",
        "\ttraining_loss : 10.9583266415\n",
        "\tvalidation_loss : {'estimation': 10.575160160225744, 'se': 0.032611296566581488}"
       ]
      },
      {
       "output_type": "stream",
       "stream": "stdout",
       "text": [
        "\n",
        "\tconfiguration : {'learning_rate': array(0.07142857142857145), 'updates_per_epoch': 100, 'momentum': array(0.9), 'minibatch_size': 100}\n",
        "\ttimestamp : [1436806336.144916, 37.60899996757507]\n",
        "['training', 8]"
       ]
      },
      {
       "output_type": "stream",
       "stream": "stdout",
       "text": [
        "\n",
        "\ttraining_loss : 10.6140589093\n",
        "\tvalidation_loss : {'estimation': 10.387133894642067, 'se': 0.034547848819866007}"
       ]
      },
      {
       "output_type": "stream",
       "stream": "stdout",
       "text": [
        "\n",
        "\tconfiguration : {'learning_rate': array(0.0666666666666667), 'updates_per_epoch': 100, 'momentum': array(0.9), 'minibatch_size': 100}\n",
        "\ttimestamp : [1436806373.907918, 37.763001918792725]\n",
        "['training', 9]"
       ]
      },
      {
       "output_type": "stream",
       "stream": "stdout",
       "text": [
        "\n",
        "\ttraining_loss : 10.5874275278\n",
        "\tvalidation_loss : {'estimation': 10.514339049783532, 'se': 0.032216048040771224}"
       ]
      },
      {
       "output_type": "stream",
       "stream": "stdout",
       "text": [
        "\n",
        "\tconfiguration : {'learning_rate': array(0.061904761904761935), 'updates_per_epoch': 100, 'momentum': array(0.9), 'minibatch_size': 100}\n",
        "\ttimestamp : [1436806413.941917, 40.03399896621704]\n",
        "['training', 10]"
       ]
      },
      {
       "output_type": "stream",
       "stream": "stdout",
       "text": [
        "\n",
        "\ttraining_loss : 10.5676810969\n",
        "\tvalidation_loss : {'estimation': 10.014754461411316, 'se': 0.035278584143201099}"
       ]
      },
      {
       "output_type": "stream",
       "stream": "stdout",
       "text": [
        "\n",
        "\tconfiguration : {'learning_rate': array(0.057142857142857176), 'updates_per_epoch': 100, 'momentum': array(0.9), 'minibatch_size': 100}\n",
        "\ttimestamp : [1436806441.352917, 27.41100001335144]\n",
        "['training', 11]"
       ]
      },
      {
       "output_type": "stream",
       "stream": "stdout",
       "text": [
        "\n",
        "\ttraining_loss : 10.1218796233\n",
        "\tvalidation_loss : {'estimation': 9.9824415014776999, 'se': 0.035061879680533849}"
       ]
      },
      {
       "output_type": "stream",
       "stream": "stdout",
       "text": [
        "\n",
        "\tconfiguration : {'learning_rate': array(0.05238095238095242), 'updates_per_epoch': 100, 'momentum': array(0.9), 'minibatch_size': 100}\n",
        "\ttimestamp : [1436806463.758916, 22.405998945236206]\n",
        "['training', 12]"
       ]
      },
      {
       "output_type": "stream",
       "stream": "stdout",
       "text": [
        "\n",
        "\ttraining_loss : 10.1852233935\n",
        "\tvalidation_loss : {'estimation': 9.7271342867571899, 'se': 0.034667464201348211}"
       ]
      },
      {
       "output_type": "stream",
       "stream": "stdout",
       "text": [
        "\n",
        "\tconfiguration : {'learning_rate': array(0.04761904761904766), 'updates_per_epoch': 100, 'momentum': array(0.9), 'minibatch_size': 100}\n",
        "\ttimestamp : [1436806501.617916, 37.85900020599365]\n",
        "['training', 13]"
       ]
      },
      {
       "output_type": "stream",
       "stream": "stdout",
       "text": [
        "\n",
        "\ttraining_loss : 9.94741530173\n",
        "\tvalidation_loss : {'estimation': 9.7756698943985185, 'se': 0.034970022638309416}"
       ]
      },
      {
       "output_type": "stream",
       "stream": "stdout",
       "text": [
        "\n",
        "\tconfiguration : {'learning_rate': array(0.0428571428571429), 'updates_per_epoch': 100, 'momentum': array(0.9), 'minibatch_size': 100}\n",
        "\ttimestamp : [1436806537.796917, 36.17900085449219]\n",
        "['training', 14]"
       ]
      },
      {
       "output_type": "stream",
       "stream": "stdout",
       "text": [
        "\n",
        "\ttraining_loss : 9.94665068421\n",
        "\tvalidation_loss : {'estimation': 9.6327577560205366, 'se': 0.036732185053648905}"
       ]
      },
      {
       "output_type": "stream",
       "stream": "stdout",
       "text": [
        "\n",
        "\tconfiguration : {'learning_rate': array(0.03809523809523814), 'updates_per_epoch': 100, 'momentum': array(0.9), 'minibatch_size': 100}\n",
        "\ttimestamp : [1436806571.723924, 33.92700695991516]\n",
        "['training', 15]"
       ]
      },
      {
       "output_type": "stream",
       "stream": "stdout",
       "text": [
        "\n",
        "\ttraining_loss : 9.76627763216\n",
        "\tvalidation_loss : {'estimation': 9.3582661440903916, 'se': 0.036175951676337977}"
       ]
      },
      {
       "output_type": "stream",
       "stream": "stdout",
       "text": [
        "\n",
        "\tconfiguration : {'learning_rate': array(0.03333333333333338), 'updates_per_epoch': 100, 'momentum': array(0.9), 'minibatch_size': 100}\n",
        "\ttimestamp : [1436806596.200915, 24.476991176605225]\n",
        "['training', 16]"
       ]
      },
      {
       "output_type": "stream",
       "stream": "stdout",
       "text": [
        "\n",
        "\ttraining_loss : 9.66903152079\n",
        "\tvalidation_loss : {'estimation': 9.3771442522013491, 'se': 0.035918646297748547}"
       ]
      },
      {
       "output_type": "stream",
       "stream": "stdout",
       "text": [
        "\n",
        "\tconfiguration : {'learning_rate': array(0.02857142857142862), 'updates_per_epoch': 100, 'momentum': array(0.9), 'minibatch_size': 100}\n",
        "\ttimestamp : [1436806619.307915, 23.10699987411499]\n",
        "['training', 17]"
       ]
      },
      {
       "output_type": "stream",
       "stream": "stdout",
       "text": [
        "\n",
        "\ttraining_loss : 9.66935663134\n",
        "\tvalidation_loss : {'estimation': 9.6712953212928294, 'se': 0.036228751078378155}"
       ]
      },
      {
       "output_type": "stream",
       "stream": "stdout",
       "text": [
        "\n",
        "\tconfiguration : {'learning_rate': array(0.023809523809523857), 'updates_per_epoch': 100, 'momentum': array(0.9), 'minibatch_size': 100}\n",
        "\ttimestamp : [1436806639.280917, 19.973001956939697]\n",
        "['training', 18]"
       ]
      },
      {
       "output_type": "stream",
       "stream": "stdout",
       "text": [
        "\n",
        "\ttraining_loss : 9.42144377707\n",
        "\tvalidation_loss : {'estimation': 9.0873259148835999, 'se': 0.036718997360324836}"
       ]
      },
      {
       "output_type": "stream",
       "stream": "stdout",
       "text": [
        "\n",
        "\tconfiguration : {'learning_rate': array(0.019047619047619094), 'updates_per_epoch': 100, 'momentum': array(0.9), 'minibatch_size': 100}\n",
        "\ttimestamp : [1436806658.396609, 19.115692138671875]\n",
        "['training', 19]"
       ]
      },
      {
       "output_type": "stream",
       "stream": "stdout",
       "text": [
        "\n",
        "\ttraining_loss : 9.42585983905\n",
        "\tvalidation_loss : {'estimation': 8.8430411812543284, 'se': 0.035683775514241005}"
       ]
      },
      {
       "output_type": "stream",
       "stream": "stdout",
       "text": [
        "\n",
        "\tconfiguration : {'learning_rate': array(0.014285714285714332), 'updates_per_epoch': 100, 'momentum': array(0.9), 'minibatch_size': 100}\n",
        "\ttimestamp : [1436806677.600914, 19.204304933547974]\n",
        "['training', 20]"
       ]
      },
      {
       "output_type": "stream",
       "stream": "stdout",
       "text": [
        "\n",
        "\ttraining_loss : 9.04460774325\n",
        "\tvalidation_loss : {'estimation': 8.6672769820135294, 'se': 0.036100606006054838}"
       ]
      },
      {
       "output_type": "stream",
       "stream": "stdout",
       "text": [
        "\n",
        "\tconfiguration : {'learning_rate': array(0.00952380952380957), 'updates_per_epoch': 100, 'momentum': array(0.9), 'minibatch_size': 100}\n",
        "\ttimestamp : [1436806696.831916, 19.23100209236145]\n",
        "[]\n",
        "\t : Config {'q': 20, 'h': 100, 'wd': 0.02, 'lr': 0.1}\n",
        "\t : Training average loss\t-8.892946"
       ]
      },
      {
       "output_type": "stream",
       "stream": "stdout",
       "text": [
        "\n",
        "\t : *Validation mean\t-8.756681 \t(se: 0.021168)"
       ]
      },
      {
       "output_type": "stream",
       "stream": "stdout",
       "text": [
        "\n",
        "\t : Validation detail #1 mean\t-8.751877 \t(se: 0.092333)\n",
        "\t : Validation detail #2 mean\t-8.718254 \t(se: 0.095850)\n",
        "\t : Validation detail #3 mean\t-8.790845 \t(se: 0.096518)\n",
        "\t : Validation detail #4 mean\t-8.877203 \t(se: 0.101215)\n",
        "\t : Validation detail #5 mean\t-8.817273 \t(se: 0.096368)\n",
        "\t : Validation detail #6 mean\t-8.706377 \t(se: 0.094731)\n",
        "\t : Validation detail #7 mean\t-8.715293 \t(se: 0.090999)\n",
        "\t : Validation detail #8 mean\t-8.794559 \t(se: 0.096210)\n",
        "\t : Validation detail #9 mean\t-8.639269 \t(se: 0.093681)\n",
        "\t : Validation detail #10 mean\t-8.755855 \t(se: 0.092813)\n",
        "\t : *Test mean\t-8.928570 \t(se: 0.014480)\n",
        "\t : Test detail #1 mean\t-8.961529 \t(se: 0.147905)\n",
        "\t : Test detail #2 mean\t-8.893938 \t(se: 0.154026)\n",
        "\t : Test detail #3 mean\t-8.978082 \t(se: 0.153051)\n",
        "\t : Test detail #4 mean\t-9.001802 \t(se: 0.158811)\n",
        "\t : Test detail #5 mean\t-8.949347 \t(se: 0.152894)\n",
        "\t : Test detail #6 mean\t-8.912939 \t(se: 0.151024)\n",
        "\t : Test detail #7 mean\t-8.875007 \t(se: 0.144916)\n",
        "\t : Test detail #8 mean\t-8.927572 \t(se: 0.152196)\n",
        "\t : Test detail #9 mean\t-8.856298 \t(se: 0.151172)\n",
        "\t : Test detail #10 mean\t-8.929183 \t(se: 0.155811)\n"
       ]
      }
     ],
     "prompt_number": 37
    },
    {
     "cell_type": "code",
     "collapsed": false,
     "input": [
      "dout = '../Data/NADE/MixedTrnData/NADE_24.hdf5'\n",
      "model, means, rmss = create(dout)\n",
      "means = means.reshape(len(means), 1)\n",
      "rmss = rmss.reshape(len(rmss), 1)\n",
      "\n",
      "def rescale(dataset):\n",
      "    return (dataset.T - means)/rmss\n",
      "\n",
      "test_sig= rescale(np.concatenate((bkg_tst, signal_tst)))\n",
      "test_bkg = rescale(bkg_tst)\n",
      "train = rescale(trndata)\n",
      "\n",
      "print test_sig.shape\n",
      "print test_bkg.shape\n",
      "print train.shape"
     ],
     "language": "python",
     "metadata": {},
     "outputs": [
      {
       "output_type": "stream",
       "stream": "stdout",
       "text": [
        "(13, 11106)\n",
        "(13, 11098)\n",
        "(13, 11110)\n"
       ]
      }
     ],
     "prompt_number": 39
    },
    {
     "cell_type": "code",
     "collapsed": false,
     "input": [
      "pseudo = model.sample(50000) "
     ],
     "language": "python",
     "metadata": {},
     "outputs": [],
     "prompt_number": 44
    },
    {
     "cell_type": "code",
     "collapsed": false,
     "input": [
      "hist, edges, meh = plt.hist(model.logdensity(train), label = 'train', bins = 200, alpha = 0.3, normed = True, color = 'green', histtype = 'stepfilled')\n",
      "plt.hist(model.logdensity(test_bkg), label = 'test_bkg', bins = edges, alpha = 0.3, normed = True, color = 'orange', histtype = 'stepfilled')\n",
      "plt.hist(model.logdensity(test_sig), label = 'test_sig', bins = edges, alpha = 0.2, normed = True, color = 'blue', histtype = 'stepfilled')\n",
      "#plt.hist(model.logdensity(pseudo), label = 'pseudo', bins = edges, alpha = 0.3, normed = True, color = 'red', histtype = 'stepfilled')\n",
      "plt.yscale('log')\n",
      "plt.xlim([-100, -30])\n",
      "#plt.legend()\n",
      "plt.show()"
     ],
     "language": "python",
     "metadata": {},
     "outputs": [
      {
       "metadata": {},
       "output_type": "display_data",
       "png": "[encoded data removed]",
       "text": [
        "<matplotlib.figure.Figure at 0x7f311a969450>"
       ]
      }
     ],
     "prompt_number": 48
    },
    {
     "cell_type": "code",
     "collapsed": false,
     "input": [
      "# Split data into training and testing \n",
      "training_ratio = 0.5\n",
      "signal_ratio = 0.001\n",
      "\n",
      "trndata, bkg_tst = split(data, training_ratio)\n",
      "\n",
      "trndata = pickle.load(open('../Data/trndata_bkg.pkl', 'r'))\n",
      "\n",
      "# get the signal part\n",
      "signal_tst, rest = split(nm_data[labels[0]], signal_ratio)\n",
      "\n",
      "mins, mus, sigmas, trndata = replace_zeros(trndata)\n",
      "np.random.shuffle(trndata)\n",
      "\n",
      "a, b, c, bkg_tst = replace_zeros(bkg_tst, mus, sigmas)\n",
      "a, b, c, signal_tst = replace_zeros(signal_tst, mus, sigmas)\n",
      "\n",
      "#io_trndata = '../Data/trndata_bkg.pkl'\n",
      "#pickle.dump(trndata, open(io_trndata, 'w'))\n",
      "\n",
      "print signal_tst.shape\n",
      "print trndata.shape\n",
      "print bkg_tst.shape"
     ],
     "language": "python",
     "metadata": {},
     "outputs": [
      {
       "output_type": "stream",
       "stream": "stdout",
       "text": [
        "(10, 13)\n",
        "(11100, 13)\n",
        "(11098, 13)\n"
       ]
      }
     ],
     "prompt_number": 46
    },
    {
     "cell_type": "code",
     "collapsed": false,
     "input": [
      "hlayers = 2\n",
      "lr = 0.1\n",
      "epochs = 20\n",
      "\n",
      "bkgNade = nade(label = 'BkgTrnData', dataset = io_trndata, hlayers = hlayers, lr = lr, epochs = epochs)\n",
      "bkgNade.run()"
     ],
     "language": "python",
     "metadata": {},
     "outputs": [
      {
       "output_type": "stream",
       "stream": "stdout",
       "text": [
        "['pretraining_1', 1]\n",
        "\ttraining_loss : 17.57938208\n",
        "\tconfiguration : {'learning_rate': array(0.1), 'updates_per_epoch': 100, 'momentum': array(0.0), 'minibatch_size': 100}\n",
        "\ttimestamp : [1436816631.15129, 4.973767042160034]\n",
        "['pretraining_1', 2]"
       ]
      },
      {
       "output_type": "stream",
       "stream": "stdout",
       "text": [
        "\n",
        "\ttraining_loss : 14.7004889625\n",
        "\tconfiguration : {'learning_rate': array(0.08333333333333334), 'updates_per_epoch': 100, 'momentum': array(0.9), 'minibatch_size': 100}\n",
        "\ttimestamp : [1436816632.012291, 0.8610010147094727]\n",
        "['pretraining_1', 3]"
       ]
      },
      {
       "output_type": "stream",
       "stream": "stdout",
       "text": [
        "\n",
        "\ttraining_loss : 17.4676804122\n",
        "\tconfiguration : {'learning_rate': array(0.06666666666666668), 'updates_per_epoch': 100, 'momentum': array(0.9), 'minibatch_size': 100}\n",
        "\ttimestamp : [1436816632.887905, 0.8756139278411865]\n",
        "['pretraining_1', 4]"
       ]
      },
      {
       "output_type": "stream",
       "stream": "stdout",
       "text": [
        "\n",
        "\ttraining_loss : 12.0347006706\n",
        "\tconfiguration : {'learning_rate': array(0.05000000000000002), 'updates_per_epoch': 100, 'momentum': array(0.9), 'minibatch_size': 100}\n",
        "\ttimestamp : [1436816633.77229, 0.8843851089477539]\n",
        "['pretraining_1', 5]"
       ]
      },
      {
       "output_type": "stream",
       "stream": "stdout",
       "text": [
        "\n",
        "\ttraining_loss : 11.0843716856\n",
        "\tconfiguration : {'learning_rate': array(0.033333333333333354), 'updates_per_epoch': 100, 'momentum': array(0.9), 'minibatch_size': 100}\n",
        "\ttimestamp : [1436816634.622781, 0.8504910469055176]\n",
        "['pretraining_2', 1]"
       ]
      },
      {
       "output_type": "stream",
       "stream": "stdout",
       "text": [
        "\n",
        "\ttraining_loss : 11.7080866932\n",
        "\tconfiguration : {'learning_rate': array(0.1), 'updates_per_epoch': 100, 'momentum': array(0.0), 'minibatch_size': 100}\n",
        "\ttimestamp : [1436816640.489694, 5.1424031257629395]\n",
        "['pretraining_2', 2]"
       ]
      },
      {
       "output_type": "stream",
       "stream": "stdout",
       "text": [
        "\n",
        "\ttraining_loss : 11.6348941147\n",
        "\tconfiguration : {'learning_rate': array(0.08333333333333334), 'updates_per_epoch': 100, 'momentum': array(0.9), 'minibatch_size': 100}\n",
        "\ttimestamp : [1436816641.436686, 0.9469919204711914]\n",
        "['pretraining_2', 3]"
       ]
      },
      {
       "output_type": "stream",
       "stream": "stdout",
       "text": [
        "\n",
        "\ttraining_loss : 11.5830780639\n",
        "\tconfiguration : {'learning_rate': array(0.06666666666666668), 'updates_per_epoch': 100, 'momentum': array(0.9), 'minibatch_size': 100}\n",
        "\ttimestamp : [1436816642.379291, 0.9426050186157227]\n",
        "['pretraining_2', 4]"
       ]
      },
      {
       "output_type": "stream",
       "stream": "stdout",
       "text": [
        "\n",
        "\ttraining_loss : 11.0734241978\n",
        "\tconfiguration : {'learning_rate': array(0.05000000000000002), 'updates_per_epoch': 100, 'momentum': array(0.9), 'minibatch_size': 100}\n",
        "\ttimestamp : [1436816643.33829, 0.9589989185333252]\n",
        "['pretraining_2', 5]"
       ]
      },
      {
       "output_type": "stream",
       "stream": "stdout",
       "text": [
        "\n",
        "\ttraining_loss : 10.6667183124\n",
        "\tconfiguration : {'learning_rate': array(0.033333333333333354), 'updates_per_epoch': 100, 'momentum': array(0.9), 'minibatch_size': 100}\n",
        "\ttimestamp : [1436816644.279291, 0.9410009384155273]\n",
        "['training', 1]"
       ]
      },
      {
       "output_type": "stream",
       "stream": "stdout",
       "text": [
        "\n",
        "\ttraining_loss : 10.0687920323\n",
        "\tvalidation_loss : {'estimation': 9.8728293608826654, 'se': 0.031878672192160014}"
       ]
      },
      {
       "output_type": "stream",
       "stream": "stdout",
       "text": [
        "\n",
        "\tconfiguration : {'learning_rate': array(0.1), 'updates_per_epoch': 100, 'momentum': array(0.0), 'minibatch_size': 100}\n",
        "\ttimestamp : [1436816667.400292, 23.11899995803833]\n",
        "['training', 2]"
       ]
      },
      {
       "output_type": "stream",
       "stream": "stdout",
       "text": [
        "\n",
        "\ttraining_loss : 11.2871203921\n",
        "\tvalidation_loss : {'estimation': 11.431366381797547, 'se': 0.031749675433058372}"
       ]
      },
      {
       "output_type": "stream",
       "stream": "stdout",
       "text": [
        "\n",
        "\tconfiguration : {'learning_rate': array(0.09523809523809525), 'updates_per_epoch': 100, 'momentum': array(0.9), 'minibatch_size': 100}\n",
        "\ttimestamp : [1436816686.34238, 18.94208812713623]\n",
        "['training', 3]"
       ]
      },
      {
       "output_type": "stream",
       "stream": "stdout",
       "text": [
        "\n",
        "\ttraining_loss : 11.6396918625\n",
        "\tvalidation_loss : {'estimation': 11.411712729196289, 'se': 0.031381410202032931}"
       ]
      },
      {
       "output_type": "stream",
       "stream": "stdout",
       "text": [
        "\n",
        "\tconfiguration : {'learning_rate': array(0.09047619047619049), 'updates_per_epoch': 100, 'momentum': array(0.9), 'minibatch_size': 100}\n",
        "\ttimestamp : [1436816705.298298, 18.955917835235596]\n",
        "['training', 4]"
       ]
      },
      {
       "output_type": "stream",
       "stream": "stdout",
       "text": [
        "\n",
        "\ttraining_loss : 11.5604285081\n",
        "\tvalidation_loss : {'estimation': 11.369361488122252, 'se': 0.031510945771254857}"
       ]
      },
      {
       "output_type": "stream",
       "stream": "stdout",
       "text": [
        "\n",
        "\tconfiguration : {'learning_rate': array(0.08571428571428573), 'updates_per_epoch': 100, 'momentum': array(0.9), 'minibatch_size': 100}\n",
        "\ttimestamp : [1436816724.192297, 18.893999099731445]\n",
        "['training', 5]"
       ]
      },
      {
       "output_type": "stream",
       "stream": "stdout",
       "text": [
        "\n",
        "\ttraining_loss : 11.5486300097\n",
        "\tvalidation_loss : {'estimation': 11.511386907379105, 'se': 0.031735071468625177}"
       ]
      },
      {
       "output_type": "stream",
       "stream": "stdout",
       "text": [
        "\n",
        "\tconfiguration : {'learning_rate': array(0.08095238095238097), 'updates_per_epoch': 100, 'momentum': array(0.9), 'minibatch_size': 100}\n",
        "\ttimestamp : [1436816743.049291, 18.856993913650513]\n",
        "['training', 6]"
       ]
      },
      {
       "output_type": "stream",
       "stream": "stdout",
       "text": [
        "\n",
        "\ttraining_loss : 11.2669219252\n",
        "\tvalidation_loss : {'estimation': 11.351773194072603, 'se': 0.033444936154229256}"
       ]
      },
      {
       "output_type": "stream",
       "stream": "stdout",
       "text": [
        "\n",
        "\tconfiguration : {'learning_rate': array(0.07619047619047621), 'updates_per_epoch': 100, 'momentum': array(0.9), 'minibatch_size': 100}\n",
        "\ttimestamp : [1436816762.209293, 19.16000199317932]\n",
        "['training', 7]"
       ]
      },
      {
       "output_type": "stream",
       "stream": "stdout",
       "text": [
        "\n",
        "\ttraining_loss : 11.5787819116\n",
        "\tvalidation_loss : {'estimation': 11.430984102357593, 'se': 0.030381650644532351}"
       ]
      },
      {
       "output_type": "stream",
       "stream": "stdout",
       "text": [
        "\n",
        "\tconfiguration : {'learning_rate': array(0.07142857142857145), 'updates_per_epoch': 100, 'momentum': array(0.9), 'minibatch_size': 100}\n",
        "\ttimestamp : [1436816780.881603, 18.67231011390686]\n",
        "['training', 8]"
       ]
      },
      {
       "output_type": "stream",
       "stream": "stdout",
       "text": [
        "\n",
        "\ttraining_loss : 11.4909182564\n",
        "\tvalidation_loss : {'estimation': 10.998702631159771, 'se': 0.031535716809499695}"
       ]
      },
      {
       "output_type": "stream",
       "stream": "stdout",
       "text": [
        "\n",
        "\tconfiguration : {'learning_rate': array(0.0666666666666667), 'updates_per_epoch': 100, 'momentum': array(0.9), 'minibatch_size': 100}\n",
        "\ttimestamp : [1436816799.923293, 19.04169011116028]\n",
        "['training', 9]"
       ]
      },
      {
       "output_type": "stream",
       "stream": "stdout",
       "text": [
        "\n",
        "\ttraining_loss : 11.2991116065\n",
        "\tvalidation_loss : {'estimation': 11.120289168798864, 'se': 0.031361675180575095}"
       ]
      },
      {
       "output_type": "stream",
       "stream": "stdout",
       "text": [
        "\n",
        "\tconfiguration : {'learning_rate': array(0.061904761904761935), 'updates_per_epoch': 100, 'momentum': array(0.9), 'minibatch_size': 100}\n",
        "\ttimestamp : [1436816819.916291, 19.992997884750366]\n",
        "['training', 10]"
       ]
      },
      {
       "output_type": "stream",
       "stream": "stdout",
       "text": [
        "\n",
        "\ttraining_loss : 11.2256643967\n",
        "\tvalidation_loss : {'estimation': 11.087635280629756, 'se': 0.032210244593283442}"
       ]
      },
      {
       "output_type": "stream",
       "stream": "stdout",
       "text": [
        "\n",
        "\tconfiguration : {'learning_rate': array(0.057142857142857176), 'updates_per_epoch': 100, 'momentum': array(0.9), 'minibatch_size': 100}\n",
        "\ttimestamp : [1436816838.501724, 18.58543300628662]\n",
        "['training', 11]"
       ]
      },
      {
       "output_type": "stream",
       "stream": "stdout",
       "text": [
        "\n",
        "\ttraining_loss : 11.063365211\n",
        "\tvalidation_loss : {'estimation': 10.941530573626347, 'se': 0.031477201061285459}"
       ]
      },
      {
       "output_type": "stream",
       "stream": "stdout",
       "text": [
        "\n",
        "\tconfiguration : {'learning_rate': array(0.05238095238095242), 'updates_per_epoch': 100, 'momentum': array(0.9), 'minibatch_size': 100}\n",
        "\ttimestamp : [1436816857.172294, 18.670569896697998]\n",
        "['training', 12]"
       ]
      },
      {
       "output_type": "stream",
       "stream": "stdout",
       "text": [
        "\n",
        "\ttraining_loss : 11.0161418926\n",
        "\tvalidation_loss : {'estimation': 10.857234630816606, 'se': 0.0315016240482704}"
       ]
      },
      {
       "output_type": "stream",
       "stream": "stdout",
       "text": [
        "\n",
        "\tconfiguration : {'learning_rate': array(0.04761904761904766), 'updates_per_epoch': 100, 'momentum': array(0.9), 'minibatch_size': 100}\n",
        "\ttimestamp : [1436816875.756539, 18.584245204925537]\n",
        "['training', 13]"
       ]
      },
      {
       "output_type": "stream",
       "stream": "stdout",
       "text": [
        "\n",
        "\ttraining_loss : 10.9502962168\n",
        "\tvalidation_loss : {'estimation': 10.808197189947252, 'se': 0.029855277057676998}"
       ]
      },
      {
       "output_type": "stream",
       "stream": "stdout",
       "text": [
        "\n",
        "\tconfiguration : {'learning_rate': array(0.0428571428571429), 'updates_per_epoch': 100, 'momentum': array(0.9), 'minibatch_size': 100}\n",
        "\ttimestamp : [1436816894.365293, 18.60875391960144]\n",
        "['training', 14]"
       ]
      },
      {
       "output_type": "stream",
       "stream": "stdout",
       "text": [
        "\n",
        "\ttraining_loss : 10.752380151\n",
        "\tvalidation_loss : {'estimation': 10.633146079583, 'se': 0.030584712923208981}"
       ]
      },
      {
       "output_type": "stream",
       "stream": "stdout",
       "text": [
        "\n",
        "\tconfiguration : {'learning_rate': array(0.03809523809523814), 'updates_per_epoch': 100, 'momentum': array(0.9), 'minibatch_size': 100}\n",
        "\ttimestamp : [1436816913.500297, 19.1350040435791]\n",
        "['training', 15]"
       ]
      },
      {
       "output_type": "stream",
       "stream": "stdout",
       "text": [
        "\n",
        "\ttraining_loss : 10.6535241194\n",
        "\tvalidation_loss : {'estimation': 10.449749138888537, 'se': 0.032449157450713972}"
       ]
      },
      {
       "output_type": "stream",
       "stream": "stdout",
       "text": [
        "\n",
        "\tconfiguration : {'learning_rate': array(0.03333333333333338), 'updates_per_epoch': 100, 'momentum': array(0.9), 'minibatch_size': 100}\n",
        "\ttimestamp : [1436816932.755293, 19.254995822906494]\n",
        "['training', 16]"
       ]
      },
      {
       "output_type": "stream",
       "stream": "stdout",
       "text": [
        "\n",
        "\ttraining_loss : 10.5823905295\n",
        "\tvalidation_loss : {'estimation': 10.356522452014531, 'se': 0.031415311854426108}"
       ]
      },
      {
       "output_type": "stream",
       "stream": "stdout",
       "text": [
        "\n",
        "\tconfiguration : {'learning_rate': array(0.02857142857142862), 'updates_per_epoch': 100, 'momentum': array(0.9), 'minibatch_size': 100}\n",
        "\ttimestamp : [1436816953.118289, 20.362996101379395]\n",
        "['training', 17]"
       ]
      },
      {
       "output_type": "stream",
       "stream": "stdout",
       "text": [
        "\n",
        "\ttraining_loss : 10.365716289\n",
        "\tvalidation_loss : {'estimation': 10.149709760370536, 'se': 0.030303065734188766}"
       ]
      },
      {
       "output_type": "stream",
       "stream": "stdout",
       "text": [
        "\n",
        "\tconfiguration : {'learning_rate': array(0.023809523809523857), 'updates_per_epoch': 100, 'momentum': array(0.9), 'minibatch_size': 100}\n",
        "\ttimestamp : [1436816974.355291, 21.23700189590454]\n",
        "['training', 18]"
       ]
      },
      {
       "output_type": "stream",
       "stream": "stdout",
       "text": [
        "\n",
        "\ttraining_loss : 10.2491142903\n",
        "\tvalidation_loss : {'estimation': 10.037254903957754, 'se': 0.031042692850574247}"
       ]
      },
      {
       "output_type": "stream",
       "stream": "stdout",
       "text": [
        "\n",
        "\tconfiguration : {'learning_rate': array(0.019047619047619094), 'updates_per_epoch': 100, 'momentum': array(0.9), 'minibatch_size': 100}\n",
        "\ttimestamp : [1436816993.686149, 19.33085799217224]\n",
        "['training', 19]"
       ]
      },
      {
       "output_type": "stream",
       "stream": "stdout",
       "text": [
        "\n",
        "\ttraining_loss : 10.0851018573\n",
        "\tvalidation_loss : {'estimation': 10.036799650636615, 'se': 0.031934141876903827}"
       ]
      },
      {
       "output_type": "stream",
       "stream": "stdout",
       "text": [
        "\n",
        "\tconfiguration : {'learning_rate': array(0.014285714285714332), 'updates_per_epoch': 100, 'momentum': array(0.9), 'minibatch_size': 100}\n",
        "\ttimestamp : [1436817012.836823, 19.15067410469055]\n",
        "['training', 20]"
       ]
      },
      {
       "output_type": "stream",
       "stream": "stdout",
       "text": [
        "\n",
        "\ttraining_loss : 9.98722598178\n",
        "\tvalidation_loss : {'estimation': 9.9138004636714268, 'se': 0.032917311464171116}"
       ]
      },
      {
       "output_type": "stream",
       "stream": "stdout",
       "text": [
        "\n",
        "\tconfiguration : {'learning_rate': array(0.00952380952380957), 'updates_per_epoch': 100, 'momentum': array(0.9), 'minibatch_size': 100}\n",
        "\ttimestamp : [1436817031.417534, 18.580711126327515]\n",
        "[]\n",
        "\t : Config {'q': 20, 'h': 100, 'wd': 0.02, 'lr': 0.1}\n",
        "\t : Training average loss\t-10.026412"
       ]
      },
      {
       "output_type": "stream",
       "stream": "stdout",
       "text": [
        "\n",
        "\t : *Validation mean\t-10.063369 \t(se: 0.031052)"
       ]
      },
      {
       "output_type": "stream",
       "stream": "stdout",
       "text": [
        "\n",
        "\t : Validation detail #1 mean\t-10.113863 \t(se: 0.097694)\n",
        "\t : Validation detail #2 mean\t-10.036473 \t(se: 0.085786)\n",
        "\t : Validation detail #3 mean\t-9.966310 \t(se: 0.096742)\n",
        "\t : Validation detail #4 mean\t-10.002614 \t(se: 0.093324)\n",
        "\t : Validation detail #5 mean\t-9.963975 \t(se: 0.083927)\n",
        "\t : Validation detail #6 mean\t-10.109172 \t(se: 0.086673)\n",
        "\t : Validation detail #7 mean\t-10.135424 \t(se: 0.084307)\n",
        "\t : Validation detail #8 mean\t-9.977530 \t(se: 0.087936)\n",
        "\t : Validation detail #9 mean\t-10.277166 \t(se: 0.098722)\n",
        "\t : Validation detail #10 mean\t-10.051166 \t(se: 0.091815)\n",
        "\t : *Test mean\t-10.216993 \t(se: 0.030727)\n",
        "\t : Test detail #1 mean\t-10.206673 \t(se: 0.134827)\n",
        "\t : Test detail #2 mean\t-10.217950 \t(se: 0.121884)\n",
        "\t : Test detail #3 mean\t-10.136648 \t(se: 0.130044)\n",
        "\t : Test detail #4 mean\t-10.233528 \t(se: 0.131866)\n",
        "\t : Test detail #5 mean\t-10.122004 \t(se: 0.118164)\n",
        "\t : Test detail #6 mean\t-10.257961 \t(se: 0.123854)\n",
        "\t : Test detail #7 mean\t-10.210382 \t(se: 0.121359)\n",
        "\t : Test detail #8 mean\t-10.125695 \t(se: 0.119065)\n",
        "\t : Test detail #9 mean\t-10.459390 \t(se: 0.135492)\n",
        "\t : Test detail #10 mean\t-10.199702 \t(se: 0.128916)\n"
       ]
      }
     ],
     "prompt_number": 116
    },
    {
     "cell_type": "code",
     "collapsed": false,
     "input": [
      "dout = '../Data/NADE/BkgTrnData/NADE_14.hdf5'\n",
      "model, means, rmss = create(dout)\n",
      "means = means.reshape(len(means), 1)\n",
      "rmss = rmss.reshape(len(rmss), 1)\n",
      "\n",
      "def rescale(dataset):\n",
      "    return (dataset.T - means)/rmss\n",
      "\n",
      "test_sig= rescale(np.concatenate((bkg_tst, signal_tst)))\n",
      "test_bkg = rescale(bkg_tst)\n",
      "train = rescale(trndata)\n",
      "\n",
      "print test_sig.shape\n",
      "print test_bkg.shape\n",
      "print train.shape"
     ],
     "language": "python",
     "metadata": {},
     "outputs": [
      {
       "output_type": "stream",
       "stream": "stdout",
       "text": [
        "(13, 11108)\n",
        "(13, 11098)\n",
        "(13, 11100)\n"
       ]
      }
     ],
     "prompt_number": 44
    },
    {
     "cell_type": "code",
     "collapsed": false,
     "input": [
      "plt.hist(trndata[:, 6], bins = 30, alpha = 0.3)\n",
      "plt.hist(bkg_tst[:, 6], bins = 30, alpha = 0.3)\n",
      "plt.hist(signal_tst[:, 6], bins = 30)\n",
      "plt.show()"
     ],
     "language": "python",
     "metadata": {},
     "outputs": [
      {
       "metadata": {},
       "output_type": "display_data",
       "png": "[encoded data removed]",
       "text": [
        "<matplotlib.figure.Figure at 0x7fd6aa00d150>"
       ]
      }
     ],
     "prompt_number": 47
    },
    {
     "cell_type": "code",
     "collapsed": false,
     "input": [
      "pseudo = model.sample(test_sig.shape[1])"
     ],
     "language": "python",
     "metadata": {},
     "outputs": [],
     "prompt_number": 24
    },
    {
     "cell_type": "code",
     "collapsed": false,
     "input": [
      "hist, edges, meh = plt.hist(model.logdensity(train), label = 'train', bins = 100, alpha = 0.3, normed = True, color = 'green', histtype = 'stepfilled')\n",
      "plt.hist(model.logdensity(test_bkg), label = 'test_bkg', bins = edges, alpha = 0.3, normed = True, color = 'orange', histtype = 'stepfilled')\n",
      "plt.hist(model.logdensity(test_sig), label = 'test_sig', bins = edges, alpha = 0.2, normed = True, color = 'blue', histtype = 'stepfilled')\n",
      "plt.hist(model.logdensity(pseudo), label = 'pseudo', bins = edges, alpha = 0.3, normed = True, color = 'red', histtype = 'stepfilled')\n",
      "plt.yscale('log')\n",
      "#plt.xlim([-100, -30])\n",
      "#plt.legend()\n",
      "plt.show()"
     ],
     "language": "python",
     "metadata": {},
     "outputs": [
      {
       "metadata": {},
       "output_type": "display_data",
       "png": "[encoded data removed]",
       "text": [
        "<matplotlib.figure.Figure at 0x7fd6aa5b0d90>"
       ]
      }
     ],
     "prompt_number": 35
    },
    {
     "cell_type": "code",
     "collapsed": false,
     "input": [
      "ls ../Data/NADE/BkgTrnData/"
     ],
     "language": "python",
     "metadata": {},
     "outputs": [
      {
       "output_type": "stream",
       "stream": "stdout",
       "text": [
        "NADE_10.hdf5  NADE_13.hdf5  NADE_3.hdf5  NADE_6.hdf5  NADE_9.hdf5\r\n",
        "NADE_11.hdf5  NADE_14.hdf5  NADE_4.hdf5  NADE_7.hdf5  NADE.hdf5\r\n",
        "NADE_12.hdf5  NADE_2.hdf5   NADE_5.hdf5  NADE_8.hdf5  NADE_training.log\r\n"
       ]
      }
     ],
     "prompt_number": 48
    },
    {
     "cell_type": "code",
     "collapsed": false,
     "input": [],
     "language": "python",
     "metadata": {},
     "outputs": []
    }
   ],
   "metadata": {}
  }
 ]
}