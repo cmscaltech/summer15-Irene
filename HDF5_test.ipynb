{
 "metadata": {
  "name": "",
  "signature": "sha256:faa900bf82bc2ffcf315dea0928762aff212b72b622850c80dab4c34182fbae5"
 },
 "nbformat": 3,
 "nbformat_minor": 0,
 "worksheets": [
  {
   "cells": [
    {
     "cell_type": "code",
     "collapsed": false,
     "input": [
      "import numpy as np\n",
      "import h5py \n",
      "\n",
      "## Create a file \n",
      "f = h5py.File('test.hdf5')\n",
      "\n",
      "## Create a dataset\n",
      "dset = np.random.random((100, 100))\n",
      "if 'topgroup' in f:\n",
      "    grp = f['topgroup'] \n",
      "    dset2 = grp['mydataset']\n",
      "    dset2 = random\n",
      "\n",
      "f.close() \n",
      "\n",
      "f = h5py.File('test.hdf5', 'r')\n",
      "dset = f['topgroup'][\"mydataset\"][()]\n",
      "print dset.shape"
     ],
     "language": "python",
     "metadata": {},
     "outputs": [
      {
       "output_type": "stream",
       "stream": "stdout",
       "text": [
        "(100, 100)\n"
       ]
      }
     ],
     "prompt_number": 6
    },
    {
     "cell_type": "code",
     "collapsed": false,
     "input": [
      "## Delete the file\n",
      "%rm test.hdf5\n",
      "%ls"
     ],
     "language": "python",
     "metadata": {},
     "outputs": [
      {
       "output_type": "stream",
       "stream": "stdout",
       "text": [
        "Autoencoder_test.ipynb  NADE_WZ_test.ipynb     SOM_test.ipynb\r\n",
        "BestCells3d.hdf5        PerformanceMulti.hdf5  SOM_training.ipynb\r\n",
        "Data.ipynb              PerformanceMulti.pkl   SOM_tuning.ipynb\r\n",
        "GaussNade_test.ipynb    pseudo                 SOM_withNADE.ipynb\r\n",
        "HDF5_test.ipynb         pseudo_12              test.ipynb\r\n",
        "NADE-Copy0.ipynb        pseudo2                WJetsToLNu.pkl\r\n",
        "NADE.ipynb              QCD.pkl                ZJetsToNuNu.pkl\r\n",
        "NADE_outlier.ipynb      root2hdf5.ipynb\r\n",
        "NADE_test.ipynb         SMS-T1tttt.pkl\r\n"
       ]
      }
     ],
     "prompt_number": 5
    }
   ],
   "metadata": {}
  }
 ]
}