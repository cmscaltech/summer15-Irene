{
 "metadata": {
  "name": "",
  "signature": "sha256:8e3914077d77e635e33a598f825bb0e56b5b54a5e64073030ad51c44b4717742"
 },
 "nbformat": 3,
 "nbformat_minor": 0,
 "worksheets": [
  {
   "cells": [
    {
     "cell_type": "code",
     "collapsed": false,
     "input": [
      "from sklearn import preprocessing\n",
      "from matplotlib import pyplot as plt\n",
      "import pickle\n",
      "import numpy as np\n",
      "from matplotlib.colors import LogNorm, NoNorm\n",
      "from mpl_toolkits.mplot3d import Axes3D\n",
      "import h5py\n",
      "from scipy.stats import poisson, chisquare"
     ],
     "language": "python",
     "metadata": {},
     "outputs": [],
     "prompt_number": 1
    },
    {
     "cell_type": "code",
     "collapsed": false,
     "input": [
      "# -----------------------------------------------------------------------------\n",
      "# Self-organizing map\n",
      "# Copyright (C) 2011  Nicolas P. Rougier\n",
      "#\n",
      "# Distributed under the terms of the BSD License.\n",
      "# -----------------------------------------------------------------------------\n",
      "import numpy as np\n",
      "import time\n",
      "from threading import Thread\n",
      "\n",
      "def fromdistance(fn, shape, center=None, dtype=float):\n",
      "    def distance(*args):\n",
      "        d = 0\n",
      "        for i in range(len(shape)):\n",
      "            d += ((args[i]-center[i])/float(max(1,shape[i]-1)))**2\n",
      "        return np.sqrt(d)/np.sqrt(len(shape))\n",
      "    if center == None:\n",
      "        center = np.array(list(shape))//2\n",
      "    return fn(np.fromfunction(distance,shape,dtype=dtype))\n",
      "\n",
      "def Gaussian(shape,center,sigma=0.5):\n",
      "    ''' '''\n",
      "    def g(x):\n",
      "        return np.exp(-x**2/sigma**2)\n",
      "    return fromdistance(g,shape,center)\n",
      "\n",
      "class SOM(Thread):\n",
      "    ''' Self-organizing map '''\n",
      "    \n",
      "    '''\n",
      "    codebook: a map of the all the weights \n",
      "    dim: dimension of the map\n",
      "    tedious: a boolean value indicating something.. \n",
      "    epochs: number of epochs \n",
      "    sigma: sigma_i, sigma_f \n",
      "    lr: lr_i, lr_f \n",
      "    samples: samples \n",
      "    features: number of features of the sample\n",
      "    fires: the winner neuron for each sample, number of times and the class of the data point\n",
      "    test: the neurons hit during test\n",
      "    ''' \n",
      "\n",
      "    def __init__(self, shape, ted=False):\n",
      "        Thread.__init__(self)\n",
      "        ''' Initialize som '''\n",
      "        self.codebook = np.zeros(shape)\n",
      "        self.dim = len(shape)-1 \n",
      "        self.tedious = ted\n",
      "        #self.events = np.full(shape[0:len(shape)-1], [])\n",
      "        self.reset()\n",
      "\n",
      "    def reset(self):\n",
      "        ''' Reset weights '''\n",
      "        self.codebook = np.random.random(self.codebook.shape)\n",
      "\n",
      "    def winner( self, data):\n",
      "        return self.codebook[self.winner_index( data )]\n",
      "        \n",
      "    def winner_index(self, data):\n",
      "        D = ((self.codebook-data)**2).sum(axis=-1)\n",
      "        return np.unravel_index(np.argmin(D), D.shape)\n",
      "\n",
      "\n",
      "        \n",
      "    def start(self, samples, epochs=25000, sigma=(10, 0.001), lrate=(0.5,0.005)):\n",
      "        ''' Learn samples '''\n",
      "        self.sigma_i, self.sigma_f = sigma\n",
      "        self.lrate_i, self.lrate_f = lrate\n",
      "        self.epochs = epochs\n",
      "        self.samples = samples\n",
      "            \n",
      "        \n",
      "    def run(self):        \n",
      "        if self.tedious:\n",
      "            self.fires = [None for i in self.samples]\n",
      "            print len(self.fires)\n",
      "            \n",
      "        start = time.mktime(time.localtime())\n",
      "        pickAtRandom = True\n",
      "        if self.epochs > len(self.samples):\n",
      "            print \"events will be taken sequentially from samples\"\n",
      "            pickAtRandom = False\n",
      "            \n",
      "        sample=-1\n",
      "        while (sample<self.epochs) or (self.tedious and any(map(lambda e : e==None,self.fires))):\n",
      "        ##for i in range(self.epochs):\n",
      "            sample+=1\n",
      "            if sample%(self.epochs/100)==0 and sample:\n",
      "                now = time.mktime(time.localtime())\n",
      "                self.eta = (now - start) / float(sample) * float(self.epochs-sample)\n",
      "                #print \"Epoch\",sample,\"eta %5.2f [min]\"% self.eta\n",
      "\n",
      "            # Adjust learning rate and neighborhood\n",
      "            t = sample/float(self.epochs)\n",
      "            lrate = self.lrate_i*(self.lrate_f/float(self.lrate_i))**t\n",
      "            sigma = self.sigma_i*(self.sigma_f/float(self.sigma_i))**t\n",
      "\n",
      "            # Get random sample\n",
      "            if pickAtRandom:\n",
      "                index = np.random.randint(0,self.samples.shape[0])\n",
      "            else:\n",
      "                index = sample%self.samples.shape[0]\n",
      "            data = self.samples[index]\n",
      "\n",
      "            # Get index of nearest node (minimum distance)\n",
      "            D = ((self.codebook-data)**2).sum(axis=-1)\n",
      "            winner = np.unravel_index(np.argmin(D), D.shape)\n",
      "\n",
      "            if self.tedious:\n",
      "                if winner == self.fires[index]:\n",
      "                    #this event already fired that neuron : skip things\n",
      "                    #i-=1\n",
      "                    self.skipped+=1\n",
      "                    continue\n",
      "                else:\n",
      "                    self.fires[index] = winner\n",
      "            \n",
      "            ## has the neuron been hit (=0 -> dead neuron)\n",
      "            self.hits[winner] +=1\n",
      "            \n",
      "            # Generate a Gaussian centered on winner\n",
      "            G = Gaussian(D.shape, winner, sigma)\n",
      "            G = np.nan_to_num(G)\n",
      "\n",
      "            # Move nodes towards sample according to Gaussian \n",
      "            delta = self.codebook-data\n",
      "            for i in range(self.codebook.shape[-1]):\n",
      "                self.codebook[...,i] -= lrate * G * delta[...,i]\n",
      "\n",
      "        now = time.mktime(time.localtime())\n",
      "        self.cook_rate = (now - start) / self.epochs  ## s per epochs\n",
      "        self.cook_time = (now - start) ## s\n",
      "        \n",
      "    def control_train(self, samples, types, epochs= 5, sigma=(10, 0.001), lrate=(0.5,0.005), threshold = 4):\n",
      "        \n",
      "        # initialise the paramters \n",
      "        self.fires = np.zeros((samples.shape[0], self.dim + 2)) #one for number of times and one for type\n",
      "        self.sigma_i, self.sigma_f = sigma\n",
      "        self.lrate_i, self.lrate_f = lrate\n",
      "        self.epochs = epochs\n",
      "        self.samples = samples\n",
      "        self.types = types \n",
      "        \n",
      "        features = self.codebook.shape[-1]\n",
      "        sigma = self.sigma_i \n",
      "        lrate = self.lrate_i \n",
      "        passes = float(self.epochs * self.samples.shape[0])\n",
      "        \n",
      "        count = 0 \n",
      "        \n",
      "        for i in range(epochs): \n",
      "            \n",
      "            start = time.mktime(time.localtime())\n",
      "            print 'epoch:', i\n",
      "            #print 'start time:', start \n",
      "            #print 'learning rate:', lrate\n",
      "            #print 'sigma:', sigma\n",
      "            \n",
      "            for index in range(samples.shape[0]):\n",
      "                # Adjust learning rate and neighborhood\n",
      "                t = count/passes\n",
      "                lrate = self.lrate_i*(self.lrate_f/float(self.lrate_i))**t\n",
      "                sigma = self.sigma_i*(self.sigma_f/float(self.sigma_i))**t\n",
      "                count += 1 \n",
      "                \n",
      "                data = samples[index, 0:features]\n",
      "        \n",
      "                # Forward pass \n",
      "                D = ((self.codebook-data)**2).sum(axis=-1)\n",
      "                winner = np.unravel_index(np.argmin(D), D.shape)\n",
      "\n",
      "                if np.array_equal(self.fires[index, 0:self.dim], winner):\n",
      "                    self.fires[index, self.dim] += 1\n",
      "                \n",
      "                else:\n",
      "                    self.fires[index, 0:self.dim] = winner\n",
      "                    self.fires[index, self.dim] = 0\n",
      "                    self.fires[index, self.dim + 1] = samples[index, features]\n",
      "                    \n",
      "                if self.fires[index, self.dim] < threshold: \n",
      "                    \n",
      "                    # Generate a Gaussian centered on winner\n",
      "                    G = Gaussian(D.shape, winner, sigma)\n",
      "                    G = np.nan_to_num(G)\n",
      "\n",
      "                    # Move nodes towards sample according to Gaussian \n",
      "                    delta = self.codebook-data \n",
      "                    for i in range(self.codebook.shape[-1]):\n",
      "                        self.codebook[...,i] -= lrate * G * delta[...,i]\n",
      "            \n",
      "            # One epoch of training has ended \n",
      "            end = time.mktime(time.localtime())\n",
      "            #print 'end time:', end \n",
      "            print 'time per epoch:', end - start\n",
      "            #print 'time per sample:', (end - start)/samples.shape[0] \n",
      "            print 'number of stable samples:', np.sum(self.fires[:, self.dim] >= threshold) \n",
      "    \n",
      "    def control_test(self, tst):\n",
      "        self.test = np.zeros(self.codebook.shape[0:-1] + tuple([self.types]))\n",
      "        features = self.codebook.shape[-1]\n",
      "        \n",
      "        for index in range(tst.shape[0]):\n",
      "            data = tst[index, 0:features]\n",
      "\n",
      "            # Forward pass \n",
      "            D = ((self.codebook-data)**2).sum(axis=-1)\n",
      "            winner = np.unravel_index(np.argmin(D), D.shape)\n",
      "\n",
      "            self.test[winner + tuple([tst[index, features]])] +=1\n",
      "        \n",
      "    def show_map(self, threshold = 0):\n",
      "        print 'number of samples:', self.samples.shape[0] \n",
      "    \n",
      "        for type in range(self.types):\n",
      "            print 'type:', type\n",
      "            temp = self.fires[self.fires[:, self.dim + 1]  == type]\n",
      "            temp = temp[temp[:, self.dim] >= threshold][:, 0:self.dim]\n",
      "            if self.dim == 3: # If it's 3d, make a 3d density map\n",
      "                bins, edges = np.histogramdd(temp, bins = self.codebook.shape[0:-1])\n",
      "                x, y, z = np.indices(self.codebook.shape[0:-1])\n",
      "                fig = plt.figure()\n",
      "                ax = fig.add_subplot(111, projection='3d')\n",
      "                ax.scatter(x, y, z, c = bins, norm = LogNorm(), lw = 0)\n",
      "                plt.show()\n",
      "            \n",
      "            elif self.dim == 2: # If it's 2d, make a 2d density map\n",
      "                plt.hist2d(temp[:, 0], temp[:, 1], bins = n_neurons, range = [[0, n_neurons], [0, n_neurons]])\n",
      "                plt.colorbar()\n",
      "                plt.show()  \n",
      "                \n",
      "            else:  # make a plot of density \n",
      "                plt.plot()\n",
      "                    \n",
      "    def best_cell(self): #show the amount of contamination in the least contaminated cell, need to add weights etc\n",
      "        bkg = np.sum(self.test[..., 1:self.test.shape[-1]], -1)\n",
      "        bkg[bkg == 0] = 0.01 #replace zero with 0.01, add in uncertainties later\n",
      "        signif = self.test[..., 0]/(np.sum(self.test[..., 0]) * np.sqrt(bkg))\n",
      "        best_cell = np.unravel_index(np.argmax(signif), self.test.shape[0:-1])\n",
      "        return best_cell, self.test[best_cell][0] "
     ],
     "language": "python",
     "metadata": {},
     "outputs": [],
     "prompt_number": 2
    },
    {
     "cell_type": "code",
     "collapsed": false,
     "input": [
      "# A method that selects and rescale \n",
      "def select(dataset, samples, n_features, scaler = None): # dataset is a set of np arrays \n",
      "    types = len(samples)\n",
      "    n_samples = np.sum(samples)\n",
      "    data = np.zeros((n_samples, n_features + 1))\n",
      "    \n",
      "    first = 0\n",
      "    for i in range(types): \n",
      "        high = dataset[i].shape[0]\n",
      "        ordering = np.random.randint(0, high = high, size = samples[i]) \n",
      "        for (k, j) in enumerate(ordering):\n",
      "            data[first + k , 0:n_features] = dataset[i][j] \n",
      "        data[first:first+samples[i], n_features] = i\n",
      "        first += samples[i]\n",
      "    \n",
      "    # rescales the data\n",
      "    if scaler == None: \n",
      "        scaler = preprocessing.StandardScaler().fit(data[:, 0:n_features]) \n",
      "    data[:, 0:n_features] = scaler.transform(data[:, 0:n_features]) + 0.5\n",
      "    \n",
      "    # shuffle the data\n",
      "    np.random.shuffle(data)\n",
      "    \n",
      "    return data, scaler\n",
      "\n",
      "# A method that deletes certain cols from data and feature list, useful for removing muons\n",
      "def remove_cols(data, indices, features):\n",
      "    features = np.delete(features, indices)\n",
      "    n_features = len(features)\n",
      "    data = np.delete(data, indices, 1) \n",
      "    return data, features \n",
      "\n",
      "# A plotting method that shows 3d histgrams\n",
      "def bar3D(bins): \n",
      "    dim = bins.shape[0]\n",
      "    types = bins.shape[-1]\n",
      "    x, y, z = np.indices((dim, dim, dim))\n",
      "    for t in range(types):     \n",
      "        fig = plt.figure()\n",
      "        ax = fig.add_subplot(111, projection='3d')\n",
      "        ax.scatter(x, y, z, c = bins[..., t], norm = LogNorm(), lw = 0)\n",
      "        plt.show()\n",
      "        \n",
      "# A method that plots histogram of distribution of training and testing data, highlighting the signal cells \n",
      "def sig_hist(trn, tst, signalcells = None): #signalcell is a tuple of arrays, \n",
      "    print 'total training data:', np.sum(trn)\n",
      "    print 'total test data:', np.sum(tst)\n",
      "    \n",
      "    total_trn = np.sum(trn, axis = -1)\n",
      "    total_tst = np.sum(tst, axis = -1)\n",
      "    \n",
      "    if np.sum(total_tst == 0) != 0: #if there are zero cells, replace them with 0.0001\n",
      "        print 'zeros cells:' \n",
      "        print 'in testing data:' \n",
      "        print tst[total_tst == 0] \n",
      "        print 'in training data:' \n",
      "        print trn[total_tst == 0] \n",
      "        total_tst[total_tst == 0] = 0.0001\n",
      "    \n",
      "    sig = (total_trn - total_tst)/np.sqrt(total_tst)\n",
      "    \n",
      "    bins, edges, patches = plt.hist(np.ravel(sig), bins = 100, alpha = 0.4, color = 'blue', histtype = 'stepfilled')\n",
      "    if signalcells != None:\n",
      "        plt.hist(sig[signalcells], bins = edges, alpha = 0.8, color = 'red', histtype = 'stepfilled')\n",
      "    plt.yscale('log')\n",
      "    plt.ylim([0.8, 1000])\n",
      "    plt.show()\n",
      "    \n"
     ],
     "language": "python",
     "metadata": {},
     "outputs": [],
     "prompt_number": 22
    },
    {
     "cell_type": "code",
     "collapsed": false,
     "input": [
      "datapath = '../../../afs/cern.ch/work/y/yuting/public/razor/'\n",
      "feature_list = ['jetPt:0', 'jetPt:1', 'jetPt:2', 'jetEta:0', 'jetEta:1',\n",
      "                  'jetEta:2', 'jetMass:0', 'jetMass:1', 'jetMass:2', 'muonPt:0', 'muonPt:1',\n",
      "                'elePt:0', 'elePt:1', 'metPt', 'sumMET' ]\n",
      "\n",
      "files = [  'SMS-T1tttt_2J_mGl-1500_mLSP-100_Tune4C_13TeV-madgraph-tauola.hdf5', \n",
      "               'QCD_Pt_170to300_TuneCUETP8M1_13TeV_pythia8.hdf5', \n",
      "               'TTJets_TuneCUETP8M1_13TeV-amcatnloFXFX-pythia8.hdf5',\n",
      "                'WJetsToLNu_TuneCUETP8M1_13TeV-amcatnloFXFX-pythia8.hdf5'] #the first one is signal\n",
      "\n",
      "labels = map(lambda pkn: pkn.split('_')[0], files)\n",
      "\n",
      "n_types = len(files)\n",
      "n_features = len(feature_list)\n",
      "n = 220000\n",
      "samples = np.zeros(n_types)\n",
      "datasets = {} \n",
      "muon_indices = [9, 10]\n",
      "\n",
      "for (i, filename) in enumerate(files):\n",
      "    f = h5py.File(datapath + filename, 'r')\n",
      "    temp = f['data'].shape[0] \n",
      "    sample = min(temp, n)\n",
      "    datasets[i], newlist = remove_cols(f['data'][0:sample], muon_indices, feature_list)\n",
      "    samples[i] = sample\n",
      "    f.close() \n",
      "    \n",
      "feature_list = newlist\n",
      "n_features = len(feature_list)"
     ],
     "language": "python",
     "metadata": {},
     "outputs": [],
     "prompt_number": 25
    },
    {
     "cell_type": "code",
     "collapsed": false,
     "input": [
      "# Perform the ratio test on a 3D network \n",
      "ratios = np.array([0.001, 0.0007, 0.0005, 0.0004, 0.00025, 0.0001]) \n",
      "from scipy.stats import poisson\n",
      "# 15, (10, 0.01), (0.2, 0.001), t\n",
      "\n",
      "n_neurons = 10\n",
      "epochs = 10\n",
      "sigma = (6, 0.001) \n",
      "lrate = (0.2, 0.01)\n",
      "threshold = 4\n",
      "n_trn = 60000\n",
      "n_tst = 210000\n",
      "\n",
      "experiments = 4 #number of times an experiment with a certain ratio is repeated\n",
      "BestCells3d = np.zeros((experiments, len(ratios), n_types + 2)) # 2 dimensions + 1 for significance + 1 for efficiency\n",
      "\n",
      "DataMap3d = {} \n",
      "\n",
      "for i in range(experiments): \n",
      "    for (r_in, r) in enumerate(ratios):\n",
      "        print 'ratio:', r\n",
      "        train_samples = [int(n_trn * 3 * r), n_trn, n_trn, n_trn]\n",
      "        print train_samples\n",
      "        scaled_data, scaler = select(datasets, train_samples, n_features)\n",
      "        DataMap3d[r] = SOM([n_neurons, n_neurons, n_neurons, n_features])\n",
      "        DataMap3d[r].control_train(scaled_data, n_types, epochs = epochs, sigma = sigma, lrate = lrate, threshold = threshold)\n",
      "        # DataMap3d[r].show_map() \n",
      "        DataMap3d[r].control_test(scaled_data)\n",
      "        bestcell, sig = DataMap3d[r].best_cell() # put the amount of signal at the end of the array\n",
      "        test_samples = [0, n_tst, n_tst, n_tst] \n",
      "        scaled_data, scaler = select(datasets, test_samples, n_features, scaler)\n",
      "        DataMap3d[r].control_test(scaled_data)\n",
      "        bkg = DataMap3d[r].test[bestcell][1:n_types]/float(n_tst/n_trn)\n",
      "        significance = sig/np.sqrt(np.sum(bkg))\n",
      "        BestCells3d[i, r_in, 0] = sig \n",
      "        BestCells3d[i, r_in, 1:n_types] = bkg \n",
      "        BestCells3d[i, r_in, n_types] = significance \n",
      "        BestCells3d[i, r_in, n_types+1] = np.log(poisson.pmf(sig + np.sum(bkg), np.sum(bkg)))\n",
      "        print BestCells3d[i, r_in, :]\n"
     ],
     "language": "python",
     "metadata": {},
     "outputs": [
      {
       "output_type": "stream",
       "stream": "stdout",
       "text": [
        "ratio: 0.001\n",
        "[180, 60000, 60000, 60000]\n",
        "epoch:"
       ]
      },
      {
       "output_type": "stream",
       "stream": "stdout",
       "text": [
        " 0\n",
        "time per epoch:"
       ]
      },
      {
       "output_type": "stream",
       "stream": "stdout",
       "text": [
        " 147.0\n",
        "number of stable samples: 0\n",
        "epoch: 1\n",
        "time per epoch:"
       ]
      },
      {
       "output_type": "stream",
       "stream": "stdout",
       "text": [
        " 148.0\n",
        "number of stable samples: 0\n",
        "epoch: 2\n",
        "time per epoch:"
       ]
      },
      {
       "output_type": "stream",
       "stream": "stdout",
       "text": [
        " 144.0\n",
        "number of stable samples: 0\n",
        "epoch: 3\n",
        "time per epoch:"
       ]
      },
      {
       "output_type": "stream",
       "stream": "stdout",
       "text": [
        " 144.0\n",
        "number of stable samples: 2\n",
        "epoch: 4\n",
        "time per epoch:"
       ]
      },
      {
       "output_type": "stream",
       "stream": "stdout",
       "text": [
        " 144.0\n",
        "number of stable samples: 12\n",
        "epoch: 5\n",
        "time per epoch:"
       ]
      },
      {
       "output_type": "stream",
       "stream": "stdout",
       "text": [
        " 143.0\n",
        "number of stable samples: 21\n",
        "epoch: 6\n",
        "time per epoch:"
       ]
      },
      {
       "output_type": "stream",
       "stream": "stdout",
       "text": [
        " 174.0\n",
        "number of stable samples: 73\n",
        "epoch: 7\n",
        "time per epoch:"
       ]
      },
      {
       "output_type": "stream",
       "stream": "stdout",
       "text": [
        " 153.0\n",
        "number of stable samples: 418\n",
        "epoch: 8\n",
        "time per epoch:"
       ]
      },
      {
       "output_type": "stream",
       "stream": "stdout",
       "text": [
        " 136.0\n",
        "number of stable samples: 8662\n",
        "epoch: 9\n",
        "time per epoch:"
       ]
      },
      {
       "output_type": "stream",
       "stream": "stdout",
       "text": [
        " 114.0\n",
        "number of stable samples: 44184\n",
        "[ 34.           0.           5.66666667   1.          13.16814338\n",
        "         -inf]"
       ]
      },
      {
       "output_type": "stream",
       "stream": "stdout",
       "text": [
        "\n",
        "ratio: 0.0007\n",
        "[126, 60000, 60000, 60000]\n",
        "epoch:"
       ]
      },
      {
       "output_type": "stream",
       "stream": "stdout",
       "text": [
        " 0\n",
        "time per epoch:"
       ]
      },
      {
       "output_type": "stream",
       "stream": "stdout",
       "text": [
        " 143.0\n",
        "number of stable samples: 0\n",
        "epoch: 1\n",
        "time per epoch:"
       ]
      },
      {
       "output_type": "stream",
       "stream": "stdout",
       "text": [
        " 145.0\n",
        "number of stable samples: 0\n",
        "epoch: 2\n",
        "time per epoch:"
       ]
      },
      {
       "output_type": "stream",
       "stream": "stdout",
       "text": [
        " 142.0\n",
        "number of stable samples: 0\n",
        "epoch: 3\n",
        "time per epoch:"
       ]
      },
      {
       "output_type": "stream",
       "stream": "stdout",
       "text": [
        " 143.0\n",
        "number of stable samples: 5\n",
        "epoch: 4\n",
        "time per epoch:"
       ]
      },
      {
       "output_type": "stream",
       "stream": "stdout",
       "text": [
        " 140.0\n",
        "number of stable samples: 7\n",
        "epoch: 5\n",
        "time per epoch:"
       ]
      },
      {
       "output_type": "stream",
       "stream": "stdout",
       "text": [
        " 142.0\n",
        "number of stable samples: 9\n",
        "epoch: 6\n",
        "time per epoch:"
       ]
      },
      {
       "output_type": "stream",
       "stream": "stdout",
       "text": [
        " 161.0\n",
        "number of stable samples: 83\n",
        "epoch: 7\n",
        "time per epoch:"
       ]
      },
      {
       "output_type": "stream",
       "stream": "stdout",
       "text": [
        " 152.0\n",
        "number of stable samples: 462\n",
        "epoch: 8\n",
        "time per epoch:"
       ]
      },
      {
       "output_type": "stream",
       "stream": "stdout",
       "text": [
        " 140.0\n",
        "number of stable samples: 9092\n",
        "epoch: 9\n",
        "time per epoch:"
       ]
      },
      {
       "output_type": "stream",
       "stream": "stdout",
       "text": [
        " 115.0\n",
        "number of stable samples: 45165\n",
        "[ 36.           0.           1.33333333   1.33333333  22.04540769\n",
        "         -inf]"
       ]
      },
      {
       "output_type": "stream",
       "stream": "stdout",
       "text": [
        "\n",
        "ratio: 0.0005\n",
        "[90, 60000, 60000, 60000]\n",
        "epoch:"
       ]
      },
      {
       "output_type": "stream",
       "stream": "stdout",
       "text": [
        " 0\n",
        "time per epoch:"
       ]
      },
      {
       "output_type": "stream",
       "stream": "stdout",
       "text": [
        " 147.0\n",
        "number of stable samples: 0\n",
        "epoch: 1\n",
        "time per epoch:"
       ]
      },
      {
       "output_type": "stream",
       "stream": "stdout",
       "text": [
        " 145.0\n",
        "number of stable samples: 0\n",
        "epoch: 2\n",
        "time per epoch:"
       ]
      },
      {
       "output_type": "stream",
       "stream": "stdout",
       "text": [
        " 146.0\n",
        "number of stable samples: 0\n",
        "epoch: 3\n",
        "time per epoch:"
       ]
      },
      {
       "output_type": "stream",
       "stream": "stdout",
       "text": [
        " 148.0\n",
        "number of stable samples: 41\n",
        "epoch: 4\n",
        "time per epoch:"
       ]
      },
      {
       "output_type": "stream",
       "stream": "stdout",
       "text": [
        " 148.0\n",
        "number of stable samples: 17\n",
        "epoch: 5\n",
        "time per epoch:"
       ]
      },
      {
       "output_type": "stream",
       "stream": "stdout",
       "text": [
        " 146.0\n",
        "number of stable samples: 17\n",
        "epoch: 6\n",
        "time per epoch:"
       ]
      },
      {
       "output_type": "stream",
       "stream": "stdout",
       "text": [
        " 157.0\n",
        "number of stable samples: 63\n",
        "epoch: 7\n",
        "time per epoch:"
       ]
      },
      {
       "output_type": "stream",
       "stream": "stdout",
       "text": [
        " 150.0\n",
        "number of stable samples: 415\n",
        "epoch: 8\n",
        "time per epoch:"
       ]
      },
      {
       "output_type": "stream",
       "stream": "stdout",
       "text": [
        " 139.0\n",
        "number of stable samples: 8238\n",
        "epoch: 9\n",
        "time per epoch:"
       ]
      },
      {
       "output_type": "stream",
       "stream": "stdout",
       "text": [
        " 114.0\n",
        "number of stable samples: 45060\n",
        "[ 48.           0.           5.33333333   4.          15.7116881\n",
        "         -inf]"
       ]
      },
      {
       "output_type": "stream",
       "stream": "stdout",
       "text": [
        "\n",
        "ratio: 0.0004\n",
        "[72, 60000, 60000, 60000]\n",
        "epoch:"
       ]
      },
      {
       "output_type": "stream",
       "stream": "stdout",
       "text": [
        " 0\n",
        "time per epoch:"
       ]
      },
      {
       "output_type": "stream",
       "stream": "stdout",
       "text": [
        " 141.0\n",
        "number of stable samples: 0\n",
        "epoch: 1\n",
        "time per epoch:"
       ]
      },
      {
       "output_type": "stream",
       "stream": "stdout",
       "text": [
        " 142.0\n",
        "number of stable samples: 0\n",
        "epoch: 2\n",
        "time per epoch:"
       ]
      },
      {
       "output_type": "stream",
       "stream": "stdout",
       "text": [
        " 138.0\n",
        "number of stable samples: 0\n",
        "epoch: 3\n",
        "time per epoch:"
       ]
      },
      {
       "output_type": "stream",
       "stream": "stdout",
       "text": [
        " 141.0\n",
        "number of stable samples: 3\n",
        "epoch: 4\n",
        "time per epoch:"
       ]
      },
      {
       "output_type": "stream",
       "stream": "stdout",
       "text": [
        " 142.0\n",
        "number of stable samples: 4\n",
        "epoch: 5\n",
        "time per epoch:"
       ]
      },
      {
       "output_type": "stream",
       "stream": "stdout",
       "text": [
        " 141.0\n",
        "number of stable samples: 31\n",
        "epoch: 6\n",
        "time per epoch:"
       ]
      },
      {
       "output_type": "stream",
       "stream": "stdout",
       "text": [
        " 156.0\n",
        "number of stable samples: 61\n",
        "epoch: 7\n",
        "time per epoch:"
       ]
      },
      {
       "output_type": "stream",
       "stream": "stdout",
       "text": [
        " 151.0\n",
        "number of stable samples: 486\n",
        "epoch: 8\n",
        "time per epoch:"
       ]
      },
      {
       "output_type": "stream",
       "stream": "stdout",
       "text": [
        " 138.0\n",
        "number of stable samples: 8550\n",
        "epoch: 9\n",
        "time per epoch:"
       ]
      },
      {
       "output_type": "stream",
       "stream": "stdout",
       "text": [
        " 112.0\n",
        "number of stable samples: 45281\n",
        "[ 32.           0.           7.33333333   3.33333333   9.79795897\n",
        "         -inf]"
       ]
      },
      {
       "output_type": "stream",
       "stream": "stdout",
       "text": [
        "\n",
        "ratio: 0.00025\n",
        "[45, 60000, 60000, 60000]\n",
        "epoch:"
       ]
      },
      {
       "output_type": "stream",
       "stream": "stdout",
       "text": [
        " 0\n",
        "time per epoch:"
       ]
      },
      {
       "output_type": "stream",
       "stream": "stdout",
       "text": [
        " 141.0\n",
        "number of stable samples: 0\n",
        "epoch: 1\n",
        "time per epoch:"
       ]
      },
      {
       "output_type": "stream",
       "stream": "stdout",
       "text": [
        " 144.0\n",
        "number of stable samples: 0\n",
        "epoch: 2\n",
        "time per epoch:"
       ]
      },
      {
       "output_type": "stream",
       "stream": "stdout",
       "text": [
        " 144.0\n",
        "number of stable samples: 0\n",
        "epoch: 3\n",
        "time per epoch:"
       ]
      },
      {
       "output_type": "stream",
       "stream": "stdout",
       "text": [
        " 140.0\n",
        "number of stable samples: 4\n",
        "epoch: 4\n",
        "time per epoch:"
       ]
      },
      {
       "output_type": "stream",
       "stream": "stdout",
       "text": [
        " 141.0\n",
        "number of stable samples: 24\n",
        "epoch: 5\n",
        "time per epoch:"
       ]
      },
      {
       "output_type": "stream",
       "stream": "stdout",
       "text": [
        " 143.0\n",
        "number of stable samples: 51\n",
        "epoch: 6\n",
        "time per epoch:"
       ]
      },
      {
       "output_type": "stream",
       "stream": "stdout",
       "text": [
        " 159.0\n",
        "number of stable samples: 100\n",
        "epoch: 7\n",
        "time per epoch:"
       ]
      },
      {
       "output_type": "stream",
       "stream": "stdout",
       "text": [
        " 150.0\n",
        "number of stable samples: 558\n",
        "epoch: 8\n",
        "time per epoch:"
       ]
      },
      {
       "output_type": "stream",
       "stream": "stdout",
       "text": [
        " 136.0\n",
        "number of stable samples: 9344\n",
        "epoch: 9\n",
        "time per epoch:"
       ]
      },
      {
       "output_type": "stream",
       "stream": "stdout",
       "text": [
        " 112.0\n",
        "number of stable samples: 44975\n",
        "[ 22.           0.           7.66666667   4.33333333   6.35085296\n",
        " -16.09400145]"
       ]
      },
      {
       "output_type": "stream",
       "stream": "stdout",
       "text": [
        "\n",
        "ratio: 0.0001\n",
        "[18, 60000, 60000, 60000]\n",
        "epoch:"
       ]
      },
      {
       "output_type": "stream",
       "stream": "stdout",
       "text": [
        " 0\n",
        "time per epoch:"
       ]
      },
      {
       "output_type": "stream",
       "stream": "stdout",
       "text": [
        " 143.0\n",
        "number of stable samples: 0\n",
        "epoch: 1\n",
        "time per epoch:"
       ]
      },
      {
       "output_type": "stream",
       "stream": "stdout",
       "text": [
        " 143.0\n",
        "number of stable samples: 0\n",
        "epoch: 2\n",
        "time per epoch:"
       ]
      },
      {
       "output_type": "stream",
       "stream": "stdout",
       "text": [
        " 141.0\n",
        "number of stable samples: 0\n",
        "epoch: 3\n",
        "time per epoch:"
       ]
      },
      {
       "output_type": "stream",
       "stream": "stdout",
       "text": [
        " 139.0\n",
        "number of stable samples: 0\n",
        "epoch: 4\n",
        "time per epoch:"
       ]
      },
      {
       "output_type": "stream",
       "stream": "stdout",
       "text": [
        " 138.0\n",
        "number of stable samples: 3\n",
        "epoch: 5\n",
        "time per epoch:"
       ]
      },
      {
       "output_type": "stream",
       "stream": "stdout",
       "text": [
        " 138.0\n",
        "number of stable samples: 5\n",
        "epoch: 6\n",
        "time per epoch:"
       ]
      },
      {
       "output_type": "stream",
       "stream": "stdout",
       "text": [
        " 155.0\n",
        "number of stable samples: 59\n",
        "epoch: 7\n",
        "time per epoch:"
       ]
      },
      {
       "output_type": "stream",
       "stream": "stdout",
       "text": [
        " 149.0\n",
        "number of stable samples: 520\n",
        "epoch: 8\n",
        "time per epoch:"
       ]
      },
      {
       "output_type": "stream",
       "stream": "stdout",
       "text": [
        " 137.0\n",
        "number of stable samples: 8420\n",
        "epoch: 9\n",
        "time per epoch:"
       ]
      },
      {
       "output_type": "stream",
       "stream": "stdout",
       "text": [
        " 113.0\n",
        "number of stable samples: 44669\n",
        "[  8.           0.          28.33333333  15.           1.21528724\n",
        "         -inf]"
       ]
      },
      {
       "output_type": "stream",
       "stream": "stdout",
       "text": [
        "\n",
        "ratio: 0.001\n",
        "[180, 60000, 60000, 60000]\n",
        "epoch:"
       ]
      },
      {
       "output_type": "stream",
       "stream": "stdout",
       "text": [
        " 0\n",
        "time per epoch:"
       ]
      },
      {
       "output_type": "stream",
       "stream": "stdout",
       "text": [
        " 141.0\n",
        "number of stable samples: 0\n",
        "epoch: 1\n",
        "time per epoch:"
       ]
      },
      {
       "output_type": "stream",
       "stream": "stdout",
       "text": [
        " 144.0\n",
        "number of stable samples: 0\n",
        "epoch: 2\n",
        "time per epoch:"
       ]
      },
      {
       "output_type": "stream",
       "stream": "stdout",
       "text": [
        " 144.0\n",
        "number of stable samples: 0\n",
        "epoch: 3\n",
        "time per epoch:"
       ]
      },
      {
       "output_type": "stream",
       "stream": "stdout",
       "text": [
        " 152.0\n",
        "number of stable samples: 7\n",
        "epoch: 4\n",
        "time per epoch:"
       ]
      },
      {
       "output_type": "stream",
       "stream": "stdout",
       "text": [
        " 140.0\n",
        "number of stable samples: 10\n",
        "epoch: 5\n",
        "time per epoch:"
       ]
      },
      {
       "output_type": "stream",
       "stream": "stdout",
       "text": [
        " 144.0\n",
        "number of stable samples: 28\n",
        "epoch: 6\n",
        "time per epoch:"
       ]
      },
      {
       "output_type": "stream",
       "stream": "stdout",
       "text": [
        " 158.0\n",
        "number of stable samples: 64\n",
        "epoch: 7\n",
        "time per epoch:"
       ]
      },
      {
       "output_type": "stream",
       "stream": "stdout",
       "text": [
        " 150.0\n",
        "number of stable samples: 414\n",
        "epoch: 8\n",
        "time per epoch:"
       ]
      },
      {
       "output_type": "stream",
       "stream": "stdout",
       "text": [
        " 138.0\n",
        "number of stable samples: 8591\n",
        "epoch: 9\n",
        "time per epoch:"
       ]
      },
      {
       "output_type": "stream",
       "stream": "stdout",
       "text": [
        " 117.0\n",
        "number of stable samples: 46078\n",
        "[ 43.           0.           2.33333333   0.          28.15010784\n",
        "         -inf]"
       ]
      },
      {
       "output_type": "stream",
       "stream": "stdout",
       "text": [
        "\n",
        "ratio: 0.0007\n",
        "[126, 60000, 60000, 60000]\n",
        "epoch:"
       ]
      },
      {
       "output_type": "stream",
       "stream": "stdout",
       "text": [
        " 0\n",
        "time per epoch:"
       ]
      },
      {
       "output_type": "stream",
       "stream": "stdout",
       "text": [
        " 143.0\n",
        "number of stable samples: 0\n",
        "epoch: 1\n",
        "time per epoch:"
       ]
      },
      {
       "output_type": "stream",
       "stream": "stdout",
       "text": [
        " 142.0\n",
        "number of stable samples: 0\n",
        "epoch: 2\n",
        "time per epoch:"
       ]
      },
      {
       "output_type": "stream",
       "stream": "stdout",
       "text": [
        " 139.0\n",
        "number of stable samples: 0\n",
        "epoch: 3\n",
        "time per epoch:"
       ]
      },
      {
       "output_type": "stream",
       "stream": "stdout",
       "text": [
        " 141.0\n",
        "number of stable samples: 7\n",
        "epoch: 4\n",
        "time per epoch:"
       ]
      },
      {
       "output_type": "stream",
       "stream": "stdout",
       "text": [
        " 146.0\n",
        "number of stable samples: 9\n",
        "epoch: 5\n",
        "time per epoch:"
       ]
      },
      {
       "output_type": "stream",
       "stream": "stdout",
       "text": [
        " 142.0\n",
        "number of stable samples: 26\n",
        "epoch: 6\n",
        "time per epoch:"
       ]
      },
      {
       "output_type": "stream",
       "stream": "stdout",
       "text": [
        " 154.0\n",
        "number of stable samples: 90\n",
        "epoch: 7\n",
        "time per epoch:"
       ]
      },
      {
       "output_type": "stream",
       "stream": "stdout",
       "text": [
        " 147.0\n",
        "number of stable samples: 480\n",
        "epoch: 8\n",
        "time per epoch:"
       ]
      },
      {
       "output_type": "stream",
       "stream": "stdout",
       "text": [
        " 135.0\n",
        "number of stable samples: 9180\n",
        "epoch: 9\n",
        "time per epoch:"
       ]
      },
      {
       "output_type": "stream",
       "stream": "stdout",
       "text": [
        " 112.0\n",
        "number of stable samples: 45712\n",
        "[ 52.           0.           2.33333333   1.          28.48157299\n",
        "         -inf]"
       ]
      },
      {
       "output_type": "stream",
       "stream": "stdout",
       "text": [
        "\n",
        "ratio: 0.0005\n",
        "[90, 60000, 60000, 60000]\n",
        "epoch:"
       ]
      },
      {
       "output_type": "stream",
       "stream": "stdout",
       "text": [
        " 0\n",
        "time per epoch:"
       ]
      },
      {
       "output_type": "stream",
       "stream": "stdout",
       "text": [
        " 141.0\n",
        "number of stable samples: 0\n",
        "epoch: 1\n",
        "time per epoch:"
       ]
      },
      {
       "output_type": "stream",
       "stream": "stdout",
       "text": [
        " 139.0\n",
        "number of stable samples: 0\n",
        "epoch: 2\n",
        "time per epoch:"
       ]
      },
      {
       "output_type": "stream",
       "stream": "stdout",
       "text": [
        " 141.0\n",
        "number of stable samples: 0\n",
        "epoch: 3\n",
        "time per epoch:"
       ]
      },
      {
       "output_type": "stream",
       "stream": "stdout",
       "text": [
        " 142.0\n",
        "number of stable samples: 3\n",
        "epoch: 4\n",
        "time per epoch:"
       ]
      },
      {
       "output_type": "stream",
       "stream": "stdout",
       "text": [
        " 142.0\n",
        "number of stable samples: 36\n",
        "epoch: 5\n",
        "time per epoch:"
       ]
      },
      {
       "output_type": "stream",
       "stream": "stdout",
       "text": [
        " 142.0\n",
        "number of stable samples: 30\n",
        "epoch: 6\n",
        "time per epoch:"
       ]
      },
      {
       "output_type": "stream",
       "stream": "stdout",
       "text": [
        " 158.0\n",
        "number of stable samples: 128\n",
        "epoch: 7\n",
        "time per epoch:"
       ]
      },
      {
       "output_type": "stream",
       "stream": "stdout",
       "text": [
        " 148.0\n",
        "number of stable samples: 368\n",
        "epoch: 8\n",
        "time per epoch:"
       ]
      },
      {
       "output_type": "stream",
       "stream": "stdout",
       "text": [
        " 134.0\n",
        "number of stable samples: 8618\n",
        "epoch: 9\n",
        "time per epoch:"
       ]
      },
      {
       "output_type": "stream",
       "stream": "stdout",
       "text": [
        " 112.0\n",
        "number of stable samples: 44759\n",
        "[ 39.           0.           6.           1.          14.74061445\n",
        " -50.44070818]"
       ]
      },
      {
       "output_type": "stream",
       "stream": "stdout",
       "text": [
        "\n",
        "ratio: 0.0004\n",
        "[72, 60000, 60000, 60000]\n",
        "epoch:"
       ]
      },
      {
       "output_type": "stream",
       "stream": "stdout",
       "text": [
        " 0\n",
        "time per epoch:"
       ]
      },
      {
       "output_type": "stream",
       "stream": "stdout",
       "text": [
        " 140.0\n",
        "number of stable samples: 0\n",
        "epoch: 1\n",
        "time per epoch:"
       ]
      },
      {
       "output_type": "stream",
       "stream": "stdout",
       "text": [
        " 143.0\n",
        "number of stable samples: 0\n",
        "epoch: 2\n",
        "time per epoch:"
       ]
      },
      {
       "output_type": "stream",
       "stream": "stdout",
       "text": [
        " 141.0\n",
        "number of stable samples: 0\n",
        "epoch: 3\n",
        "time per epoch:"
       ]
      },
      {
       "output_type": "stream",
       "stream": "stdout",
       "text": [
        " 150.0\n",
        "number of stable samples: 0\n",
        "epoch: 4\n",
        "time per epoch:"
       ]
      },
      {
       "output_type": "stream",
       "stream": "stdout",
       "text": [
        " 142.0\n",
        "number of stable samples: 8\n",
        "epoch: 5\n",
        "time per epoch:"
       ]
      },
      {
       "output_type": "stream",
       "stream": "stdout",
       "text": [
        " 142.0\n",
        "number of stable samples: 10\n",
        "epoch: 6\n",
        "time per epoch:"
       ]
      },
      {
       "output_type": "stream",
       "stream": "stdout",
       "text": [
        " 161.0\n",
        "number of stable samples: 43\n",
        "epoch: 7\n",
        "time per epoch:"
       ]
      },
      {
       "output_type": "stream",
       "stream": "stdout",
       "text": [
        " 151.0\n",
        "number of stable samples: 356\n",
        "epoch: 8\n",
        "time per epoch:"
       ]
      },
      {
       "output_type": "stream",
       "stream": "stdout",
       "text": [
        " 138.0\n",
        "number of stable samples: 8988\n",
        "epoch: 9\n",
        "time per epoch:"
       ]
      },
      {
       "output_type": "stream",
       "stream": "stdout",
       "text": [
        " 117.0\n",
        "number of stable samples: 45452\n",
        "[ 26.           0.           9.66666667   4.66666667   6.86751707\n",
        "         -inf]"
       ]
      },
      {
       "output_type": "stream",
       "stream": "stdout",
       "text": [
        "\n",
        "ratio: 0.00025\n",
        "[45, 60000, 60000, 60000]\n",
        "epoch:"
       ]
      },
      {
       "output_type": "stream",
       "stream": "stdout",
       "text": [
        " 0\n",
        "time per epoch:"
       ]
      },
      {
       "output_type": "stream",
       "stream": "stdout",
       "text": [
        " 142.0\n",
        "number of stable samples: 0\n",
        "epoch: 1\n",
        "time per epoch:"
       ]
      },
      {
       "output_type": "stream",
       "stream": "stdout",
       "text": [
        " 138.0\n",
        "number of stable samples: 0\n",
        "epoch: 2\n",
        "time per epoch:"
       ]
      },
      {
       "output_type": "stream",
       "stream": "stdout",
       "text": [
        " 140.0\n",
        "number of stable samples: 0\n",
        "epoch: 3\n",
        "time per epoch:"
       ]
      },
      {
       "output_type": "stream",
       "stream": "stdout",
       "text": [
        " 142.0\n",
        "number of stable samples: 6\n",
        "epoch: 4\n",
        "time per epoch:"
       ]
      },
      {
       "output_type": "stream",
       "stream": "stdout",
       "text": [
        " 141.0\n",
        "number of stable samples: 11\n",
        "epoch: 5\n",
        "time per epoch:"
       ]
      },
      {
       "output_type": "stream",
       "stream": "stdout",
       "text": [
        " 142.0\n",
        "number of stable samples: 8\n",
        "epoch: 6\n",
        "time per epoch:"
       ]
      },
      {
       "output_type": "stream",
       "stream": "stdout",
       "text": [
        " 155.0\n",
        "number of stable samples: 85\n",
        "epoch: 7\n",
        "time per epoch:"
       ]
      },
      {
       "output_type": "stream",
       "stream": "stdout",
       "text": [
        " 151.0\n",
        "number of stable samples: 522\n",
        "epoch: 8\n",
        "time per epoch:"
       ]
      },
      {
       "output_type": "stream",
       "stream": "stdout",
       "text": [
        " 135.0\n",
        "number of stable samples: 8743\n",
        "epoch: 9\n",
        "time per epoch:"
       ]
      },
      {
       "output_type": "stream",
       "stream": "stdout",
       "text": [
        " 111.0\n",
        "number of stable samples: 44443\n",
        "[ 20.           0.           5.           2.33333333   7.38548946\n",
        "         -inf]"
       ]
      },
      {
       "output_type": "stream",
       "stream": "stdout",
       "text": [
        "\n",
        "ratio: 0.0001\n",
        "[18, 60000, 60000, 60000]\n",
        "epoch:"
       ]
      },
      {
       "output_type": "stream",
       "stream": "stdout",
       "text": [
        " 0\n",
        "time per epoch:"
       ]
      },
      {
       "output_type": "stream",
       "stream": "stdout",
       "text": [
        " 143.0\n",
        "number of stable samples: 0\n",
        "epoch: 1\n",
        "time per epoch:"
       ]
      },
      {
       "output_type": "stream",
       "stream": "stdout",
       "text": [
        " 155.0\n",
        "number of stable samples: 0\n",
        "epoch: 2\n",
        "time per epoch:"
       ]
      },
      {
       "output_type": "stream",
       "stream": "stdout",
       "text": [
        " 147.0\n",
        "number of stable samples: 0\n",
        "epoch: 3\n",
        "time per epoch:"
       ]
      },
      {
       "output_type": "stream",
       "stream": "stdout",
       "text": [
        " 146.0\n",
        "number of stable samples: 1\n",
        "epoch: 4\n",
        "time per epoch:"
       ]
      },
      {
       "output_type": "stream",
       "stream": "stdout",
       "text": [
        " 145.0\n",
        "number of stable samples: 4\n",
        "epoch: 5\n",
        "time per epoch:"
       ]
      },
      {
       "output_type": "stream",
       "stream": "stdout",
       "text": [
        " 145.0\n",
        "number of stable samples: 19\n",
        "epoch: 6\n",
        "time per epoch:"
       ]
      },
      {
       "output_type": "stream",
       "stream": "stdout",
       "text": [
        " 165.0\n",
        "number of stable samples: 49\n",
        "epoch: 7\n",
        "time per epoch:"
       ]
      },
      {
       "output_type": "stream",
       "stream": "stdout",
       "text": [
        " 157.0\n",
        "number of stable samples: 385\n",
        "epoch: 8\n",
        "time per epoch:"
       ]
      },
      {
       "output_type": "stream",
       "stream": "stdout",
       "text": [
        " 138.0\n",
        "number of stable samples: 8388\n",
        "epoch: 9\n",
        "time per epoch:"
       ]
      },
      {
       "output_type": "stream",
       "stream": "stdout",
       "text": [
        " 114.0\n",
        "number of stable samples: 44917\n",
        "[ 10.           0.          20.33333333  14.33333333   1.69841555\n",
        "         -inf]"
       ]
      },
      {
       "output_type": "stream",
       "stream": "stdout",
       "text": [
        "\n",
        "ratio: 0.001\n",
        "[180, 60000, 60000, 60000]\n",
        "epoch:"
       ]
      },
      {
       "output_type": "stream",
       "stream": "stdout",
       "text": [
        " 0\n",
        "time per epoch:"
       ]
      },
      {
       "output_type": "stream",
       "stream": "stdout",
       "text": [
        " 139.0\n",
        "number of stable samples: 0\n",
        "epoch: 1\n",
        "time per epoch:"
       ]
      },
      {
       "output_type": "stream",
       "stream": "stdout",
       "text": [
        " 139.0\n",
        "number of stable samples: 0\n",
        "epoch: 2\n",
        "time per epoch:"
       ]
      },
      {
       "output_type": "stream",
       "stream": "stdout",
       "text": [
        " 137.0\n",
        "number of stable samples: 0\n",
        "epoch: 3\n",
        "time per epoch:"
       ]
      },
      {
       "output_type": "stream",
       "stream": "stdout",
       "text": [
        " 139.0\n",
        "number of stable samples: 49\n",
        "epoch: 4\n",
        "time per epoch:"
       ]
      },
      {
       "output_type": "stream",
       "stream": "stdout",
       "text": [
        " 141.0\n",
        "number of stable samples: 20\n",
        "epoch: 5\n",
        "time per epoch:"
       ]
      },
      {
       "output_type": "stream",
       "stream": "stdout",
       "text": [
        " 141.0\n",
        "number of stable samples: 26\n",
        "epoch: 6\n",
        "time per epoch:"
       ]
      },
      {
       "output_type": "stream",
       "stream": "stdout",
       "text": [
        " 156.0\n",
        "number of stable samples: 72\n",
        "epoch: 7\n",
        "time per epoch:"
       ]
      },
      {
       "output_type": "stream",
       "stream": "stdout",
       "text": [
        " 150.0\n",
        "number of stable samples: 444\n",
        "epoch: 8\n",
        "time per epoch:"
       ]
      },
      {
       "output_type": "stream",
       "stream": "stdout",
       "text": [
        " 134.0\n",
        "number of stable samples: 9443\n",
        "epoch: 9\n",
        "time per epoch:"
       ]
      },
      {
       "output_type": "stream",
       "stream": "stdout",
       "text": [
        " 110.0\n",
        "number of stable samples: 46407\n",
        "[  55.            0.            2.            1.           31.75426481\n",
        " -119.73677867]"
       ]
      },
      {
       "output_type": "stream",
       "stream": "stdout",
       "text": [
        "\n",
        "ratio: 0.0007\n",
        "[126, 60000, 60000, 60000]\n",
        "epoch:"
       ]
      },
      {
       "output_type": "stream",
       "stream": "stdout",
       "text": [
        " 0\n",
        "time per epoch:"
       ]
      },
      {
       "output_type": "stream",
       "stream": "stdout",
       "text": [
        " 139.0\n",
        "number of stable samples: 0\n",
        "epoch: 1\n",
        "time per epoch:"
       ]
      },
      {
       "output_type": "stream",
       "stream": "stdout",
       "text": [
        " 137.0\n",
        "number of stable samples: 0\n",
        "epoch: 2\n",
        "time per epoch:"
       ]
      },
      {
       "output_type": "stream",
       "stream": "stdout",
       "text": [
        " 140.0\n",
        "number of stable samples: 0\n",
        "epoch: 3\n",
        "time per epoch:"
       ]
      },
      {
       "output_type": "stream",
       "stream": "stdout",
       "text": [
        " 138.0\n",
        "number of stable samples: 9\n",
        "epoch: 4\n",
        "time per epoch:"
       ]
      },
      {
       "output_type": "stream",
       "stream": "stdout",
       "text": [
        " 136.0\n",
        "number of stable samples: 7\n",
        "epoch: 5\n",
        "time per epoch:"
       ]
      },
      {
       "output_type": "stream",
       "stream": "stdout",
       "text": [
        " 138.0\n",
        "number of stable samples: 25\n",
        "epoch: 6\n",
        "time per epoch:"
       ]
      },
      {
       "output_type": "stream",
       "stream": "stdout",
       "text": [
        " 154.0\n",
        "number of stable samples: 91\n",
        "epoch: 7\n",
        "time per epoch:"
       ]
      },
      {
       "output_type": "stream",
       "stream": "stdout",
       "text": [
        " 144.0\n",
        "number of stable samples: 411\n",
        "epoch: 8\n",
        "time per epoch:"
       ]
      },
      {
       "output_type": "stream",
       "stream": "stdout",
       "text": [
        " 130.0\n",
        "number of stable samples: 8620\n",
        "epoch: 9\n",
        "time per epoch:"
       ]
      },
      {
       "output_type": "stream",
       "stream": "stdout",
       "text": [
        " 112.0\n",
        "number of stable samples: 44636\n",
        "[ 45.           0.           7.33333333   1.33333333  15.28573996\n",
        "         -inf]"
       ]
      },
      {
       "output_type": "stream",
       "stream": "stdout",
       "text": [
        "\n",
        "ratio: 0.0005\n",
        "[90, 60000, 60000, 60000]\n",
        "epoch:"
       ]
      },
      {
       "output_type": "stream",
       "stream": "stdout",
       "text": [
        " 0\n",
        "time per epoch:"
       ]
      },
      {
       "output_type": "stream",
       "stream": "stdout",
       "text": [
        " 142.0\n",
        "number of stable samples: 0\n",
        "epoch: 1\n",
        "time per epoch:"
       ]
      },
      {
       "output_type": "stream",
       "stream": "stdout",
       "text": [
        " 140.0\n",
        "number of stable samples: 0\n",
        "epoch: 2\n",
        "time per epoch:"
       ]
      },
      {
       "output_type": "stream",
       "stream": "stdout",
       "text": [
        " 142.0\n",
        "number of stable samples: 0\n",
        "epoch: 3\n",
        "time per epoch:"
       ]
      },
      {
       "output_type": "stream",
       "stream": "stdout",
       "text": [
        " 139.0\n",
        "number of stable samples: 0\n",
        "epoch: 4\n",
        "time per epoch:"
       ]
      },
      {
       "output_type": "stream",
       "stream": "stdout",
       "text": [
        " 140.0\n",
        "number of stable samples: 5\n",
        "epoch: 5\n",
        "time per epoch:"
       ]
      },
      {
       "output_type": "stream",
       "stream": "stdout",
       "text": [
        " 139.0\n",
        "number of stable samples: 16\n",
        "epoch: 6\n",
        "time per epoch:"
       ]
      },
      {
       "output_type": "stream",
       "stream": "stdout",
       "text": [
        " 154.0\n",
        "number of stable samples: 71\n",
        "epoch: 7\n",
        "time per epoch:"
       ]
      },
      {
       "output_type": "stream",
       "stream": "stdout",
       "text": [
        " 149.0\n",
        "number of stable samples: 355\n",
        "epoch: 8\n",
        "time per epoch:"
       ]
      },
      {
       "output_type": "stream",
       "stream": "stdout",
       "text": [
        " 133.0\n",
        "number of stable samples: 8925\n",
        "epoch: 9\n",
        "time per epoch:"
       ]
      },
      {
       "output_type": "stream",
       "stream": "stdout",
       "text": [
        " 111.0\n",
        "number of stable samples: 44620\n",
        "[ 36.           0.           8.33333333   1.33333333  11.57881538\n",
        "         -inf]"
       ]
      },
      {
       "output_type": "stream",
       "stream": "stdout",
       "text": [
        "\n",
        "ratio: 0.0004\n",
        "[72, 60000, 60000, 60000]\n",
        "epoch:"
       ]
      },
      {
       "output_type": "stream",
       "stream": "stdout",
       "text": [
        " 0\n",
        "time per epoch:"
       ]
      },
      {
       "output_type": "stream",
       "stream": "stdout",
       "text": [
        " 138.0\n",
        "number of stable samples: 0\n",
        "epoch: 1\n",
        "time per epoch:"
       ]
      },
      {
       "output_type": "stream",
       "stream": "stdout",
       "text": [
        " 140.0\n",
        "number of stable samples: 0\n",
        "epoch: 2\n",
        "time per epoch:"
       ]
      },
      {
       "output_type": "stream",
       "stream": "stdout",
       "text": [
        " 147.0\n",
        "number of stable samples: 0\n",
        "epoch: 3\n",
        "time per epoch:"
       ]
      },
      {
       "output_type": "stream",
       "stream": "stdout",
       "text": [
        " 138.0\n",
        "number of stable samples: 7\n",
        "epoch: 4\n",
        "time per epoch:"
       ]
      },
      {
       "output_type": "stream",
       "stream": "stdout",
       "text": [
        " 137.0\n",
        "number of stable samples: 2\n",
        "epoch: 5\n",
        "time per epoch:"
       ]
      },
      {
       "output_type": "stream",
       "stream": "stdout",
       "text": [
        " 141.0\n",
        "number of stable samples: 4\n",
        "epoch: 6\n",
        "time per epoch:"
       ]
      },
      {
       "output_type": "stream",
       "stream": "stdout",
       "text": [
        " 152.0\n",
        "number of stable samples: 26\n",
        "epoch: 7\n",
        "time per epoch:"
       ]
      },
      {
       "output_type": "stream",
       "stream": "stdout",
       "text": [
        " 147.0\n",
        "number of stable samples: 429\n",
        "epoch: 8\n",
        "time per epoch:"
       ]
      },
      {
       "output_type": "stream",
       "stream": "stdout",
       "text": [
        " 134.0\n",
        "number of stable samples: 8376\n",
        "epoch: 9\n",
        "time per epoch:"
       ]
      },
      {
       "output_type": "stream",
       "stream": "stdout",
       "text": [
        " 117.0\n",
        "number of stable samples: 46041\n",
        "[ 32.           0.           4.66666667   5.          10.29228033\n",
        "         -inf]"
       ]
      },
      {
       "output_type": "stream",
       "stream": "stdout",
       "text": [
        "\n",
        "ratio: 0.00025\n",
        "[45, 60000, 60000, 60000]\n",
        "epoch:"
       ]
      },
      {
       "output_type": "stream",
       "stream": "stdout",
       "text": [
        " 0\n",
        "time per epoch:"
       ]
      },
      {
       "output_type": "stream",
       "stream": "stdout",
       "text": [
        " 153.0\n",
        "number of stable samples: 0\n",
        "epoch: 1\n",
        "time per epoch:"
       ]
      },
      {
       "output_type": "stream",
       "stream": "stdout",
       "text": [
        " 149.0\n",
        "number of stable samples: 0\n",
        "epoch: 2\n",
        "time per epoch:"
       ]
      },
      {
       "output_type": "stream",
       "stream": "stdout",
       "text": [
        " 148.0\n",
        "number of stable samples: 0\n",
        "epoch: 3\n",
        "time per epoch:"
       ]
      },
      {
       "output_type": "stream",
       "stream": "stdout",
       "text": [
        " 147.0\n",
        "number of stable samples: 4\n",
        "epoch: 4\n",
        "time per epoch:"
       ]
      },
      {
       "output_type": "stream",
       "stream": "stdout",
       "text": [
        " 141.0\n",
        "number of stable samples: 5\n",
        "epoch: 5\n",
        "time per epoch:"
       ]
      },
      {
       "output_type": "stream",
       "stream": "stdout",
       "text": [
        " 142.0\n",
        "number of stable samples: 9\n",
        "epoch: 6\n",
        "time per epoch:"
       ]
      },
      {
       "output_type": "stream",
       "stream": "stdout",
       "text": [
        " 157.0\n",
        "number of stable samples: 36\n",
        "epoch: 7\n",
        "time per epoch:"
       ]
      },
      {
       "output_type": "stream",
       "stream": "stdout",
       "text": [
        " 151.0\n",
        "number of stable samples: 411\n",
        "epoch: 8\n",
        "time per epoch:"
       ]
      },
      {
       "output_type": "stream",
       "stream": "stdout",
       "text": [
        " 136.0\n",
        "number of stable samples: 8712\n",
        "epoch: 9\n",
        "time per epoch:"
       ]
      },
      {
       "output_type": "stream",
       "stream": "stdout",
       "text": [
        " 113.0\n",
        "number of stable samples: 44537\n",
        "[ 15.           0.          11.           6.66666667   3.56873214\n",
        "         -inf]"
       ]
      },
      {
       "output_type": "stream",
       "stream": "stdout",
       "text": [
        "\n",
        "ratio: 0.0001\n",
        "[18, 60000, 60000, 60000]\n",
        "epoch:"
       ]
      },
      {
       "output_type": "stream",
       "stream": "stdout",
       "text": [
        " 0\n",
        "time per epoch:"
       ]
      },
      {
       "output_type": "stream",
       "stream": "stdout",
       "text": [
        " 144.0\n",
        "number of stable samples: 0\n",
        "epoch: 1\n",
        "time per epoch:"
       ]
      },
      {
       "output_type": "stream",
       "stream": "stdout",
       "text": [
        " 144.0\n",
        "number of stable samples: 0\n",
        "epoch: 2\n",
        "time per epoch:"
       ]
      },
      {
       "output_type": "stream",
       "stream": "stdout",
       "text": [
        " 145.0\n",
        "number of stable samples: 0\n",
        "epoch: 3\n",
        "time per epoch:"
       ]
      },
      {
       "output_type": "stream",
       "stream": "stdout",
       "text": [
        " 157.0\n",
        "number of stable samples: 84\n",
        "epoch: 4\n",
        "time per epoch:"
       ]
      },
      {
       "output_type": "stream",
       "stream": "stdout",
       "text": [
        " 157.0\n",
        "number of stable samples: 14\n",
        "epoch: 5\n",
        "time per epoch:"
       ]
      },
      {
       "output_type": "stream",
       "stream": "stdout",
       "text": [
        " 153.0\n",
        "number of stable samples: 25\n",
        "epoch: 6\n",
        "time per epoch:"
       ]
      },
      {
       "output_type": "stream",
       "stream": "stdout",
       "text": [
        " 165.0\n",
        "number of stable samples: 103\n",
        "epoch: 7\n",
        "time per epoch:"
       ]
      },
      {
       "output_type": "stream",
       "stream": "stdout",
       "text": [
        " 153.0\n",
        "number of stable samples: 560\n",
        "epoch: 8\n",
        "time per epoch:"
       ]
      },
      {
       "output_type": "stream",
       "stream": "stdout",
       "text": [
        " 141.0\n",
        "number of stable samples: 9540\n",
        "epoch: 9\n",
        "time per epoch:"
       ]
      },
      {
       "output_type": "stream",
       "stream": "stdout",
       "text": [
        " 115.0\n",
        "number of stable samples: 45140\n",
        "[  9.           0.          19.66666667  10.66666667   1.63411434\n",
        "         -inf]"
       ]
      },
      {
       "output_type": "stream",
       "stream": "stdout",
       "text": [
        "\n",
        "ratio: 0.001\n",
        "[180, 60000, 60000, 60000]\n",
        "epoch:"
       ]
      },
      {
       "output_type": "stream",
       "stream": "stdout",
       "text": [
        " 0\n",
        "time per epoch:"
       ]
      },
      {
       "output_type": "stream",
       "stream": "stdout",
       "text": [
        " 147.0\n",
        "number of stable samples: 0\n",
        "epoch: 1\n",
        "time per epoch:"
       ]
      },
      {
       "output_type": "stream",
       "stream": "stdout",
       "text": [
        " 139.0\n",
        "number of stable samples: 0\n",
        "epoch: 2\n",
        "time per epoch:"
       ]
      },
      {
       "output_type": "stream",
       "stream": "stdout",
       "text": [
        " 143.0\n",
        "number of stable samples: 0\n",
        "epoch: 3\n",
        "time per epoch:"
       ]
      },
      {
       "output_type": "stream",
       "stream": "stdout",
       "text": [
        " 157.0\n",
        "number of stable samples: 0\n",
        "epoch: 4\n",
        "time per epoch:"
       ]
      }
     ]
    },
    {
     "cell_type": "code",
     "collapsed": false,
     "input": [
      "ratios = np.array([0.001, 0.0007, 0.0005, 0.0004, 0.00025, 0.0001]) \n",
      "\n",
      "n_neurons = 10\n",
      "epochs = 10\n",
      "sigma = (6, 0.001) \n",
      "lrate = (0.2, 0.01)\n",
      "threshold = 4\n",
      "n_trn = 40000\n",
      "n_tst = 200000\n",
      "\n",
      "# Dump into pickle in case \n",
      "pickle.dump(BestCells3d, open('BestCells3d.pkl', 'w'))\n",
      "print BestCells3d"
     ],
     "language": "python",
     "metadata": {},
     "outputs": [
      {
       "output_type": "stream",
       "stream": "stdout",
       "text": [
        "[[[ 51.           0.           2.2          0.4         31.62885732   0.425     ]\n",
        "  [ 33.           0.           4.           1.          14.75804865\n",
        "     0.39285714]\n",
        "  [ 35.           0.           3.2          1.4         16.31883414\n",
        "     0.58333333]\n",
        "  [ 25.           0.           9.6          6.6          6.21129994\n",
        "     0.52083333]\n",
        "  [ 14.           0.          14.6          8.2          2.93197736\n",
        "     0.46666667]\n",
        "  [  7.           0.          15.2          5.6          1.53485153\n",
        "     0.58333333]]\n",
        "\n",
        " [[ 49.           0.           6.           1.6         17.77416813\n",
        "     0.40833333]\n",
        "  [ 41.           0.           2.6          2.          19.11634857\n",
        "     0.48809524]\n",
        "  [ 27.           0.           7.2          2.8          8.53814968   0.45      ]\n",
        "  [ 16.           0.          12.           4.           4.           0.33333333]\n",
        "  [ 14.           0.           8.4          7.           3.56753034\n",
        "     0.46666667]\n",
        "  [  8.           0.          20.8         13.4          1.36797114\n",
        "     0.66666667]]\n",
        "\n",
        " [[ 45.           0.           3.4          2.2         19.01597073   0.375     ]\n",
        "  [ 30.           0.           2.           3.4         12.90994449\n",
        "     0.35714286]\n",
        "  [ 25.           0.           5.           2.4          9.19018278\n",
        "     0.41666667]\n",
        "  [ 24.           0.          11.           6.           5.820855     0.5       ]\n",
        "  [ 16.           0.           6.2          5.           4.78091444\n",
        "     0.53333333]\n",
        "  [  5.           0.          18.2         11.2          0.92213889\n",
        "     0.41666667]]]\n"
       ]
      }
     ],
     "prompt_number": 58
    },
    {
     "cell_type": "code",
     "collapsed": false,
     "input": [
      "# n_trn = 20000\n",
      "# n_tst = 220000\n",
      "# ratios = np.array([0.001, 0.0007, 0.0005, 0.00025, 0.0001, 0.00005]) \n",
      "\n",
      "# Dump into pickle in case \n",
      "pickle.dump(BestCells3d, open('BestCells3d_WithMuons.pkl', 'w'))"
     ],
     "language": "python",
     "metadata": {},
     "outputs": [],
     "prompt_number": 19
    },
    {
     "cell_type": "code",
     "collapsed": false,
     "input": [
      "# Perform the ratio test on a 3D network \n",
      "ratios = np.array([0.001, 0.0007, 0.0005, 0.0004, 0.00025, 0.0001]) \n",
      "\n",
      "n_neurons = 10\n",
      "epochs = 10\n",
      "sigma = (6, 0.001) \n",
      "lrate = (0.2, 0.01)\n",
      "threshold = 4\n",
      "n_trn = 80000\n",
      "n_tst = 200000\n",
      "\n",
      "sig_mean = np.mean(BestCells3d[..., -2], axis = 0)\n",
      "sig_std = np.std(BestCells3d[..., -2], axis = 0)\n",
      "eff_mean = np.mean(BestCells3d[..., -1], axis = 0)\n",
      "eff_std = np.std(BestCells3d[..., -1], axis = 0)\n",
      "print sig_mean \n",
      "print sig_std\n",
      "\n",
      "plt.errorbar(ratios, sig_mean, yerr = sig_std, label = 'sig/std_bkg')\n",
      "plt.title('Significance: signal/sqrt(background)')\n",
      "plt.xscale('log')\n",
      "plt.xlabel('Signal to background ratio')\n",
      "plt.ylabel('Significance')\n",
      "plt.xlim([0.00005, 0.004])\n",
      "#plt.yscale('log')\n",
      "plt.show()\n",
      "\n",
      "plt.errorbar(ratios, sig_mean, yerr = sig_std, label = 'sig/std_bkg')\n",
      "plt.title('Significance: signal/sqrt(background), log scale')\n",
      "plt.xscale('log')\n",
      "plt.xlabel('Signal to background ratio')\n",
      "plt.ylabel('Significance')\n",
      "plt.xlim([0.00005, 0.004])\n",
      "plt.yscale('log')\n",
      "plt.show()\n",
      "\n",
      "plt.errorbar(ratios, eff_mean, yerr = eff_std, label = 'efficiency')\n",
      "plt.title('efficiency of the signal')\n",
      "plt.xlabel('Signal to Background Ratio')\n",
      "plt.ylabel('Efficiency')\n",
      "plt.ylim([0, 1])\n",
      "#plt.xlim([0.00005, 0.006])\n",
      "plt.xscale('log')\n",
      "plt.show()\n",
      "\n",
      "#for r in ratios:\n",
      "    #print r\n",
      "    #DataMap3d[r].show_map()"
     ],
     "language": "python",
     "metadata": {},
     "outputs": [
      {
       "output_type": "stream",
       "stream": "stdout",
       "text": [
        "[ 43.30127019  25.5         15.10518675  17.96292478   6.0960061\n",
        "   1.5249857 ]\n",
        "[ 0.  0.  0.  0.  0.  0.]\n"
       ]
      },
      {
       "metadata": {},
       "output_type": "display_data",
       "png": "[encoded data removed]",
       "text": [
        "<matplotlib.figure.Figure at 0x7f3cdcf6bf90>"
       ]
      },
      {
       "metadata": {},
       "output_type": "display_data",
       "png": "[encoded data removed]",
       "text": [
        "<matplotlib.figure.Figure at 0x7f3cbbf34290>"
       ]
      },
      {
       "metadata": {},
       "output_type": "display_data",
       "png": "[encoded data removed]",
       "text": [
        "<matplotlib.figure.Figure at 0x7f3cca85f1d0>"
       ]
      }
     ],
     "prompt_number": 60
    }
   ],
   "metadata": {}
  }
 ]
}