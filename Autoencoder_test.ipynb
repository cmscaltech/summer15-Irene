{
 "metadata": {
  "name": "",
  "signature": "sha256:2785235649c0b2c618fa43b9c0ed39505aa5a6facdef82565e9bc64bb228eeff"
 },
 "nbformat": 3,
 "nbformat_minor": 0,
 "worksheets": [
  {
   "cells": [
    {
     "cell_type": "code",
     "collapsed": false,
     "input": [
      "from pybrain.datasets import SupervisedDataSet\n",
      "from pybrain.supervised.trainers import BackpropTrainer\n",
      "from pybrain.utilities import percentError\n",
      "import pybrain.structure as st\n",
      "import numpy as np\n",
      "\n",
      "n_variables = 15\n",
      "n_samples = 30\n",
      "\n",
      "# Make a dataset                                                                \n",
      "data = [[np.random.normal() for i in range(n_variables)] for j in range(n_sampl\\\n",
      "es)]\n",
      "\n",
      "# Make it into a pybrain dataset                                                \n",
      "ds = SupervisedDataSet(n_variables, n_variables)\n",
      "ds.setField('input', data)\n",
      "ds.setField('target', data)\n",
      "\n",
      "print ds.indim, ds.outdim\n",
      "print 'number of training samples:', len(ds)"
     ],
     "language": "python",
     "metadata": {},
     "outputs": [
      {
       "output_type": "stream",
       "stream": "stdout",
       "text": [
        "15 15\n",
        "number of training samples: 30\n"
       ]
      }
     ],
     "prompt_number": 14
    },
    {
     "cell_type": "code",
     "collapsed": false,
     "input": [
      "# Build a network                                                               \n",
      "NN = st.FeedForwardNetwork()\n",
      "inLayer = st.LinearLayer(n_variables)\n",
      "hiddenLayer = SparseLayer(n_variables/2, beta = 0)\n",
      "outLayer = st.LinearLayer(n_variables)\n",
      "\n",
      "NN.addInputModule(inLayer)\n",
      "NN.addModule(hiddenLayer)\n",
      "NN.addOutputModule(outLayer)\n",
      "\n",
      "in_to_hidden = st.FullConnection(inLayer, hiddenLayer)\n",
      "hidden_to_out = st.FullConnection(hiddenLayer, outLayer)\n",
      "\n",
      "NN.addConnection(in_to_hidden)\n",
      "NN.addConnection(hidden_to_out)\n",
      "\n",
      "NN.sortModules()\n",
      "print NN\n",
      "\n",
      "# Train the network                                                            \n",
      "trainer = BackpropTrainer(NN, dataset = ds, verbose = True, weightdecay = 0, learningrate = 0.05) \n",
      "for i in range(20):\n",
      "    trainer.trainEpochs(10)\n",
      "    print 'one round of training done'\n"
     ],
     "language": "python",
     "metadata": {},
     "outputs": [
      {
       "output_type": "stream",
       "stream": "stdout",
       "text": [
        "FeedForwardNetwork-445\n",
        "   Modules:\n",
        "    [<LinearLayer 'LinearLayer-442'>, <SparseLayer 'SparseLayer-446'>, <LinearLayer 'LinearLayer-447'>]\n",
        "   Connections:\n",
        "    [<FullConnection 'FullConnection-443': 'LinearLayer-442' -> 'SparseLayer-446'>, <FullConnection 'FullConnection-444': 'SparseLayer-446' -> 'LinearLayer-447'>]\n",
        "\n",
        "Total error: 0.845097777477\n",
        "Total error:"
       ]
      },
      {
       "output_type": "stream",
       "stream": "stdout",
       "text": [
        " 0.471146131598\n",
        "Total error: 0.377192088098\n",
        "Total error:"
       ]
      },
      {
       "output_type": "stream",
       "stream": "stdout",
       "text": [
        " 0.330562574994\n",
        "Total error: 0.304504184773\n",
        "Total error:"
       ]
      },
      {
       "output_type": "stream",
       "stream": "stdout",
       "text": [
        " 0.282344567632\n",
        "Total error: 0.272209771509\n",
        "Total error:"
       ]
      },
      {
       "output_type": "stream",
       "stream": "stdout",
       "text": [
        " 0.258301159009\n",
        "Total error: 0.248015657634\n",
        "Total error:"
       ]
      },
      {
       "output_type": "stream",
       "stream": "stdout",
       "text": [
        " 0.241455585367\n",
        "one round of training done\n",
        "Total error: 0.235607162841\n",
        "Total error:"
       ]
      },
      {
       "output_type": "stream",
       "stream": "stdout",
       "text": [
        " 0.227082436677\n",
        "Total error: 0.222526744021\n",
        "Total error:"
       ]
      },
      {
       "output_type": "stream",
       "stream": "stdout",
       "text": [
        " 0.217637769205\n",
        "Total error: 0.217446716846\n",
        "Total error:"
       ]
      },
      {
       "output_type": "stream",
       "stream": "stdout",
       "text": [
        " 0.210871974026\n",
        "Total error: 0.207165152062\n",
        "Total error:"
       ]
      },
      {
       "output_type": "stream",
       "stream": "stdout",
       "text": [
        " 0.205394157099\n",
        "Total error: 0.202087447527\n",
        "Total error:"
       ]
      },
      {
       "output_type": "stream",
       "stream": "stdout",
       "text": [
        " 0.201137548657\n",
        "one round of training done\n",
        "Total error: 0.199298916222\n",
        "Total error:"
       ]
      },
      {
       "output_type": "stream",
       "stream": "stdout",
       "text": [
        " 0.196097016244\n",
        "Total error: 0.197188521651\n",
        "Total error:"
       ]
      },
      {
       "output_type": "stream",
       "stream": "stdout",
       "text": [
        " 0.195937637087\n",
        "Total error: 0.191744184496\n",
        "Total error:"
       ]
      },
      {
       "output_type": "stream",
       "stream": "stdout",
       "text": [
        " 0.19341968065\n",
        "Total error: 0.191843623953\n",
        "Total error:"
       ]
      },
      {
       "output_type": "stream",
       "stream": "stdout",
       "text": [
        " 0.189671314217\n",
        "Total error: 0.190095531888\n",
        "Total error:"
       ]
      },
      {
       "output_type": "stream",
       "stream": "stdout",
       "text": [
        " 0.187532728149\n",
        "one round of training done\n",
        "Total error: 0.189536777727\n",
        "Total error:"
       ]
      },
      {
       "output_type": "stream",
       "stream": "stdout",
       "text": [
        " 0.186741501741\n",
        "Total error: 0.188148974641\n",
        "Total error:"
       ]
      },
      {
       "output_type": "stream",
       "stream": "stdout",
       "text": [
        " 0.185256007492\n",
        "Total error: 0.186015010598\n",
        "Total error:"
       ]
      },
      {
       "output_type": "stream",
       "stream": "stdout",
       "text": [
        " 0.185165621365\n",
        "Total error: 0.183996034868\n",
        "Total error:"
       ]
      },
      {
       "output_type": "stream",
       "stream": "stdout",
       "text": [
        " 0.181103194753\n",
        "Total error: 0.18415658575\n",
        "Total error:"
       ]
      },
      {
       "output_type": "stream",
       "stream": "stdout",
       "text": [
        " 0.182650916649\n",
        "one round of training done\n",
        "Total error: 0.180212800608\n",
        "Total error:"
       ]
      },
      {
       "output_type": "stream",
       "stream": "stdout",
       "text": [
        " 0.181029777102\n",
        "Total error: 0.179697259277\n",
        "Total error:"
       ]
      },
      {
       "output_type": "stream",
       "stream": "stdout",
       "text": [
        " 0.177287592031\n",
        "Total error: 0.179538865131\n",
        "Total error:"
       ]
      },
      {
       "output_type": "stream",
       "stream": "stdout",
       "text": [
        " 0.177720611357\n",
        "Total error: 0.177688323685\n",
        "Total error:"
       ]
      },
      {
       "output_type": "stream",
       "stream": "stdout",
       "text": [
        " 0.177753729457\n",
        "Total error: 0.17469513058\n",
        "Total error:"
       ]
      },
      {
       "output_type": "stream",
       "stream": "stdout",
       "text": [
        " 0.177332521775\n",
        "one round of training done\n",
        "Total error: 0.176473719318\n",
        "Total error:"
       ]
      },
      {
       "output_type": "stream",
       "stream": "stdout",
       "text": [
        " 0.17549945814\n",
        "Total error: 0.17493218547\n",
        "Total error:"
       ]
      },
      {
       "output_type": "stream",
       "stream": "stdout",
       "text": [
        " 0.172437107799\n",
        "Total error: 0.174371152358\n",
        "Total error:"
       ]
      },
      {
       "output_type": "stream",
       "stream": "stdout",
       "text": [
        " 0.173700764681\n",
        "Total error: 0.17258255843\n",
        "Total error:"
       ]
      },
      {
       "output_type": "stream",
       "stream": "stdout",
       "text": [
        " 0.173560777461\n",
        "Total error: 0.172490168123\n",
        "Total error:"
       ]
      },
      {
       "output_type": "stream",
       "stream": "stdout",
       "text": [
        " 0.171431797728\n",
        "one round of training done\n",
        "Total error: 0.172454758698\n",
        "Total error:"
       ]
      },
      {
       "output_type": "stream",
       "stream": "stdout",
       "text": [
        " 0.171457773415\n",
        "Total error: 0.170465396539\n",
        "Total error:"
       ]
      },
      {
       "output_type": "stream",
       "stream": "stdout",
       "text": [
        " 0.170114919101\n",
        "Total error: 0.17124052896\n",
        "Total error:"
       ]
      },
      {
       "output_type": "stream",
       "stream": "stdout",
       "text": [
        " 0.169310444656\n",
        "Total error: 0.16921820566\n",
        "Total error:"
       ]
      },
      {
       "output_type": "stream",
       "stream": "stdout",
       "text": [
        " 0.168058834133\n",
        "Total error: 0.169411568124\n",
        "Total error:"
       ]
      },
      {
       "output_type": "stream",
       "stream": "stdout",
       "text": [
        " 0.166481859497\n",
        "one round of training done\n",
        "Total error: 0.16805844686\n",
        "Total error:"
       ]
      },
      {
       "output_type": "stream",
       "stream": "stdout",
       "text": [
        " 0.168656619008\n",
        "Total error: 0.167985258473\n",
        "Total error:"
       ]
      },
      {
       "output_type": "stream",
       "stream": "stdout",
       "text": [
        " 0.167523469018\n",
        "Total error: 0.167476724505\n",
        "Total error:"
       ]
      },
      {
       "output_type": "stream",
       "stream": "stdout",
       "text": [
        " 0.167187590152\n",
        "Total error: 0.165832615671\n",
        "Total error:"
       ]
      },
      {
       "output_type": "stream",
       "stream": "stdout",
       "text": [
        " 0.16613944855\n",
        "Total error: 0.166540066311\n",
        "Total error:"
       ]
      },
      {
       "output_type": "stream",
       "stream": "stdout",
       "text": [
        " 0.166768514776\n",
        "one round of training done\n",
        "Total error: 0.165388409476\n",
        "Total error:"
       ]
      },
      {
       "output_type": "stream",
       "stream": "stdout",
       "text": [
        " 0.164721472837\n",
        "Total error: 0.165951290184\n",
        "Total error:"
       ]
      },
      {
       "output_type": "stream",
       "stream": "stdout",
       "text": [
        " 0.165225379713\n",
        "Total error: 0.16488146996\n",
        "Total error:"
       ]
      },
      {
       "output_type": "stream",
       "stream": "stdout",
       "text": [
        " 0.16556721237\n",
        "Total error: 0.165079161577\n",
        "Total error:"
       ]
      },
      {
       "output_type": "stream",
       "stream": "stdout",
       "text": [
        " 0.162678284814\n",
        "Total error: 0.164346010998\n",
        "Total error:"
       ]
      },
      {
       "output_type": "stream",
       "stream": "stdout",
       "text": [
        " 0.163579648405\n",
        "one round of training done\n",
        "Total error: 0.164263324837\n",
        "Total error:"
       ]
      },
      {
       "output_type": "stream",
       "stream": "stdout",
       "text": [
        " 0.164051878015\n",
        "Total error: 0.16408371722\n",
        "Total error:"
       ]
      },
      {
       "output_type": "stream",
       "stream": "stdout",
       "text": [
        " 0.161994059777\n",
        "Total error: 0.164598264545\n",
        "Total error:"
       ]
      },
      {
       "output_type": "stream",
       "stream": "stdout",
       "text": [
        " 0.164691270421\n",
        "Total error: 0.16461975004\n",
        "Total error:"
       ]
      },
      {
       "output_type": "stream",
       "stream": "stdout",
       "text": [
        " 0.161984369165\n",
        "Total error: 0.162511364003\n",
        "Total error:"
       ]
      },
      {
       "output_type": "stream",
       "stream": "stdout",
       "text": [
        " 0.16346567521\n",
        "one round of training done\n",
        "Total error: 0.162147843341\n",
        "Total error:"
       ]
      },
      {
       "output_type": "stream",
       "stream": "stdout",
       "text": [
        " 0.162327412531\n",
        "Total error: 0.16285856142\n",
        "Total error:"
       ]
      },
      {
       "output_type": "stream",
       "stream": "stdout",
       "text": [
        " 0.163259422483\n",
        "Total error: 0.162460940853\n",
        "Total error:"
       ]
      },
      {
       "output_type": "stream",
       "stream": "stdout",
       "text": [
        " 0.161264839686\n",
        "Total error: 0.162604565706\n",
        "Total error:"
       ]
      },
      {
       "output_type": "stream",
       "stream": "stdout",
       "text": [
        " 0.162999927052\n",
        "Total error: 0.162447993099\n",
        "Total error:"
       ]
      },
      {
       "output_type": "stream",
       "stream": "stdout",
       "text": [
        " 0.161533580166\n",
        "one round of training done\n",
        "Total error: 0.161613468413\n",
        "Total error:"
       ]
      },
      {
       "output_type": "stream",
       "stream": "stdout",
       "text": [
        " 0.161774147904\n",
        "Total error: 0.161551443474\n",
        "Total error:"
       ]
      },
      {
       "output_type": "stream",
       "stream": "stdout",
       "text": [
        " 0.162385205317\n",
        "Total error: 0.161161827596\n",
        "Total error:"
       ]
      },
      {
       "output_type": "stream",
       "stream": "stdout",
       "text": [
        " 0.160994628762\n",
        "Total error: 0.159819830757\n",
        "Total error:"
       ]
      },
      {
       "output_type": "stream",
       "stream": "stdout",
       "text": [
        " 0.161553469148\n",
        "Total error: 0.158997828961\n",
        "Total error:"
       ]
      },
      {
       "output_type": "stream",
       "stream": "stdout",
       "text": [
        " 0.159126297337\n",
        "one round of training done\n",
        "Total error: 0.161042871081\n",
        "Total error:"
       ]
      },
      {
       "output_type": "stream",
       "stream": "stdout",
       "text": [
        " 0.159268882814\n",
        "Total error: 0.161562185608\n",
        "Total error:"
       ]
      },
      {
       "output_type": "stream",
       "stream": "stdout",
       "text": [
        " 0.15954093682\n",
        "Total error: 0.159924704631\n",
        "Total error:"
       ]
      },
      {
       "output_type": "stream",
       "stream": "stdout",
       "text": [
        " 0.161594874062\n",
        "Total error: 0.160581903047\n",
        "Total error:"
       ]
      },
      {
       "output_type": "stream",
       "stream": "stdout",
       "text": [
        " 0.160454817556\n",
        "Total error: 0.160712222902\n",
        "Total error:"
       ]
      },
      {
       "output_type": "stream",
       "stream": "stdout",
       "text": [
        " 0.160189412528\n",
        "one round of training done\n",
        "Total error: 0.160544506507\n",
        "Total error:"
       ]
      },
      {
       "output_type": "stream",
       "stream": "stdout",
       "text": [
        " 0.160560927057\n",
        "Total error: 0.159369385056\n",
        "Total error:"
       ]
      },
      {
       "output_type": "stream",
       "stream": "stdout",
       "text": [
        " 0.160023245806\n",
        "Total error: 0.159651363803\n",
        "Total error:"
       ]
      },
      {
       "output_type": "stream",
       "stream": "stdout",
       "text": [
        " 0.16077633613\n",
        "Total error: 0.159712520157\n",
        "Total error:"
       ]
      },
      {
       "output_type": "stream",
       "stream": "stdout",
       "text": [
        " 0.159817841072\n",
        "Total error: 0.159340366994\n",
        "Total error:"
       ]
      },
      {
       "output_type": "stream",
       "stream": "stdout",
       "text": [
        " 0.158849178182\n",
        "one round of training done\n",
        "Total error: 0.158640888149\n",
        "Total error:"
       ]
      },
      {
       "output_type": "stream",
       "stream": "stdout",
       "text": [
        " 0.160324579934\n",
        "Total error: 0.159474694788\n",
        "Total error:"
       ]
      },
      {
       "output_type": "stream",
       "stream": "stdout",
       "text": [
        " 0.159055985278\n",
        "Total error: 0.158894603918\n",
        "Total error:"
       ]
      },
      {
       "output_type": "stream",
       "stream": "stdout",
       "text": [
        " 0.158759798209\n",
        "Total error: 0.158326668613\n",
        "Total error:"
       ]
      },
      {
       "output_type": "stream",
       "stream": "stdout",
       "text": [
        " 0.158528055591\n",
        "Total error: 0.158153443287\n",
        "Total error:"
       ]
      },
      {
       "output_type": "stream",
       "stream": "stdout",
       "text": [
        " 0.159376411084\n",
        "one round of training done\n",
        "Total error: 0.157399859068\n",
        "Total error:"
       ]
      },
      {
       "output_type": "stream",
       "stream": "stdout",
       "text": [
        " 0.160565920035\n",
        "Total error: 0.158164071531\n",
        "Total error:"
       ]
      },
      {
       "output_type": "stream",
       "stream": "stdout",
       "text": [
        " 0.158438269754\n",
        "Total error: 0.158416775934\n",
        "Total error:"
       ]
      },
      {
       "output_type": "stream",
       "stream": "stdout",
       "text": [
        " 0.160532444758\n",
        "Total error: 0.158911974215\n",
        "Total error:"
       ]
      },
      {
       "output_type": "stream",
       "stream": "stdout",
       "text": [
        " 0.157436506962\n",
        "Total error: 0.158980207324\n",
        "Total error:"
       ]
      },
      {
       "output_type": "stream",
       "stream": "stdout",
       "text": [
        " 0.159326610016\n",
        "one round of training done\n",
        "Total error: 0.158360745252\n",
        "Total error:"
       ]
      },
      {
       "output_type": "stream",
       "stream": "stdout",
       "text": [
        " 0.157349278329\n",
        "Total error: 0.1573287546\n",
        "Total error:"
       ]
      },
      {
       "output_type": "stream",
       "stream": "stdout",
       "text": [
        " 0.159625947429\n",
        "Total error: 0.159058090818\n",
        "Total error:"
       ]
      },
      {
       "output_type": "stream",
       "stream": "stdout",
       "text": [
        " 0.15838429677\n",
        "Total error: 0.157993929426\n",
        "Total error:"
       ]
      },
      {
       "output_type": "stream",
       "stream": "stdout",
       "text": [
        " 0.1566672152\n",
        "Total error: 0.158712244736\n",
        "Total error:"
       ]
      },
      {
       "output_type": "stream",
       "stream": "stdout",
       "text": [
        " 0.159319274326\n",
        "one round of training done\n",
        "Total error: 0.158028534367\n",
        "Total error:"
       ]
      },
      {
       "output_type": "stream",
       "stream": "stdout",
       "text": [
        " 0.158272923926\n",
        "Total error: 0.158694774892\n",
        "Total error:"
       ]
      },
      {
       "output_type": "stream",
       "stream": "stdout",
       "text": [
        " 0.157629770679\n",
        "Total error: 0.159192141754\n",
        "Total error:"
       ]
      },
      {
       "output_type": "stream",
       "stream": "stdout",
       "text": [
        " 0.157970514565\n",
        "Total error: 0.158218834544\n",
        "Total error:"
       ]
      },
      {
       "output_type": "stream",
       "stream": "stdout",
       "text": [
        " 0.158019321324\n",
        "Total error: 0.157492140007\n",
        "Total error:"
       ]
      },
      {
       "output_type": "stream",
       "stream": "stdout",
       "text": [
        " 0.158520324739\n",
        "one round of training done\n",
        "Total error: 0.158222672317\n",
        "Total error:"
       ]
      },
      {
       "output_type": "stream",
       "stream": "stdout",
       "text": [
        " 0.157751955127\n",
        "Total error: 0.157195818547\n",
        "Total error:"
       ]
      },
      {
       "output_type": "stream",
       "stream": "stdout",
       "text": [
        " 0.157199891446\n",
        "Total error: 0.158550517017\n",
        "Total error:"
       ]
      },
      {
       "output_type": "stream",
       "stream": "stdout",
       "text": [
        " 0.156915912918\n",
        "Total error: 0.158770550423\n",
        "Total error:"
       ]
      },
      {
       "output_type": "stream",
       "stream": "stdout",
       "text": [
        " 0.156915708372\n",
        "Total error: 0.158027673903\n",
        "Total error:"
       ]
      },
      {
       "output_type": "stream",
       "stream": "stdout",
       "text": [
        " 0.158500506618\n",
        "one round of training done\n",
        "Total error: 0.157160368744\n",
        "Total error:"
       ]
      },
      {
       "output_type": "stream",
       "stream": "stdout",
       "text": [
        " 0.157271570842\n",
        "Total error: 0.157999634074\n",
        "Total error:"
       ]
      },
      {
       "output_type": "stream",
       "stream": "stdout",
       "text": [
        " 0.158133149092\n",
        "Total error: 0.156449134611\n",
        "Total error:"
       ]
      },
      {
       "output_type": "stream",
       "stream": "stdout",
       "text": [
        " 0.159176282759\n",
        "Total error: 0.158335825001\n",
        "Total error:"
       ]
      },
      {
       "output_type": "stream",
       "stream": "stdout",
       "text": [
        " 0.158506584291\n",
        "Total error: 0.15648213276\n",
        "Total error:"
       ]
      },
      {
       "output_type": "stream",
       "stream": "stdout",
       "text": [
        " 0.157269674872\n",
        "one round of training done\n"
       ]
      }
     ],
     "prompt_number": 79
    },
    {
     "cell_type": "code",
     "collapsed": false,
     "input": [
      "# Customise Hidden Layer. \n",
      "# Problem: Need to do forward propagation with all the training sets before computing average activation\n",
      "from pybrain.structure.modules.neuronlayer import NeuronLayer\n",
      "from pybrain.tools.functions import sigmoid\n",
      "\n",
      "class SparseLayer(NeuronLayer):\n",
      "    \"\"\" Works as a sigmoid layer but implements different cost function \"\"\"\n",
      "    \n",
      "    # Defining the parameters and store average activation of the layer\n",
      "    beta = 0 #sparse penality\n",
      "    sp = 0.1 #sparse parameter\n",
      "    ave_ac = 0\n",
      "    \n",
      "    def __init__(self, dim, name=None, sp = 0.1, beta = 0):\n",
      "        NeuronLayer.__init__(self, dim, name=name)\n",
      "        self.setArgs(sp = sp)\n",
      "        self.setArgs(beta = beta)\n",
      "        self.setArgs(ave_ac = 0)\n",
      "\n",
      "    def _forwardImplementation(self, inbuf, outbuf):\n",
      "        outbuf[:] = sigmoid(inbuf)\n",
      "        ave_ac = (sum(outbuf))/self.dim\n",
      "        self.setArgs(ave_ac = ave_ac/2)\n",
      "    \n",
      "\n",
      "    def _backwardImplementation(self, outerr, inerr, outbuf, inbuf):\n",
      "        inerr[:] = outbuf * (1 - outbuf) * outerr + self.beta * (- self.sp/self.ave_ac + (1 - self.sp)/(1 - self.ave_ac))\n"
     ],
     "language": "python",
     "metadata": {},
     "outputs": [],
     "prompt_number": 76
    },
    {
     "cell_type": "code",
     "collapsed": false,
     "input": [],
     "language": "python",
     "metadata": {},
     "outputs": []
    },
    {
     "cell_type": "code",
     "collapsed": false,
     "input": [],
     "language": "python",
     "metadata": {},
     "outputs": []
    }
   ],
   "metadata": {}
  }
 ]
}