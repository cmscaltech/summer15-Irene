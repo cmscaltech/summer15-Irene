{
 "metadata": {
  "name": "",
  "signature": "sha256:5304a67d250d99c69ae7fc2e708e7a37491d7858e6f55156ad967ea8eeec5f02"
 },
 "nbformat": 3,
 "nbformat_minor": 0,
 "worksheets": [
  {
   "cells": [
    {
     "cell_type": "code",
     "collapsed": false,
     "input": [
      "import os\n",
      "import numpy as np\n",
      "import pickle\n",
      "import random as r\n",
      "from oNADE import nade\n",
      "import oNADE\n",
      "import NADE\n",
      "import Data,Data.utils\n",
      "import Instrumentation\n",
      "import Optimization\n",
      "import h5py\n",
      "from scipy.stats import chisquare\n",
      "import time\n",
      "from matplotlib.colors import LogNorm\n",
      "from sklearn import preprocessing"
     ],
     "language": "python",
     "metadata": {},
     "outputs": [
      {
       "output_type": "stream",
       "stream": "stdout",
       "text": [
        "Couldn't import dot_parser, loading of dot files will not be possible.\n"
       ]
      }
     ],
     "prompt_number": 1
    },
    {
     "cell_type": "heading",
     "level": 1,
     "metadata": {},
     "source": [
      "1. Defining useful functions"
     ]
    },
    {
     "cell_type": "code",
     "collapsed": false,
     "input": [
      "# A method that deletes certain cols from data and feature list, useful for removing muons\n",
      "def remove_cols(data, indexs, features):\n",
      "    features = np.delete(features, indexs)\n",
      "    n_features = len(features)\n",
      "    data = np.delete(data, indexs, 1) \n",
      "    return data, features \n",
      "\n",
      "# A method that replaces all the zeros and put them at an unrealistic value\n",
      "def replace_zeros(dataset, mus = None, sigmas = None): \n",
      "    samples = dataset.shape[0] \n",
      "    features = dataset.shape[1] \n",
      "    maxs = dataset.max(0)\n",
      "    mmax = maxs.max()\n",
      "    copy = np.copy(dataset)\n",
      "    copy[copy == 0] = mmax + 100\n",
      "    mins = copy.min(0) \n",
      "    if mus!= None and sigmas!= None:\n",
      "        means = mus\n",
      "        stds = sigmas\n",
      "    else:\n",
      "        stds = (maxs - mins)/6\n",
      "        means = 2 * mins - maxs\n",
      "    for i in range(features): \n",
      "        for j in range(samples):\n",
      "            if copy[j, i] == mmax + 100:\n",
      "                copy[j, i] = np.random.normal(means[i], stds[i])\n",
      "    return (mins, means, stds, copy)\n",
      "\n",
      "# A method that splits the data into training and testing, and save the arrays to files \n",
      "def split(data, label, ratio = 0.5, io = True, show = False): \n",
      "    \n",
      "    # split into right ratios \n",
      "    np.random.shuffle(data)\n",
      "    dim = len(data)\n",
      "    trndata = data[0:ratio * dim, :] \n",
      "    tstdata = data[ratio * dim + 1: dim -1, :] \n",
      "    \n",
      "    # Replace the zeros \n",
      "    mins, mus, sigmas, trndata = replace_zeros(trndata)\n",
      "    a, b, c, tstdata = replace_zeros(tstdata, mus, sigmas)\n",
      "    \n",
      "    # Dump into pickle files\n",
      "    if io:\n",
      "        io_trndata = '../Data/%strndata.pkl'%(label)\n",
      "        pickle.dump(tstdata, open(io_trndata, 'w'))\n",
      "        io_tstdata = '../Data/%ststdata.pkl'%(label) #incase tstdata gets messed up\n",
      "        pickle.dump(tstdata, open(io_tstdata, 'w')) \n",
      "    \n",
      "    # Check if everything makes sense \n",
      "    if show: \n",
      "        for i in range(data.shape[-1]):\n",
      "            plt.hist(trndata[:, i], bins = 30, alpha = 0.5, normed = True)\n",
      "            plt.hist(tstdata[:, i], bins = 30, alpha = 0.5, normed = True)\n",
      "            plt.show() \n",
      "    \n",
      "    return trndata, tstdata, io_trndata, io_tstdata\n",
      "\n",
      "# A method that randomly takes a fracture of the data\n",
      "def take(data, ratio): \n",
      "    np.random.shuffle(data)\n",
      "    dim = len(data)\n",
      "    data = data[0:ratio * dim, :] \n",
      "    return data \n",
      "\n",
      "# Create nade data from hdf5 files\n",
      "def create(src):\n",
      "    if not os.path.isfile(src):\n",
      "        print 'not a file'\n",
      "        return (None,0,0)\n",
      "    \n",
      "    f=h5py.File(src)\n",
      "    p5=f.get(\"final_model\").get(\"parameters\")\n",
      "    means=[]\n",
      "    rmss=[]\n",
      "    if f.get('normalisation/mean'):\n",
      "        means = f.get('normalisation/mean').value\n",
      "    if f.get('normalisation/std'):\n",
      "        rmss = f.get('normalisation/std').value\n",
      "    p={}\n",
      "    for k in p5.keys():\n",
      "        p[k] = p5.get(k).value\n",
      "\n",
      "    clsn = p.get(\"__class__\")\n",
      "    cls = getattr(NADE,clsn)\n",
      "    nade = cls.create_from_params( p )\n",
      "    return (nade,means,rmss)\n",
      "\n",
      "# Extract model from A NADE\n",
      "def create_fromNADE(nade):\n",
      "    dout = filter(None, os.popen('ls %s/%s/NADE*.hdf5'%( nade.args['resultspath'], nade.args['label'])).read().split('\\n'))[-2]\n",
      "    return create(dout)\n",
      "    \n",
      "# A method that takes a model, rescale the tstdata according to it and generate pseudo data with same dim as tstdata\n",
      "def compare(model, data, show = True): \n",
      "    \n",
      "    # Unpack the model tuple\n",
      "    nade, means, rmss = model\n",
      "    means = means.reshape(len(means), 1)\n",
      "    rmss = rmss.reshape(len(rmss), 1)\n",
      "    \n",
      "    # Rescale data\n",
      "    data = ((data.T - means)/rmss)\n",
      "    pseudo = nade.sample(data.shape[1])\n",
      "    \n",
      "    # Plot log density\n",
      "    if show:\n",
      "        hist, edges, batches = plt.hist(nade.logdensity(data), label = 'data', bins = 100, alpha = 0.4, color = 'blue', histtype = 'stepfilled')\n",
      "        plt.hist(nade.logdensity(pseudo), label = 'pseudo', bins = edges, alpha = 0.4, color = 'red', histtype = 'stepfilled')\n",
      "        plt.yscale('log')\n",
      "        plt.ylim([0.5, 1000])\n",
      "        plt.legend()\n",
      "        plt.show()\n",
      "\n",
      "    return data, pseudo  "
     ],
     "language": "python",
     "metadata": {},
     "outputs": [],
     "prompt_number": 2
    },
    {
     "cell_type": "heading",
     "level": 1,
     "metadata": {},
     "source": [
      "2. Proprocess the data"
     ]
    },
    {
     "cell_type": "code",
     "collapsed": false,
     "input": [
      "## Getting the data with zeros \n",
      "bkg_list= [\n",
      "'cat_v1_QCD_Pt-15to30_Tune4C_13TeV_pythia8_castor_PU20bx25_POSTLS170_V5.pkl',\n",
      "'cat_v1_WJetsToLNu_HT-400to600_Tune4C_13TeV-madgraph-tauola_PU20bx25_POSTLS170_V5.pkl',\n",
      "'cat_v1_ZJetsToNuNu_HT-200to400_Tune4C_13TeV-madgraph-tauola_PU20bx25_POSTLS170_V5.pkl',\n",
      "]\n",
      "\n",
      "signal_list=[\n",
      "'cat_v1_SMS-T1tttt_2J_mGl-1500_mLSP-100_Tune4C_13TeV-madgraph-tauola_PU20bx25_POSTLS170_V5.pkl'\n",
      "]\n",
      "\n",
      "data_list = signal_list + bkg_list \n",
      "\n",
      "feature_list = ['jets_pt:0','jets_pt:1','jets_pt:2',\n",
      "                'razor_MR','razor_R2',\n",
      "                    'electrons_Pt:0','electrons_Pt:1',\n",
      "                          'muons_Pt:0','muons_Pt:1',\n",
      "                          'jets_eta:0','jets_eta:1','jets_eta:2',\n",
      "                          'jets_mass:0','jets_mass:1','jets_mass:2',\n",
      "                          ]\n",
      "\n",
      "labels = map(lambda pkn: pkn.split('_')[2], data_list)\n",
      "print labels\n",
      "\n",
      "# Load data and remove muons \n",
      "data = {} \n",
      "muon_index = [7, 8] \n",
      "\n",
      "for (i, label) in enumerate(labels): \n",
      "    print data_list[i] \n",
      "    data[label] = pickle.load(open('../Data/%s'%data_list[i]))\n",
      "    data[label], feature_list = remove_cols(data[label], muon_index, feature_list)"
     ],
     "language": "python",
     "metadata": {},
     "outputs": [
      {
       "output_type": "stream",
       "stream": "stdout",
       "text": [
        "['SMS-T1tttt', 'QCD', 'WJetsToLNu', 'ZJetsToNuNu']\n",
        "cat_v1_SMS-T1tttt_2J_mGl-1500_mLSP-100_Tune4C_13TeV-madgraph-tauola_PU20bx25_POSTLS170_V5.pkl\n",
        "cat_v1_QCD_Pt-15to30_Tune4C_13TeV_pythia8_castor_PU20bx25_POSTLS170_V5.pkl"
       ]
      },
      {
       "output_type": "stream",
       "stream": "stdout",
       "text": [
        "\n",
        "cat_v1_WJetsToLNu_HT-400to600_Tune4C_13TeV-madgraph-tauola_PU20bx25_POSTLS170_V5.pkl\n",
        "cat_v1_ZJetsToNuNu_HT-200to400_Tune4C_13TeV-madgraph-tauola_PU20bx25_POSTLS170_V5.pkl"
       ]
      },
      {
       "output_type": "stream",
       "stream": "stdout",
       "text": [
        "\n"
       ]
      }
     ],
     "prompt_number": 3
    },
    {
     "cell_type": "code",
     "collapsed": false,
     "input": [
      " # Pack trndata and tstdata \n",
      "index = 3\n",
      "label = labels[index] \n",
      "ratio = 0.4\n",
      "\n",
      "trndata, tstdata, io_trndata, io_tstdata = split(data[label], label, ratio) "
     ],
     "language": "python",
     "metadata": {},
     "outputs": [
      {
       "output_type": "stream",
       "stream": "stderr",
       "text": [
        "-c:17: FutureWarning: comparison to `None` will result in an elementwise object comparison in the future.\n"
       ]
      }
     ],
     "prompt_number": 4
    },
    {
     "cell_type": "heading",
     "level": 1,
     "metadata": {},
     "source": [
      "3. NADE training and testing"
     ]
    },
    {
     "cell_type": "code",
     "collapsed": false,
     "input": [
      "# Train a NADE \n",
      "hlayers = 2\n",
      "lr = 0.05\n",
      "epochs = 20\n",
      "\n",
      "wjetsNade = nade(label = label, dataset = io_trndata, hlayers = hlayers, lr = lr, epochs = epochs)\n",
      "wjetsNade.run()"
     ],
     "language": "python",
     "metadata": {},
     "outputs": [
      {
       "output_type": "stream",
       "stream": "stdout",
       "text": [
        "['pretraining_1', 1]\n",
        "\ttraining_loss : 19.866867348\n",
        "\tconfiguration : {'learning_rate': array(0.05), 'updates_per_epoch': 100, 'momentum': array(0.0), 'minibatch_size': 100}\n",
        "\ttimestamp : [1436963852.430293, 5.28699803352356]\n",
        "['pretraining_1', 2]"
       ]
      },
      {
       "output_type": "stream",
       "stream": "stdout",
       "text": [
        "\n",
        "\ttraining_loss : 14.2178212646\n",
        "\tconfiguration : {'learning_rate': array(0.04166666666666667), 'updates_per_epoch': 100, 'momentum': array(0.9), 'minibatch_size': 100}\n",
        "\ttimestamp : [1436963853.249292, 0.8189988136291504]\n",
        "['pretraining_1', 3]"
       ]
      },
      {
       "output_type": "stream",
       "stream": "stdout",
       "text": [
        "\n",
        "\ttraining_loss : 13.5866972623\n",
        "\tconfiguration : {'learning_rate': array(0.03333333333333334), 'updates_per_epoch': 100, 'momentum': array(0.9), 'minibatch_size': 100}\n",
        "\ttimestamp : [1436963854.071292, 0.8220000267028809]\n",
        "['pretraining_1', 4]"
       ]
      },
      {
       "output_type": "stream",
       "stream": "stdout",
       "text": [
        "\n",
        "\ttraining_loss : 13.1046218126\n",
        "\tconfiguration : {'learning_rate': array(0.02500000000000001), 'updates_per_epoch': 100, 'momentum': array(0.9), 'minibatch_size': 100}\n",
        "\ttimestamp : [1436963854.986294, 0.9150021076202393]\n",
        "['pretraining_1', 5]"
       ]
      },
      {
       "output_type": "stream",
       "stream": "stdout",
       "text": [
        "\n",
        "\ttraining_loss : 12.7269695666\n",
        "\tconfiguration : {'learning_rate': array(0.016666666666666677), 'updates_per_epoch': 100, 'momentum': array(0.9), 'minibatch_size': 100}\n",
        "\ttimestamp : [1436963855.878294, 0.8919999599456787]\n",
        "['pretraining_2', 1]"
       ]
      },
      {
       "output_type": "stream",
       "stream": "stdout",
       "text": [
        "\n",
        "\ttraining_loss : 15.7680758112\n",
        "\tconfiguration : {'learning_rate': array(0.05), 'updates_per_epoch': 100, 'momentum': array(0.0), 'minibatch_size': 100}\n",
        "\ttimestamp : [1436963862.408292, 5.825998067855835]\n",
        "['pretraining_2', 2]"
       ]
      },
      {
       "output_type": "stream",
       "stream": "stdout",
       "text": [
        "\n",
        "\ttraining_loss : 13.7049911648\n",
        "\tconfiguration : {'learning_rate': array(0.04166666666666667), 'updates_per_epoch': 100, 'momentum': array(0.9), 'minibatch_size': 100}\n",
        "\ttimestamp : [1436963863.333294, 0.925001859664917]\n",
        "['pretraining_2', 3]"
       ]
      },
      {
       "output_type": "stream",
       "stream": "stdout",
       "text": [
        "\n",
        "\ttraining_loss : 12.8313250685\n",
        "\tconfiguration : {'learning_rate': array(0.03333333333333334), 'updates_per_epoch': 100, 'momentum': array(0.9), 'minibatch_size': 100}\n",
        "\ttimestamp : [1436963864.270292, 0.9369981288909912]\n",
        "['pretraining_2', 4]"
       ]
      },
      {
       "output_type": "stream",
       "stream": "stdout",
       "text": [
        "\n",
        "\ttraining_loss : 12.4192068575\n",
        "\tconfiguration : {'learning_rate': array(0.02500000000000001), 'updates_per_epoch': 100, 'momentum': array(0.9), 'minibatch_size': 100}\n",
        "\ttimestamp : [1436963865.218292, 0.9479999542236328]\n",
        "['pretraining_2', 5]"
       ]
      },
      {
       "output_type": "stream",
       "stream": "stdout",
       "text": [
        "\n",
        "\ttraining_loss : 12.2776820751\n",
        "\tconfiguration : {'learning_rate': array(0.016666666666666677), 'updates_per_epoch': 100, 'momentum': array(0.9), 'minibatch_size': 100}\n",
        "\ttimestamp : [1436963866.159427, 0.9411349296569824]\n",
        "['training', 1]"
       ]
      },
      {
       "output_type": "stream",
       "stream": "stdout",
       "text": [
        "\n",
        "\ttraining_loss : 11.8415689846\n",
        "\tvalidation_loss : {'estimation': 11.86393685655781, 'se': 0.037319279155730252}"
       ]
      },
      {
       "output_type": "stream",
       "stream": "stdout",
       "text": [
        "\n",
        "\tconfiguration : {'learning_rate': array(0.05), 'updates_per_epoch': 100, 'momentum': array(0.0), 'minibatch_size': 100}\n",
        "\ttimestamp : [1436963889.059291, 22.897998809814453]\n",
        "['training', 2]"
       ]
      },
      {
       "output_type": "stream",
       "stream": "stdout",
       "text": [
        "\n",
        "\ttraining_loss : 12.5979434753\n",
        "\tvalidation_loss : {'estimation': 12.684235063881143, 'se': 0.036205807411283784}"
       ]
      },
      {
       "output_type": "stream",
       "stream": "stdout",
       "text": [
        "\n",
        "\tconfiguration : {'learning_rate': array(0.04761904761904762), 'updates_per_epoch': 100, 'momentum': array(0.9), 'minibatch_size': 100}\n",
        "\ttimestamp : [1436963906.897296, 17.83800506591797]\n",
        "['training', 3]"
       ]
      },
      {
       "output_type": "stream",
       "stream": "stdout",
       "text": [
        "\n",
        "\ttraining_loss : 12.7228338062\n",
        "\tvalidation_loss : {'estimation': 12.684182100471915, 'se': 0.037810180336603133}"
       ]
      },
      {
       "output_type": "stream",
       "stream": "stdout",
       "text": [
        "\n",
        "\tconfiguration : {'learning_rate': array(0.045238095238095244), 'updates_per_epoch': 100, 'momentum': array(0.9), 'minibatch_size': 100}\n",
        "\ttimestamp : [1436963924.751296, 17.854000091552734]\n",
        "['training', 4]"
       ]
      },
      {
       "output_type": "stream",
       "stream": "stdout",
       "text": [
        "\n",
        "\ttraining_loss : 12.5526368435\n",
        "\tvalidation_loss : {'estimation': 12.571607244630883, 'se': 0.03769773242450155}"
       ]
      },
      {
       "output_type": "stream",
       "stream": "stdout",
       "text": [
        "\n",
        "\tconfiguration : {'learning_rate': array(0.042857142857142864), 'updates_per_epoch': 100, 'momentum': array(0.9), 'minibatch_size': 100}\n",
        "\ttimestamp : [1436963943.782292, 19.030995845794678]\n",
        "['training', 5]"
       ]
      },
      {
       "output_type": "stream",
       "stream": "stdout",
       "text": [
        "\n",
        "\ttraining_loss : 12.6495450184\n",
        "\tvalidation_loss : {'estimation': 12.642329624062548, 'se': 0.035645098570862996}"
       ]
      },
      {
       "output_type": "stream",
       "stream": "stdout",
       "text": [
        "\n",
        "\tconfiguration : {'learning_rate': array(0.040476190476190485), 'updates_per_epoch': 100, 'momentum': array(0.9), 'minibatch_size': 100}\n",
        "\ttimestamp : [1436963962.698292, 18.91600012779236]\n",
        "['training', 6]"
       ]
      },
      {
       "output_type": "stream",
       "stream": "stdout",
       "text": [
        "\n",
        "\ttraining_loss : 12.4034772814\n",
        "\tvalidation_loss : {'estimation': 12.574490045295923, 'se': 0.037278646729711318}"
       ]
      },
      {
       "output_type": "stream",
       "stream": "stdout",
       "text": [
        "\n",
        "\tconfiguration : {'learning_rate': array(0.038095238095238106), 'updates_per_epoch': 100, 'momentum': array(0.9), 'minibatch_size': 100}\n",
        "\ttimestamp : [1436963980.89529, 18.19699788093567]\n",
        "['training', 7]"
       ]
      },
      {
       "output_type": "stream",
       "stream": "stdout",
       "text": [
        "\n",
        "\ttraining_loss : 12.3841438259\n",
        "\tvalidation_loss : {'estimation': 12.529898987764248, 'se': 0.035056734359119303}"
       ]
      },
      {
       "output_type": "stream",
       "stream": "stdout",
       "text": [
        "\n",
        "\tconfiguration : {'learning_rate': array(0.035714285714285726), 'updates_per_epoch': 100, 'momentum': array(0.9), 'minibatch_size': 100}\n",
        "\ttimestamp : [1436963998.84629, 17.951000213623047]\n",
        "['training', 8]"
       ]
      },
      {
       "output_type": "stream",
       "stream": "stdout",
       "text": [
        "\n",
        "\ttraining_loss : 12.3056475185\n",
        "\tvalidation_loss : {'estimation': 12.349880543825686, 'se': 0.035784142349572952}"
       ]
      },
      {
       "output_type": "stream",
       "stream": "stdout",
       "text": [
        "\n",
        "\tconfiguration : {'learning_rate': array(0.03333333333333335), 'updates_per_epoch': 100, 'momentum': array(0.9), 'minibatch_size': 100}\n",
        "\ttimestamp : [1436964016.894588, 18.048297882080078]\n",
        "['training', 9]"
       ]
      },
      {
       "output_type": "stream",
       "stream": "stdout",
       "text": [
        "\n",
        "\ttraining_loss : 12.180224658\n",
        "\tvalidation_loss : {'estimation': 12.077447022784847, 'se': 0.034706821067868945}"
       ]
      },
      {
       "output_type": "stream",
       "stream": "stdout",
       "text": [
        "\n",
        "\tconfiguration : {'learning_rate': array(0.030952380952380967), 'updates_per_epoch': 100, 'momentum': array(0.9), 'minibatch_size': 100}\n",
        "\ttimestamp : [1436964036.091293, 19.196705102920532]\n",
        "['training', 10]"
       ]
      },
      {
       "output_type": "stream",
       "stream": "stdout",
       "text": [
        "\n",
        "\ttraining_loss : 12.1660191578\n",
        "\tvalidation_loss : {'estimation': 12.324585014937696, 'se': 0.03854028332678975}"
       ]
      },
      {
       "output_type": "stream",
       "stream": "stdout",
       "text": [
        "\n",
        "\tconfiguration : {'learning_rate': array(0.028571428571428588), 'updates_per_epoch': 100, 'momentum': array(0.9), 'minibatch_size': 100}\n",
        "\ttimestamp : [1436964054.318291, 18.22699785232544]\n",
        "['training', 11]"
       ]
      },
      {
       "output_type": "stream",
       "stream": "stdout",
       "text": [
        "\n",
        "\ttraining_loss : 12.0792854012\n",
        "\tvalidation_loss : {'estimation': 12.168009789418877, 'se': 0.035952464090539121}"
       ]
      },
      {
       "output_type": "stream",
       "stream": "stdout",
       "text": [
        "\n",
        "\tconfiguration : {'learning_rate': array(0.02619047619047621), 'updates_per_epoch': 100, 'momentum': array(0.9), 'minibatch_size': 100}\n",
        "\ttimestamp : [1436964072.28529, 17.966999053955078]\n",
        "['training', 12]"
       ]
      },
      {
       "output_type": "stream",
       "stream": "stdout",
       "text": [
        "\n",
        "\ttraining_loss : 12.011686667\n",
        "\tvalidation_loss : {'estimation': 12.000179318951091, 'se': 0.035941316782213358}"
       ]
      },
      {
       "output_type": "stream",
       "stream": "stdout",
       "text": [
        "\n",
        "\tconfiguration : {'learning_rate': array(0.02380952380952383), 'updates_per_epoch': 100, 'momentum': array(0.9), 'minibatch_size': 100}\n",
        "\ttimestamp : [1436964090.127289, 17.841999053955078]\n",
        "['training', 13]"
       ]
      },
      {
       "output_type": "stream",
       "stream": "stdout",
       "text": [
        "\n",
        "\ttraining_loss : 11.8820333054\n",
        "\tvalidation_loss : {'estimation': 12.172856764448444, 'se': 0.037694631755312374}"
       ]
      },
      {
       "output_type": "stream",
       "stream": "stdout",
       "text": [
        "\n",
        "\tconfiguration : {'learning_rate': array(0.02142857142857145), 'updates_per_epoch': 100, 'momentum': array(0.9), 'minibatch_size': 100}\n",
        "\ttimestamp : [1436964108.280322, 18.153033018112183]\n",
        "['training', 14]"
       ]
      },
      {
       "output_type": "stream",
       "stream": "stdout",
       "text": [
        "\n",
        "\ttraining_loss : 11.847364519\n",
        "\tvalidation_loss : {'estimation': 11.963418170895395, 'se': 0.036904519230143179}"
       ]
      },
      {
       "output_type": "stream",
       "stream": "stdout",
       "text": [
        "\n",
        "\tconfiguration : {'learning_rate': array(0.01904761904761907), 'updates_per_epoch': 100, 'momentum': array(0.9), 'minibatch_size': 100}\n",
        "\ttimestamp : [1436964126.618292, 18.33797001838684]\n",
        "['training', 15]"
       ]
      },
      {
       "output_type": "stream",
       "stream": "stdout",
       "text": [
        "\n",
        "\ttraining_loss : 11.6904002958\n",
        "\tvalidation_loss : {'estimation': 11.775129986772834, 'se': 0.035765333594429995}"
       ]
      },
      {
       "output_type": "stream",
       "stream": "stdout",
       "text": [
        "\n",
        "\tconfiguration : {'learning_rate': array(0.01666666666666669), 'updates_per_epoch': 100, 'momentum': array(0.9), 'minibatch_size': 100}\n",
        "\ttimestamp : [1436964144.530291, 17.911998987197876]\n",
        "['training', 16]"
       ]
      },
      {
       "output_type": "stream",
       "stream": "stdout",
       "text": [
        "\n",
        "\ttraining_loss : 11.6790150604\n",
        "\tvalidation_loss : {'estimation': 11.723274568312915, 'se': 0.036467163662262228}"
       ]
      },
      {
       "output_type": "stream",
       "stream": "stdout",
       "text": [
        "\n",
        "\tconfiguration : {'learning_rate': array(0.01428571428571431), 'updates_per_epoch': 100, 'momentum': array(0.9), 'minibatch_size': 100}\n",
        "\ttimestamp : [1436964162.553293, 18.02300190925598]\n",
        "['training', 17]"
       ]
      },
      {
       "output_type": "stream",
       "stream": "stdout",
       "text": [
        "\n",
        "\ttraining_loss : 11.4767600484\n",
        "\tvalidation_loss : {'estimation': 11.723056611627401, 'se': 0.035977250806587514}"
       ]
      },
      {
       "output_type": "stream",
       "stream": "stdout",
       "text": [
        "\n",
        "\tconfiguration : {'learning_rate': array(0.011904761904761928), 'updates_per_epoch': 100, 'momentum': array(0.9), 'minibatch_size': 100}\n",
        "\ttimestamp : [1436964181.960556, 19.407263040542603]\n",
        "['training', 18]"
       ]
      },
      {
       "output_type": "stream",
       "stream": "stdout",
       "text": [
        "\n",
        "\ttraining_loss : 11.5906156903\n",
        "\tvalidation_loss : {'estimation': 11.613304358193078, 'se': 0.036647203234941542}"
       ]
      },
      {
       "output_type": "stream",
       "stream": "stdout",
       "text": [
        "\n",
        "\tconfiguration : {'learning_rate': array(0.009523809523809547), 'updates_per_epoch': 100, 'momentum': array(0.9), 'minibatch_size': 100}\n",
        "\ttimestamp : [1436964200.350292, 18.38973593711853]\n",
        "['training', 19]"
       ]
      },
      {
       "output_type": "stream",
       "stream": "stdout",
       "text": [
        "\n",
        "\ttraining_loss : 11.4156973381\n",
        "\tvalidation_loss : {'estimation': 11.519120353581796, 'se': 0.037816474032378422}"
       ]
      },
      {
       "output_type": "stream",
       "stream": "stdout",
       "text": [
        "\n",
        "\tconfiguration : {'learning_rate': array(0.007142857142857166), 'updates_per_epoch': 100, 'momentum': array(0.9), 'minibatch_size': 100}\n",
        "\ttimestamp : [1436964218.616294, 18.26600193977356]\n",
        "['training', 20]"
       ]
      },
      {
       "output_type": "stream",
       "stream": "stdout",
       "text": [
        "\n",
        "\ttraining_loss : 11.2548581619\n",
        "\tvalidation_loss : {'estimation': 11.452721279461436, 'se': 0.03771615788854777}"
       ]
      },
      {
       "output_type": "stream",
       "stream": "stdout",
       "text": [
        "\n",
        "\tconfiguration : {'learning_rate': array(0.004761904761904785), 'updates_per_epoch': 100, 'momentum': array(0.9), 'minibatch_size': 100}\n",
        "\ttimestamp : [1436964236.734292, 18.117998123168945]\n",
        "[]\n",
        "\t : Config {'q': 20, 'h': 100, 'wd': 0.02, 'lr': 0.05}\n",
        "\t : Training average loss\t-11.344202"
       ]
      },
      {
       "output_type": "stream",
       "stream": "stdout",
       "text": [
        "\n",
        "\t : *Validation mean\t-11.267967 \t(se: 0.016199)"
       ]
      },
      {
       "output_type": "stream",
       "stream": "stdout",
       "text": [
        "\n",
        "\t : Validation detail #1 mean\t-11.317230 \t(se: 0.091908)\n",
        "\t : Validation detail #2 mean\t-11.216602 \t(se: 0.085842)\n",
        "\t : Validation detail #3 mean\t-11.248189 \t(se: 0.087483)\n",
        "\t : Validation detail #4 mean\t-11.326610 \t(se: 0.088415)\n",
        "\t : Validation detail #5 mean\t-11.225110 \t(se: 0.086990)\n",
        "\t : Validation detail #6 mean\t-11.198428 \t(se: 0.085349)\n",
        "\t : Validation detail #7 mean\t-11.217342 \t(se: 0.084660)\n",
        "\t : Validation detail #8 mean\t-11.305482 \t(se: 0.087711)\n",
        "\t : Validation detail #9 mean\t-11.320778 \t(se: 0.088226)\n",
        "\t : Validation detail #10 mean\t-11.303897 \t(se: 0.088602)\n",
        "\t : *Test mean\t-11.785930 \t(se: 0.020177)\n",
        "\t : Test detail #1 mean\t-11.869510 \t(se: 0.146908)\n",
        "\t : Test detail #2 mean\t-11.745662 \t(se: 0.135815)\n",
        "\t : Test detail #3 mean\t-11.723661 \t(se: 0.136989)\n",
        "\t : Test detail #4 mean\t-11.908358 \t(se: 0.137554)\n",
        "\t : Test detail #5 mean\t-11.735492 \t(se: 0.132385)\n",
        "\t : Test detail #6 mean\t-11.742131 \t(se: 0.134322)\n",
        "\t : Test detail #7 mean\t-11.735324 \t(se: 0.133524)\n",
        "\t : Test detail #8 mean\t-11.778883 \t(se: 0.133653)\n",
        "\t : Test detail #9 mean\t-11.788694 \t(se: 0.134721)\n",
        "\t : Test detail #10 mean\t-11.831586 \t(se: 0.134927)\n"
       ]
      },
      {
       "output_type": "stream",
       "stream": "stderr",
       "text": [
        "Exception AttributeError: \"'BigDataset' object has no attribute 'f'\" in <bound method BigDataset.__del__ of <Data.BigDataset.BigDataset object at 0x7fd6afc0d050>> ignored\n"
       ]
      }
     ],
     "prompt_number": 42
    },
    {
     "cell_type": "code",
     "collapsed": false,
     "input": [
      "# If NADE is still in momery\n",
      "model = create_fromNADE(wjetsNade)"
     ],
     "language": "python",
     "metadata": {},
     "outputs": []
    },
    {
     "cell_type": "code",
     "collapsed": false,
     "input": [
      "ls ../Data/NADE/WJetsToLNu/"
     ],
     "language": "python",
     "metadata": {},
     "outputs": [
      {
       "output_type": "stream",
       "stream": "stdout",
       "text": [
        "NADE_2.hdf5  NADE_4.hdf5  NADE_6.hdf5  NADE.hdf5\r\n",
        "NADE_3.hdf5  NADE_5.hdf5  NADE_7.hdf5  NADE_training.log\r\n"
       ]
      }
     ],
     "prompt_number": 9
    },
    {
     "cell_type": "code",
     "collapsed": false,
     "input": [
      "index = 2\n",
      "label = labels[index]\n",
      "dout = '../Data/NADE/%s/NADE_7.hdf5'%(label)\n",
      "model = create(dout) "
     ],
     "language": "python",
     "metadata": {},
     "outputs": [],
     "prompt_number": 10
    },
    {
     "cell_type": "code",
     "collapsed": false,
     "input": [
      "# In case training data and test data arrays are messed up \n",
      "\n",
      "#index = 2\n",
      "#io_tstdata = '../Data/%ststdata.pkl'%(labels[index]) \n",
      "#io_trndata = '../Data/%strndata.pkl'%(labels[index])\n",
      "#tstdata = pickle.load(open(io_tstdata))\n",
      "#trndata = pickle.load(open(io_trndata))\n",
      "\n",
      "print 'test data:', tstdata.shape[0] \n",
      "tst, psd_tst = compare(model, tstdata)\n",
      "\n",
      "print 'training data:', trndata.shape[0]\n",
      "trn, psd_trn = compare(model, trndata)"
     ],
     "language": "python",
     "metadata": {},
     "outputs": [
      {
       "output_type": "stream",
       "stream": "stdout",
       "text": [
        "test data: 7998\n"
       ]
      },
      {
       "metadata": {},
       "output_type": "display_data",
       "png": "[encoded data removed]",
       "text": [
        "<matplotlib.figure.Figure at 0x7fd6af05af90>"
       ]
      },
      {
       "output_type": "stream",
       "stream": "stdout",
       "text": [
        "training data: 2000\n"
       ]
      },
      {
       "metadata": {},
       "output_type": "display_data",
       "png": "[encoded data removed]",
       "text": [
        "<matplotlib.figure.Figure at 0x7fd6a8417810>"
       ]
      }
     ],
     "prompt_number": 70
    },
    {
     "cell_type": "code",
     "collapsed": false,
     "input": [
      "# Get different ratio of tst data \n",
      "\n",
      "for ratio in np.arange(0.1, 1, 0.1): \n",
      "    print 'test to train ratio:', ratio * 4\n",
      "    test = take(tstdata, ratio)\n",
      "    compare(model, test)"
     ],
     "language": "python",
     "metadata": {},
     "outputs": [
      {
       "output_type": "stream",
       "stream": "stdout",
       "text": [
        "test to train ratio: 0.4\n"
       ]
      },
      {
       "metadata": {},
       "output_type": "display_data",
       "png": "[encoded data removed]",
       "text": [
        "<matplotlib.figure.Figure at 0x7f2419528dd0>"
       ]
      },
      {
       "output_type": "stream",
       "stream": "stdout",
       "text": [
        "test to train ratio: 0.8\n"
       ]
      },
      {
       "metadata": {},
       "output_type": "display_data",
       "png": "[encoded data removed]",
       "text": [
        "<matplotlib.figure.Figure at 0x7f2419171a50>"
       ]
      },
      {
       "output_type": "stream",
       "stream": "stdout",
       "text": [
        "test to train ratio: 1.2\n"
       ]
      },
      {
       "metadata": {},
       "output_type": "display_data",
       "png": "[encoded data removed]",
       "text": [
        "<matplotlib.figure.Figure at 0x7f2421a88f50>"
       ]
      },
      {
       "output_type": "stream",
       "stream": "stdout",
       "text": [
        "test to train ratio: 1.6\n"
       ]
      },
      {
       "metadata": {},
       "output_type": "display_data",
       "png": "[encoded data removed]",
       "text": [
        "<matplotlib.figure.Figure at 0x7f241925bad0>"
       ]
      },
      {
       "output_type": "stream",
       "stream": "stdout",
       "text": [
        "test to train ratio: 2.0\n"
       ]
      },
      {
       "metadata": {},
       "output_type": "display_data",
       "png": "[encoded data removed]",
       "text": [
        "<matplotlib.figure.Figure at 0x7f24198a4490>"
       ]
      },
      {
       "output_type": "stream",
       "stream": "stdout",
       "text": [
        "test to train ratio: 2.4\n"
       ]
      },
      {
       "metadata": {},
       "output_type": "display_data",
       "png": "[encoded data removed]",
       "text": [
        "<matplotlib.figure.Figure at 0x7f2419304bd0>"
       ]
      },
      {
       "output_type": "stream",
       "stream": "stdout",
       "text": [
        "test to train ratio: 2.8\n"
       ]
      },
      {
       "metadata": {},
       "output_type": "display_data",
       "png": "[encoded data removed]",
       "text": [
        "<matplotlib.figure.Figure at 0x7f2419271390>"
       ]
      },
      {
       "output_type": "stream",
       "stream": "stdout",
       "text": [
        "test to train ratio: 3.2\n"
       ]
      },
      {
       "metadata": {},
       "output_type": "display_data",
       "png": "[encoded data removed]",
       "text": [
        "<matplotlib.figure.Figure at 0x7f2419328bd0>"
       ]
      },
      {
       "output_type": "stream",
       "stream": "stdout",
       "text": [
        "test to train ratio: 3.6\n"
       ]
      },
      {
       "metadata": {},
       "output_type": "display_data",
       "png": "[encoded data removed]",
       "text": [
        "<matplotlib.figure.Figure at 0x7f24198dcd50>"
       ]
      }
     ],
     "prompt_number": 11
    },
    {
     "cell_type": "code",
     "collapsed": false,
     "input": [
      "# Tune the parameters \n",
      "\n",
      "nades = {} \n",
      "hlayers = [2, 3, 6]\n",
      "lr = [0.01, 0.05, 0.1]\n",
      "epochs = [5, 10, 20, 30] \n",
      "\n",
      "\n",
      "performance = np.zeros((len(hlayers), len(lr), len(epochs), 3)) #log likelihood of train, test and training time\n",
      "\n",
      "for (h_in, h) in enumerate(hlayers):\n",
      "    for (l_in, l) in enumerate(lr):\n",
      "        for (e_in, e) in enumerate(epochs): \n",
      "            print h, l, e\n",
      "            nades[(h_in, l_in, e_in)] = nade(label = label + '%d_%d_%d'%(h_in, l_in, e_in), dataset = io_trndata, hlayers = h, lr = l, epochs = e)\n",
      "            nades[(h_in, l_in, e_in)].run()"
     ],
     "language": "python",
     "metadata": {},
     "outputs": [
      {
       "output_type": "stream",
       "stream": "stdout",
       "text": [
        "2 0.01 5\n"
       ]
      },
      {
       "output_type": "stream",
       "stream": "stderr",
       "text": [
        "Exception AttributeError: \"'BigDataset' object has no attribute 'f'\" in <bound method BigDataset.__del__ of <Data.BigDataset.BigDataset object at 0x7f9b4cf72650>> ignored\n",
        "Exception AttributeError: \"'BigDataset' object has no attribute 'f'\" in <bound method BigDataset.__del__ of <Data.BigDataset.BigDataset object at 0x7f9b4cf43b10>> ignored\n"
       ]
      },
      {
       "ename": "IOError",
       "evalue": "Unable to open file (Unable to find a valid file signature)",
       "output_type": "pyerr",
       "traceback": [
        "\u001b[1;31m---------------------------------------------------------------------------\u001b[0m\n\u001b[1;31mIOError\u001b[0m                                   Traceback (most recent call last)",
        "\u001b[1;32m<ipython-input-8-b5a9001847fd>\u001b[0m in \u001b[0;36m<module>\u001b[1;34m()\u001b[0m\n\u001b[0;32m     14\u001b[0m             \u001b[1;32mprint\u001b[0m \u001b[0mh\u001b[0m\u001b[1;33m,\u001b[0m \u001b[0ml\u001b[0m\u001b[1;33m,\u001b[0m \u001b[0me\u001b[0m\u001b[1;33m\u001b[0m\u001b[0m\n\u001b[0;32m     15\u001b[0m             \u001b[0mnades\u001b[0m\u001b[1;33m[\u001b[0m\u001b[1;33m(\u001b[0m\u001b[0mh_in\u001b[0m\u001b[1;33m,\u001b[0m \u001b[0ml_in\u001b[0m\u001b[1;33m,\u001b[0m \u001b[0me_in\u001b[0m\u001b[1;33m)\u001b[0m\u001b[1;33m]\u001b[0m \u001b[1;33m=\u001b[0m \u001b[0mnade\u001b[0m\u001b[1;33m(\u001b[0m\u001b[0mlabel\u001b[0m \u001b[1;33m=\u001b[0m \u001b[0mlabel\u001b[0m \u001b[1;33m+\u001b[0m \u001b[1;34m'%d_%d_%d'\u001b[0m\u001b[1;33m%\u001b[0m\u001b[1;33m(\u001b[0m\u001b[0mh_in\u001b[0m\u001b[1;33m,\u001b[0m \u001b[0ml_in\u001b[0m\u001b[1;33m,\u001b[0m \u001b[0me_in\u001b[0m\u001b[1;33m)\u001b[0m\u001b[1;33m,\u001b[0m \u001b[0mdataset\u001b[0m \u001b[1;33m=\u001b[0m \u001b[0mio_trndata\u001b[0m\u001b[1;33m,\u001b[0m \u001b[0mhlayers\u001b[0m \u001b[1;33m=\u001b[0m \u001b[0mh\u001b[0m\u001b[1;33m,\u001b[0m \u001b[0mlr\u001b[0m \u001b[1;33m=\u001b[0m \u001b[0ml\u001b[0m\u001b[1;33m,\u001b[0m \u001b[0mepochs\u001b[0m \u001b[1;33m=\u001b[0m \u001b[0me\u001b[0m\u001b[1;33m)\u001b[0m\u001b[1;33m\u001b[0m\u001b[0m\n\u001b[1;32m---> 16\u001b[1;33m             \u001b[0mnades\u001b[0m\u001b[1;33m[\u001b[0m\u001b[1;33m(\u001b[0m\u001b[0mh_in\u001b[0m\u001b[1;33m,\u001b[0m \u001b[0ml_in\u001b[0m\u001b[1;33m,\u001b[0m \u001b[0me_in\u001b[0m\u001b[1;33m)\u001b[0m\u001b[1;33m]\u001b[0m\u001b[1;33m.\u001b[0m\u001b[0mrun\u001b[0m\u001b[1;33m(\u001b[0m\u001b[1;33m)\u001b[0m\u001b[1;33m\u001b[0m\u001b[0m\n\u001b[0m",
        "\u001b[1;32m/usr/local/lib/python2.7/oNADE.pyc\u001b[0m in \u001b[0;36mrun\u001b[1;34m(self)\u001b[0m\n\u001b[0;32m     99\u001b[0m                     \u001b[0msetattr\u001b[0m\u001b[1;33m(\u001b[0m\u001b[0mself\u001b[0m\u001b[1;33m,\u001b[0m\u001b[0mk\u001b[0m\u001b[1;33m,\u001b[0m\u001b[0mv\u001b[0m\u001b[1;33m)\u001b[0m\u001b[1;33m\u001b[0m\u001b[0m\n\u001b[0;32m    100\u001b[0m                 \u001b[0mmNADE\u001b[0m\u001b[1;33m(\u001b[0m\u001b[0mself\u001b[0m\u001b[1;33m)\u001b[0m\u001b[1;33m\u001b[0m\u001b[0m\n\u001b[1;32m--> 101\u001b[1;33m         \u001b[0mrun\u001b[0m\u001b[1;33m=\u001b[0m\u001b[0mo\u001b[0m\u001b[1;33m(\u001b[0m\u001b[0mself\u001b[0m\u001b[1;33m.\u001b[0m\u001b[0margs\u001b[0m\u001b[1;33m)\u001b[0m\u001b[1;33m\u001b[0m\u001b[0m\n\u001b[0m\u001b[0;32m    102\u001b[0m \u001b[1;33m\u001b[0m\u001b[0m\n\u001b[0;32m    103\u001b[0m \u001b[1;32mdef\u001b[0m \u001b[0mmNADE\u001b[0m\u001b[1;33m(\u001b[0m \u001b[0moptions\u001b[0m \u001b[1;33m)\u001b[0m\u001b[1;33m:\u001b[0m\u001b[1;33m\u001b[0m\u001b[0m\n",
        "\u001b[1;32m/usr/local/lib/python2.7/oNADE.pyc\u001b[0m in \u001b[0;36m__init__\u001b[1;34m(self, options)\u001b[0m\n\u001b[0;32m     98\u001b[0m                 \u001b[1;32mfor\u001b[0m \u001b[1;33m(\u001b[0m\u001b[0mk\u001b[0m\u001b[1;33m,\u001b[0m\u001b[0mv\u001b[0m\u001b[1;33m)\u001b[0m \u001b[1;32min\u001b[0m \u001b[0moptions\u001b[0m\u001b[1;33m.\u001b[0m\u001b[0mitems\u001b[0m\u001b[1;33m(\u001b[0m\u001b[1;33m)\u001b[0m\u001b[1;33m:\u001b[0m\u001b[1;33m\u001b[0m\u001b[0m\n\u001b[0;32m     99\u001b[0m                     \u001b[0msetattr\u001b[0m\u001b[1;33m(\u001b[0m\u001b[0mself\u001b[0m\u001b[1;33m,\u001b[0m\u001b[0mk\u001b[0m\u001b[1;33m,\u001b[0m\u001b[0mv\u001b[0m\u001b[1;33m)\u001b[0m\u001b[1;33m\u001b[0m\u001b[0m\n\u001b[1;32m--> 100\u001b[1;33m                 \u001b[0mmNADE\u001b[0m\u001b[1;33m(\u001b[0m\u001b[0mself\u001b[0m\u001b[1;33m)\u001b[0m\u001b[1;33m\u001b[0m\u001b[0m\n\u001b[0m\u001b[0;32m    101\u001b[0m         \u001b[0mrun\u001b[0m\u001b[1;33m=\u001b[0m\u001b[0mo\u001b[0m\u001b[1;33m(\u001b[0m\u001b[0mself\u001b[0m\u001b[1;33m.\u001b[0m\u001b[0margs\u001b[0m\u001b[1;33m)\u001b[0m\u001b[1;33m\u001b[0m\u001b[0m\n\u001b[0;32m    102\u001b[0m \u001b[1;33m\u001b[0m\u001b[0m\n",
        "\u001b[1;32m/usr/local/lib/python2.7/oNADE.pyc\u001b[0m in \u001b[0;36mmNADE\u001b[1;34m(options)\u001b[0m\n\u001b[0;32m    175\u001b[0m         \u001b[1;31m#create_dropout_masks(os.environ[\"DATASETSPATH\"], masks_filename, n_visible, ks=1000)\u001b[0m\u001b[1;33m\u001b[0m\u001b[1;33m\u001b[0m\u001b[0m\n\u001b[0;32m    176\u001b[0m         \u001b[0mcreate_dropout_masks\u001b[0m\u001b[1;33m(\u001b[0m\u001b[0moptions\u001b[0m\u001b[1;33m.\u001b[0m\u001b[0mdatasetspath\u001b[0m\u001b[1;33m,\u001b[0m \u001b[0mmasks_filename\u001b[0m\u001b[1;33m,\u001b[0m \u001b[0mn_visible\u001b[0m\u001b[1;33m,\u001b[0m \u001b[0mks\u001b[0m\u001b[1;33m=\u001b[0m\u001b[1;36m1000\u001b[0m\u001b[1;33m)\u001b[0m\u001b[1;33m\u001b[0m\u001b[0m\n\u001b[1;32m--> 177\u001b[1;33m         \u001b[0mmasks_dataset\u001b[0m \u001b[1;33m=\u001b[0m \u001b[0mData\u001b[0m\u001b[1;33m.\u001b[0m\u001b[0mBigDataset\u001b[0m\u001b[1;33m(\u001b[0m\u001b[0mmasks_route\u001b[0m \u001b[1;33m+\u001b[0m \u001b[1;34m\".hdf5\"\u001b[0m\u001b[1;33m,\u001b[0m \u001b[1;34m\"masks/.*\"\u001b[0m\u001b[1;33m,\u001b[0m \u001b[1;34m\"masks\"\u001b[0m\u001b[1;33m)\u001b[0m\u001b[1;33m\u001b[0m\u001b[0m\n\u001b[0m\u001b[0;32m    178\u001b[0m \u001b[1;33m\u001b[0m\u001b[0m\n\u001b[0;32m    179\u001b[0m     \u001b[0ml\u001b[0m \u001b[1;33m=\u001b[0m \u001b[1;36m1\u001b[0m \u001b[1;32mif\u001b[0m \u001b[0moptions\u001b[0m\u001b[1;33m.\u001b[0m\u001b[0mlayerwise\u001b[0m \u001b[1;32melse\u001b[0m \u001b[0moptions\u001b[0m\u001b[1;33m.\u001b[0m\u001b[0mhlayers\u001b[0m\u001b[1;33m\u001b[0m\u001b[0m\n",
        "\u001b[1;32m/usr/local/lib/python2.7/Data/BigDataset.pyc\u001b[0m in \u001b[0;36m__init__\u001b[1;34m(self, filename, entries_regexp, element_names, delete_after_use, block_length, use_blocks, offsets)\u001b[0m\n\u001b[0;32m     32\u001b[0m         \u001b[0mself\u001b[0m\u001b[1;33m.\u001b[0m\u001b[0mfilename\u001b[0m \u001b[1;33m=\u001b[0m \u001b[0mfilename\u001b[0m\u001b[1;33m\u001b[0m\u001b[0m\n\u001b[0;32m     33\u001b[0m         \u001b[0mself\u001b[0m\u001b[1;33m.\u001b[0m\u001b[0mdelete_after_use\u001b[0m \u001b[1;33m=\u001b[0m \u001b[1;33m(\u001b[0m\u001b[0mdelete_after_use\u001b[0m \u001b[1;33m==\u001b[0m \u001b[0mTrue\u001b[0m\u001b[1;33m)\u001b[0m\u001b[1;33m\u001b[0m\u001b[0m\n\u001b[1;32m---> 34\u001b[1;33m         \u001b[0mself\u001b[0m\u001b[1;33m.\u001b[0m\u001b[0mf\u001b[0m \u001b[1;33m=\u001b[0m \u001b[0mh5py\u001b[0m\u001b[1;33m.\u001b[0m\u001b[0mFile\u001b[0m\u001b[1;33m(\u001b[0m\u001b[0mfilename\u001b[0m\u001b[1;33m,\u001b[0m \u001b[1;34m\"r\"\u001b[0m\u001b[1;33m)\u001b[0m\u001b[1;33m\u001b[0m\u001b[0m\n\u001b[0m\u001b[0;32m     35\u001b[0m         \u001b[0mself\u001b[0m\u001b[1;33m.\u001b[0m\u001b[0melement_names\u001b[0m \u001b[1;33m=\u001b[0m \u001b[0melement_names\u001b[0m \u001b[1;32mif\u001b[0m \u001b[0misinstance\u001b[0m\u001b[1;33m(\u001b[0m\u001b[0melement_names\u001b[0m\u001b[1;33m,\u001b[0m \u001b[0mtuple\u001b[0m\u001b[1;33m)\u001b[0m \u001b[1;32melse\u001b[0m \u001b[1;33m(\u001b[0m\u001b[0melement_names\u001b[0m\u001b[1;33m,\u001b[0m\u001b[1;33m)\u001b[0m\u001b[1;33m\u001b[0m\u001b[0m\n\u001b[0;32m     36\u001b[0m         \u001b[0mself\u001b[0m\u001b[1;33m.\u001b[0m\u001b[0mentries_regexp\u001b[0m \u001b[1;33m=\u001b[0m \u001b[0mentries_regexp\u001b[0m\u001b[1;33m\u001b[0m\u001b[0m\n",
        "\u001b[1;32m/usr/local/lib/python2.7/site-packages/h5py-2.4.0-py2.7-linux-x86_64.egg/h5py/_hl/files.pyc\u001b[0m in \u001b[0;36m__init__\u001b[1;34m(self, name, mode, driver, libver, userblock_size, **kwds)\u001b[0m\n\u001b[0;32m    229\u001b[0m \u001b[1;33m\u001b[0m\u001b[0m\n\u001b[0;32m    230\u001b[0m                 \u001b[0mfapl\u001b[0m \u001b[1;33m=\u001b[0m \u001b[0mmake_fapl\u001b[0m\u001b[1;33m(\u001b[0m\u001b[0mdriver\u001b[0m\u001b[1;33m,\u001b[0m \u001b[0mlibver\u001b[0m\u001b[1;33m,\u001b[0m \u001b[1;33m**\u001b[0m\u001b[0mkwds\u001b[0m\u001b[1;33m)\u001b[0m\u001b[1;33m\u001b[0m\u001b[0m\n\u001b[1;32m--> 231\u001b[1;33m                 \u001b[0mfid\u001b[0m \u001b[1;33m=\u001b[0m \u001b[0mmake_fid\u001b[0m\u001b[1;33m(\u001b[0m\u001b[0mname\u001b[0m\u001b[1;33m,\u001b[0m \u001b[0mmode\u001b[0m\u001b[1;33m,\u001b[0m \u001b[0muserblock_size\u001b[0m\u001b[1;33m,\u001b[0m \u001b[0mfapl\u001b[0m\u001b[1;33m)\u001b[0m\u001b[1;33m\u001b[0m\u001b[0m\n\u001b[0m\u001b[0;32m    232\u001b[0m \u001b[1;33m\u001b[0m\u001b[0m\n\u001b[0;32m    233\u001b[0m             \u001b[0mGroup\u001b[0m\u001b[1;33m.\u001b[0m\u001b[0m__init__\u001b[0m\u001b[1;33m(\u001b[0m\u001b[0mself\u001b[0m\u001b[1;33m,\u001b[0m \u001b[0mfid\u001b[0m\u001b[1;33m)\u001b[0m\u001b[1;33m\u001b[0m\u001b[0m\n",
        "\u001b[1;32m/usr/local/lib/python2.7/site-packages/h5py-2.4.0-py2.7-linux-x86_64.egg/h5py/_hl/files.pyc\u001b[0m in \u001b[0;36mmake_fid\u001b[1;34m(name, mode, userblock_size, fapl, fcpl)\u001b[0m\n\u001b[0;32m     76\u001b[0m \u001b[1;33m\u001b[0m\u001b[0m\n\u001b[0;32m     77\u001b[0m     \u001b[1;32mif\u001b[0m \u001b[0mmode\u001b[0m \u001b[1;33m==\u001b[0m \u001b[1;34m'r'\u001b[0m\u001b[1;33m:\u001b[0m\u001b[1;33m\u001b[0m\u001b[0m\n\u001b[1;32m---> 78\u001b[1;33m         \u001b[0mfid\u001b[0m \u001b[1;33m=\u001b[0m \u001b[0mh5f\u001b[0m\u001b[1;33m.\u001b[0m\u001b[0mopen\u001b[0m\u001b[1;33m(\u001b[0m\u001b[0mname\u001b[0m\u001b[1;33m,\u001b[0m \u001b[0mh5f\u001b[0m\u001b[1;33m.\u001b[0m\u001b[0mACC_RDONLY\u001b[0m\u001b[1;33m,\u001b[0m \u001b[0mfapl\u001b[0m\u001b[1;33m=\u001b[0m\u001b[0mfapl\u001b[0m\u001b[1;33m)\u001b[0m\u001b[1;33m\u001b[0m\u001b[0m\n\u001b[0m\u001b[0;32m     79\u001b[0m     \u001b[1;32melif\u001b[0m \u001b[0mmode\u001b[0m \u001b[1;33m==\u001b[0m \u001b[1;34m'r+'\u001b[0m\u001b[1;33m:\u001b[0m\u001b[1;33m\u001b[0m\u001b[0m\n\u001b[0;32m     80\u001b[0m         \u001b[0mfid\u001b[0m \u001b[1;33m=\u001b[0m \u001b[0mh5f\u001b[0m\u001b[1;33m.\u001b[0m\u001b[0mopen\u001b[0m\u001b[1;33m(\u001b[0m\u001b[0mname\u001b[0m\u001b[1;33m,\u001b[0m \u001b[0mh5f\u001b[0m\u001b[1;33m.\u001b[0m\u001b[0mACC_RDWR\u001b[0m\u001b[1;33m,\u001b[0m \u001b[0mfapl\u001b[0m\u001b[1;33m=\u001b[0m\u001b[0mfapl\u001b[0m\u001b[1;33m)\u001b[0m\u001b[1;33m\u001b[0m\u001b[0m\n",
        "\u001b[1;32m/usr/local/lib/python2.7/site-packages/h5py-2.4.0-py2.7-linux-x86_64.egg/h5py/_objects.so\u001b[0m in \u001b[0;36mh5py._objects.with_phil.wrapper (/tmp/easy_install-WQ0Rro/h5py-2.4.0/h5py/_objects.c:2405)\u001b[1;34m()\u001b[0m\n",
        "\u001b[1;32m/usr/local/lib/python2.7/site-packages/h5py-2.4.0-py2.7-linux-x86_64.egg/h5py/_objects.so\u001b[0m in \u001b[0;36mh5py._objects.with_phil.wrapper (/tmp/easy_install-WQ0Rro/h5py-2.4.0/h5py/_objects.c:2362)\u001b[1;34m()\u001b[0m\n",
        "\u001b[1;32m/usr/local/lib/python2.7/site-packages/h5py-2.4.0-py2.7-linux-x86_64.egg/h5py/h5f.so\u001b[0m in \u001b[0;36mh5py.h5f.open (/tmp/easy_install-WQ0Rro/h5py-2.4.0/h5py/h5f.c:1738)\u001b[1;34m()\u001b[0m\n",
        "\u001b[1;31mIOError\u001b[0m: Unable to open file (Unable to find a valid file signature)"
       ]
      }
     ],
     "prompt_number": 8
    },
    {
     "cell_type": "code",
     "collapsed": false,
     "input": [
      "filter(None, os.popen('ls %s/%s/NADE*.hdf5'%( nade.args['resultspath'], nade.args['label'])).read().split('\\n'))"
     ],
     "language": "python",
     "metadata": {},
     "outputs": []
    }
   ],
   "metadata": {}
  }
 ]
}